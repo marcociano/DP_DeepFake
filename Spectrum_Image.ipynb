{
 "cells": [
  {
   "cell_type": "code",
   "execution_count": 1,
   "id": "7e787bcc-e3e7-41ab-af26-3ca4acdd1a23",
   "metadata": {
    "editable": true,
    "slideshow": {
     "slide_type": ""
    },
    "tags": []
   },
   "outputs": [],
   "source": [
    "import os\n",
    "import cv2\n",
    "import numpy as np\n",
    "import matplotlib.pyplot as plt\n",
    "from tqdm import tqdm"
   ]
  },
  {
   "cell_type": "code",
   "execution_count": 2,
   "id": "1c149819-d098-461b-8ef4-1d7102daa6a2",
   "metadata": {
    "editable": true,
    "slideshow": {
     "slide_type": ""
    },
    "tags": []
   },
   "outputs": [],
   "source": [
    "# Funzione per la trasformata di Fourier e la visualizzazione dello spettro\n",
    "def fourier_transform(image):\n",
    "    # Calcola la trasformata di Fourier\n",
    "    f_transform = np.fft.fft2(image)\n",
    "    f_shift = np.fft.fftshift(f_transform)\n",
    "    \n",
    "    # Calcola lo spettro di magnitudine\n",
    "    magnitude_spectrum = 20 * np.log(np.abs(f_shift))\n",
    "    \n",
    "    return magnitude_spectrum"
   ]
  },
  {
   "cell_type": "markdown",
   "id": "3d92f134-479f-4dda-b5d2-3cc9eb3992c5",
   "metadata": {},
   "source": [
    "Effettuo la trasformazione delle immagini generate con il modello BigGAN dal dominio spaziale al dominio delle frequenze effettuando la trasformata di Fourier"
   ]
  },
  {
   "cell_type": "code",
   "execution_count": 5,
   "id": "62c8b703-0b98-40d2-bfd9-7136d3e44f17",
   "metadata": {
    "scrolled": true
   },
   "outputs": [
    {
     "name": "stderr",
     "output_type": "stream",
     "text": [
      "Elaborazione delle immagini: 100%|██████████████████████████████████████████████| 10000/10000 [00:21<00:00, 475.61it/s]\n"
     ]
    }
   ],
   "source": [
    "# Funzione per elaborare tutte le immagini nelle sotto-cartelle\n",
    "def process_images_in_subfolders(input_folder, output_folder):\n",
    "    for root, dirs, files in os.walk(input_folder):\n",
    "        for file_name in files:\n",
    "            if file_name.endswith(\".jpg\") :\n",
    "               image_files.append(os.path.join(root, file_name))\n",
    "\n",
    "    # Inizializza la barra di avanzamento con il numero totale di immagini\n",
    "    with tqdm(total=len(image_files), desc=\"Elaborazione delle immagini\") as pbar:\n",
    "        # Ciclo attraverso tutte le immagini e le elabora\n",
    "        for image_path in image_files:\n",
    "            # Carica l'immagine\n",
    "            image = cv2.imread(image_path, cv2.IMREAD_GRAYSCALE)\n",
    "            \n",
    "            # Applica la trasformata di Fourier\n",
    "            spectrum = fourier_transform(image)\n",
    "            \n",
    "            # Crea il percorso di output mantenendo la struttura delle sotto-cartelle\n",
    "            relative_path = os.path.relpath(os.path.dirname(image_path), input_folder)\n",
    "            output_subfolder = os.path.join(output_folder, relative_path)\n",
    "            output_path = os.path.join(output_subfolder, os.path.basename(image_path))\n",
    "            \n",
    "            # Assicurati che la sotto-cartella di output esista, altrimenti creala\n",
    "            if not os.path.exists(output_subfolder):\n",
    "                os.makedirs(output_subfolder)\n",
    "            \n",
    "            # Salva l'immagine nello spazio delle frequenze\n",
    "            cv2.imwrite(output_path, spectrum)\n",
    "            \n",
    "            # Aggiorna la barra di avanzamento\n",
    "            pbar.update(1)\n",
    "\n",
    "# Cartella contenente le immagini\n",
    "input_folder = \"D:\\\\archive\\\\big_gan\\\\big\\\\biggan-data\"\n",
    "\n",
    "# Cartella di destinazione per le immagini nello spazio delle frequenze\n",
    "output_folder = \"D:\\\\archive\\\\big_gan\\\\big\\\\spectrum_big_gan\"\n",
    "\n",
    "# Assicurati che la cartella di destinazione esista, altrimenti creala\n",
    "if not os.path.exists(output_folder):\n",
    "    os.makedirs(output_folder)\n",
    "\n",
    "# Elabora tutte le immagini nelle sotto-cartelle\n",
    "process_images_in_subfolders(input_folder, output_folder)"
   ]
  },
  {
   "cell_type": "code",
   "execution_count": null,
   "id": "08ec06e9-12b6-4e3a-b5e2-80c027d6df8f",
   "metadata": {
    "editable": true,
    "slideshow": {
     "slide_type": ""
    },
    "tags": []
   },
   "outputs": [],
   "source": [
    "# Funzione per elaborare tutte le immagini nelle sotto-cartelle\n",
    "def process_images_in_subfolders(input_folder, output_folder):\n",
    "    for root, dirs, files in os.walk(input_folder):\n",
    "        for file_name in files:\n",
    "            if file_name.endswith(\".jpg\") :\n",
    "               image_files.append(os.path.join(root, file_name))\n",
    "\n",
    "    # Inizializza la barra di avanzamento con il numero totale di immagini\n",
    "    with tqdm(total=len(image_files), desc=\"Elaborazione delle immagini\") as pbar:\n",
    "        # Ciclo attraverso tutte le immagini e le elabora\n",
    "        for image_path in image_files:\n",
    "            # Carica l'immagine\n",
    "            image = cv2.imread(image_path, cv2.IMREAD_GRAYSCALE)\n",
    "            \n",
    "            # Applica la trasformata di Fourier\n",
    "            spectrum = fourier_transform(image)\n",
    "            \n",
    "            # Crea il percorso di output mantenendo la struttura delle sotto-cartelle\n",
    "            relative_path = os.path.relpath(os.path.dirname(image_path), input_folder)\n",
    "            output_subfolder = os.path.join(output_folder, relative_path)\n",
    "            output_path = os.path.join(output_subfolder, os.path.basename(image_path))\n",
    "            \n",
    "            # Assicurati che la sotto-cartella di output esista, altrimenti creala\n",
    "            if not os.path.exists(output_subfolder):\n",
    "                os.makedirs(output_subfolder)\n",
    "            \n",
    "            # Salva l'immagine nello spazio delle frequenze\n",
    "            cv2.imwrite(output_path, spectrum)\n",
    "            \n",
    "            # Aggiorna la barra di avanzamento\n",
    "            pbar.update(1)\n",
    "\n",
    "# Cartella contenente le immagini\n",
    "input_folder = \"D:\\\\archive\\\\big_gan\\\\big\\\\biggan-data\"\n",
    "\n",
    "# Cartella di destinazione per le immagini nello spazio delle frequenze\n",
    "output_folder = \"D:\\\\archive\\\\big_gan\\\\big\\\\spectrum_big_gan\"\n",
    "\n",
    "# Assicurati che la cartella di destinazione esista, altrimenti creala\n",
    "if not os.path.exists(output_folder):\n",
    "    os.makedirs(output_folder)\n",
    "\n",
    "# Elabora tutte le immagini nelle sotto-cartelle\n",
    "process_images_in_subfolders(input_folder, output_folder)"
   ]
  }
 ],
 "metadata": {
  "kernelspec": {
   "display_name": "Python 3 (ipykernel)",
   "language": "python",
   "name": "python3"
  },
  "language_info": {
   "codemirror_mode": {
    "name": "ipython",
    "version": 3
   },
   "file_extension": ".py",
   "mimetype": "text/x-python",
   "name": "python",
   "nbconvert_exporter": "python",
   "pygments_lexer": "ipython3",
   "version": "3.11.9"
  }
 },
 "nbformat": 4,
 "nbformat_minor": 5
}
