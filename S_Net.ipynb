{
 "cells": [
  {
   "cell_type": "code",
   "execution_count": 1,
   "id": "c049c75e-8622-45e3-8d22-08f159d067e9",
   "metadata": {},
   "outputs": [],
   "source": [
    "import pandas as pd\n",
    "import numpy as np\n",
    "import matplotlib.pyplot as plt\n",
    "import torch\n",
    "import timm\n",
    "import os\n",
    "import torch.nn.functional as F\n",
    "from torch import nn\n",
    "from torch.utils.data import Dataset, DataLoader\n",
    "from skimage import io\n",
    "from sklearn.model_selection import train_test_split\n",
    "from tqdm import tqdm\n",
    "import cv2"
   ]
  },
  {
   "cell_type": "code",
   "execution_count": 2,
   "id": "79d934d3-8519-4bf4-931a-c9fd78ffb283",
   "metadata": {},
   "outputs": [],
   "source": [
    "#Controllo che torch sia installato con CUDA abilitato\n",
    "def check_cuda():\n",
    "    print(torch.version.cuda)\n",
    "    cuda_is_ok = torch.cuda.is_available()\n",
    "    print(f\"CUDA Enabled: {cuda_is_ok}\")"
   ]
  },
  {
   "cell_type": "code",
   "execution_count": 3,
   "id": "f4971006-88ee-414f-9926-145d1c7e94b8",
   "metadata": {},
   "outputs": [
    {
     "name": "stdout",
     "output_type": "stream",
     "text": [
      "11.7\n"
     ]
    }
   ],
   "source": [
    "print(torch.version.cuda)"
   ]
  },
  {
   "cell_type": "code",
   "execution_count": 4,
   "id": "4b339558-6af2-4750-916c-bcdb35974c29",
   "metadata": {},
   "outputs": [],
   "source": [
    "#Directory per i file di train\n",
    "DATA_DIR = ''\n",
    "\n",
    "#Grandezza del Batch (iperparametro)\n",
    "BATCH_SIZE = 32\n",
    "\n",
    "#Learning Rate (Iperparametro)\n",
    "LR = 0.001\n",
    "\n",
    "#Numero di epoche (Iperparametro)\n",
    "EPOCHS = 30\n",
    "\n",
    "DEVICE = 'cuda'"
   ]
  },
  {
   "cell_type": "code",
   "execution_count": 5,
   "id": "1061cf99-c4d1-476a-bfa8-ba6284d51661",
   "metadata": {},
   "outputs": [
    {
     "name": "stdout",
     "output_type": "stream",
     "text": [
      "96000\n",
      "24000\n"
     ]
    }
   ],
   "source": [
    "#Split del file csv da sottomettere alla rete neurale\n",
    "df = pd.read_csv(\"spectrum_train_dataset.csv\")\n",
    "df.head()\n",
    "#train_df, valid_df = train_test_split(df, test_size = 0.20, random_state = 42)\n",
    "df_real = pd.read_csv(\"real_image_dataset.csv\")\n",
    "df_fake = pd.read_csv(\"fake_image_dataset.csv\")\n",
    "\n",
    "train_df_real, valid_df_real = train_test_split(df_real, test_size = 0.20, random_state = 42)\n",
    "train_df_fake, valid_df_fake = train_test_split(df_fake, test_size = 0.20, random_state = 42)\n",
    "\n",
    "train_df = pd.concat([train_df_real, train_df_fake])\n",
    "valid_df = pd.concat([valid_df_real, valid_df_fake])\n",
    "\n",
    "train_df= train_df.sample(frac= 1)\n",
    "valid_df= valid_df.sample(frac= 1)\n",
    "#msk = np.random.rand(len(df)) <= 0.8\n",
    "#train_df = df[msk]\n",
    "#valid_df = df[~msk]\n",
    "print(len(train_df))\n",
    "print(len(valid_df))"
   ]
  },
  {
   "cell_type": "code",
   "execution_count": 6,
   "id": "03d18e77-245e-46d9-bc4b-38042ede388a",
   "metadata": {},
   "outputs": [],
   "source": [
    "# Carico le immagini del file CSV che ho fornito, per settarle in modo corretto e darle in input alla rete neurale\n",
    "class APN_Dataset(Dataset):\n",
    "\n",
    "  def __init__(self, df):\n",
    "    self.df = df\n",
    "\n",
    "  def __len__(self):\n",
    "    return len(self.df)\n",
    "\n",
    "  def __getitem__(self, idx):\n",
    "    row = self.df.iloc[idx]\n",
    "\n",
    "    A_img = io.imread(DATA_DIR + row.Anchor)\n",
    "    P_img = io.imread(DATA_DIR + row.Positive)\n",
    "    N_img = io.imread(DATA_DIR + row.Negative)\n",
    "\n",
    "    \n",
    "    #Permute because the third channel has to be in first channel in torch\n",
    "\n",
    "    #A_img = torch.from_numpy(A_img).permute(2, 0, 1) / 255.0\n",
    "    #P_img = torch.from_numpy(P_img).permute(2, 0, 1) / 255.0\n",
    "    #N_img = torch.from_numpy(N_img).permute(2, 0, 1) / 255.0\n",
    "\n",
    "\n",
    "    A_img = np.expand_dims(A_img, 0)\n",
    "    P_img = np.expand_dims(P_img, 0)\n",
    "    N_img = np.expand_dims(N_img, 0)\n",
    "\n",
    "    A_img = torch.from_numpy(A_img) / 255.0\n",
    "    P_img = torch.from_numpy(P_img) / 255.0\n",
    "    N_img = torch.from_numpy(N_img) / 255.0\n",
    "\n",
    "    #A_img = torch.from_numpy(A_img.astype(np.int32)) / 65536.0\n",
    "    #P_img = torch.from_numpy(P_img.astype(np.int32)) / 65536.0\n",
    "    #N_img = torch.from_numpy(N_img.astype(np.int32)) / 65536.0\n",
    "\n",
    "    return A_img, P_img, N_img"
   ]
  },
  {
   "cell_type": "code",
   "execution_count": 7,
   "id": "155262e9-605e-47ac-b29b-206337ac7847",
   "metadata": {},
   "outputs": [
    {
     "name": "stdout",
     "output_type": "stream",
     "text": [
      "torch.Size([1, 200, 200])\n"
     ]
    }
   ],
   "source": [
    "data = APN_Dataset(train_df)\n",
    "item1, item2, item3 = data.__getitem__(0)\n",
    "print(item1.shape)"
   ]
  },
  {
   "cell_type": "markdown",
   "id": "c47edd68-032d-4893-a36c-127895563e56",
   "metadata": {},
   "source": [
    "Qui di seguito mi stampo il numero che compone l'insieme di dati di train e il numero che compone l'insieme di dati di validation"
   ]
  },
  {
   "cell_type": "code",
   "execution_count": 8,
   "id": "e65299e8-9581-4595-a6f5-07e5568b0d46",
   "metadata": {},
   "outputs": [
    {
     "name": "stdout",
     "output_type": "stream",
     "text": [
      "Size of trainset: 96000\n",
      "Size of validset: 24000\n"
     ]
    }
   ],
   "source": [
    "trainset = APN_Dataset(train_df)\n",
    "validset = APN_Dataset(valid_df)\n",
    "\n",
    "print(f\"Size of trainset: {len(trainset)}\")\n",
    "print(f\"Size of validset: {len(validset)}\")"
   ]
  },
  {
   "cell_type": "markdown",
   "id": "f0db331c-6d35-4fb3-8ceb-632e59b70a65",
   "metadata": {},
   "source": [
    "Carichiamo i dati di train e validation nella batch"
   ]
  },
  {
   "cell_type": "code",
   "execution_count": 9,
   "id": "fd299359-b3c3-4714-a276-3cd729ef3235",
   "metadata": {},
   "outputs": [],
   "source": [
    "trainloader = DataLoader(trainset, batch_size = BATCH_SIZE, shuffle = True)\n",
    "validloader = DataLoader(validset, batch_size = BATCH_SIZE)"
   ]
  },
  {
   "cell_type": "code",
   "execution_count": 10,
   "id": "240a522f-42d0-4499-ab22-7ddf7e8976e4",
   "metadata": {},
   "outputs": [
    {
     "name": "stdout",
     "output_type": "stream",
     "text": [
      "No. of batches in trainloader : 3000\n",
      "No. of batches in validloader : 750\n"
     ]
    }
   ],
   "source": [
    "print(f\"No. of batches in trainloader : {len(trainloader)}\")\n",
    "print(f\"No. of batches in validloader : {len(validloader)}\")"
   ]
  },
  {
   "cell_type": "markdown",
   "id": "1158e1df-d8b4-42f9-9f21-0e5328847270",
   "metadata": {},
   "source": [
    "Questa funzione definisce un modello di rete neurale chiamato APN_Model, che carica un'architettura di rete preaddestrata e sostituisce il classificatore finale con un nuovo classificatore personalizzato."
   ]
  },
  {
   "cell_type": "code",
   "execution_count": 11,
   "id": "29a6a526-fdac-4a44-9de8-d69a057a3369",
   "metadata": {},
   "outputs": [],
   "source": [
    "#Carico il modello di rete neurale\n",
    "class APN_Model(nn.Module):\n",
    "\n",
    "    #Viene definita la size del vettore di embedding\n",
    "  def __init__(self, emb_size = 512):\n",
    "    super(APN_Model, self).__init__()\n",
    "\n",
    "    #QUI CAIRCATE IL MODELLO, IN QUESTO CASO EFFICIENTNET VERSIONE B0 (LA PIù LEGGERA DELLA FAMIGLIA)\n",
    "    self.efficientnet = timm.create_model('tf_efficientnetv2_b0', pretrained = False)\n",
    "    self.efficientnet.classifier = nn.Linear(in_features=self.efficientnet.classifier.in_features, out_features = emb_size)\n",
    "\n",
    "  def forward(self, images):\n",
    "    embeddings = self.efficientnet(images)\n",
    "    return embeddings"
   ]
  },
  {
   "cell_type": "code",
   "execution_count": 12,
   "id": "a2744ff4-084e-4ab3-ba35-1cfb5ece3706",
   "metadata": {},
   "outputs": [],
   "source": [
    "#QUI FATE UNA PICCOLA MODIFICA ALLA RETE PER FARLE AVERE IN INPUT IMMAGINI IN SCALA DI GRIGIO DELLO SPETTRO DI FOURIER\n",
    "model = APN_Model()\n",
    "model.efficientnet.conv_stem = nn.Conv2d(1, 32, 3, 2, 1, bias=False);\n",
    "\n",
    "model.to(DEVICE);"
   ]
  },
  {
   "cell_type": "code",
   "execution_count": 13,
   "id": "7f1e6e71-ad4e-44c3-a53e-10fcbd8fd7be",
   "metadata": {},
   "outputs": [],
   "source": [
    "#FUNZIONE DI TRAINING\n",
    "def train_fn(model, dataloader, optimizer, criterion):\n",
    "  model.train() #ON Dropout\n",
    "  total_loss = 0.0\n",
    "\n",
    "  for A, P, N in tqdm(dataloader):\n",
    "    A, P, N = A.to(DEVICE), P.to(DEVICE), N.to(DEVICE)\n",
    "\n",
    "    A_embs = model(A)\n",
    "    P_embs = model(P)\n",
    "    N_embs = model(N)\n",
    "\n",
    "    print(A_embs.shape)\n",
    "      \n",
    "    loss = criterion(A_embs, P_embs, N_embs)\n",
    "\n",
    "    optimizer.zero_grad()\n",
    "    loss.backward()\n",
    "    optimizer.step()\n",
    "\n",
    "    total_loss += loss.item()\n",
    "\n",
    "    return total_loss / len(dataloader)"
   ]
  },
  {
   "cell_type": "code",
   "execution_count": 14,
   "id": "97248e6d-1321-48d8-a973-28f74e60eb3e",
   "metadata": {},
   "outputs": [],
   "source": [
    "#FUNZIONE DI EVALUATION\n",
    "def eval_fn(model, dataloader, criterion):\n",
    "  model.eval() #OFF Dropout\n",
    "  total_loss = 0.0\n",
    "\n",
    "  with torch.no_grad():\n",
    "    for A, P, N in tqdm(dataloader):\n",
    "      A, P, N = A.to(DEVICE), P.to(DEVICE), N.to(DEVICE)\n",
    "\n",
    "      A_embs = model(A)\n",
    "      P_embs = model(P)\n",
    "      N_embs = model(N)\n",
    "\n",
    "      loss = criterion(A_embs, P_embs, N_embs)\n",
    "\n",
    "      total_loss += loss.item()\n",
    "\n",
    "    return total_loss / len(dataloader)"
   ]
  },
  {
   "cell_type": "code",
   "execution_count": 15,
   "id": "8730717b-a280-4a4e-9dab-a9398d9f1e67",
   "metadata": {},
   "outputs": [],
   "source": [
    "criterion = nn.TripletMarginLoss()\n",
    "optimizer = torch.optim.Adam(model.parameters(), lr = LR)"
   ]
  },
  {
   "cell_type": "code",
   "execution_count": 16,
   "id": "0a2ac07f-cb59-48bd-b6c5-1b2fbb8d3ce5",
   "metadata": {
    "scrolled": true
   },
   "outputs": [
    {
     "name": "stderr",
     "output_type": "stream",
     "text": [
      "  0%|                                                                                         | 0/3000 [00:00<?, ?it/s]"
     ]
    },
    {
     "name": "stdout",
     "output_type": "stream",
     "text": [
      "torch.Size([32, 512])\n"
     ]
    },
    {
     "name": "stderr",
     "output_type": "stream",
     "text": [
      "  0%|                                                                                         | 0/3000 [00:02<?, ?it/s]\n",
      "100%|████████████████████████████████████████████████████████████████████████████████| 750/750 [04:54<00:00,  2.55it/s]\n"
     ]
    },
    {
     "name": "stdout",
     "output_type": "stream",
     "text": [
      "SAVED_WEIGHTS_SUCCESS\n",
      "EPOCHS : 1 train_loss : 0.00048072250684102374 valid_loss : 0.9999842095375061\n"
     ]
    },
    {
     "name": "stderr",
     "output_type": "stream",
     "text": [
      "  0%|                                                                                         | 0/3000 [00:00<?, ?it/s]\n"
     ]
    },
    {
     "name": "stdout",
     "output_type": "stream",
     "text": [
      "torch.Size([32, 512])\n"
     ]
    },
    {
     "name": "stderr",
     "output_type": "stream",
     "text": [
      "100%|████████████████████████████████████████████████████████████████████████████████| 750/750 [02:46<00:00,  4.51it/s]"
     ]
    },
    {
     "name": "stdout",
     "output_type": "stream",
     "text": [
      "SAVED_WEIGHTS_SUCCESS\n",
      "EPOCHS : 2 train_loss : 0.00043268974622090656 valid_loss : 0.9999818476835887\n"
     ]
    },
    {
     "name": "stderr",
     "output_type": "stream",
     "text": [
      "\n"
     ]
    }
   ],
   "source": [
    "#Training\n",
    "best_valid_loss = np.Inf\n",
    "training_loss = []\n",
    "validation_loss = []\n",
    "for i in range(EPOCHS):\n",
    "  train_loss = train_fn(model, trainloader, optimizer, criterion)\n",
    "  valid_loss = eval_fn(model, validloader, criterion)\n",
    "  training_loss.append(train_loss)\n",
    "  validation_loss.append(valid_loss)\n",
    "\n",
    "  if valid_loss < best_valid_loss:\n",
    "    torch.save(model.state_dict(), 'trained_model.pt')\n",
    "    best_valid_loss = valid_loss\n",
    "    print(\"SAVED_WEIGHTS_SUCCESS\")\n",
    "\n",
    "  print(f\"EPOCHS : {i+1} train_loss : {train_loss} valid_loss : {valid_loss}\")"
   ]
  },
  {
   "cell_type": "code",
   "execution_count": 34,
   "id": "b5f298eb-9e92-41c4-b43d-df7444372761",
   "metadata": {},
   "outputs": [
    {
     "data": {
      "image/png": "[encoded data removed]",
      "text/plain": [
       "<Figure size 1000x600 with 2 Axes>"
      ]
     },
     "metadata": {},
     "output_type": "display_data"
    }
   ],
   "source": [
    "#Salvataggio plottato dei dati\n",
    "fig, axes = plt.subplots(2, 1, sharex= True, figsize=(10, 6))\n",
    "axes[0].plot(training_loss)\n",
    "axes[0].set_title('Training Loss')\n",
    "axes[1].plot(validation_loss)\n",
    "axes[1].set_title('Validation Loss')\n",
    "plt.savefig('training_data.png')\n",
    "plt.show()"
   ]
  },
  {
   "cell_type": "code",
   "execution_count": 16,
   "id": "34b5d02a-84f4-43ad-8aee-e69f83b185c9",
   "metadata": {},
   "outputs": [],
   "source": [
    "#QUESTA E' LA FUNZIONE PER GENERARE I VETTORI DI ENCODING\n",
    "def get_encoding_csv(model, anc_img_names, dirFolder):\n",
    "  anc_img_names_arr = np.array(anc_img_names)\n",
    "  encodings = []\n",
    "\n",
    "  model.eval()\n",
    "\n",
    "  with torch.no_grad():\n",
    "    for i in tqdm(anc_img_names_arr):\n",
    "      A = io.imread(dirFolder + i)\n",
    "      #A = torch.from_numpy(A).permute(2, 0, 1) / 255.0\n",
    "      A = np.expand_dims(A, 0)\n",
    "      A = torch.from_numpy(A.astype(np.int32)) / 255.0\n",
    "      A = A.to(DEVICE)\n",
    "      A_enc = model(A.unsqueeze(0))\n",
    "      encodings.append(A_enc.squeeze().cpu().detach().numpy())\n",
    "\n",
    "    encodings = np.array(encodings)\n",
    "    encodings = pd.DataFrame(encodings)\n",
    "    df_enc = pd.concat([anc_img_names, encodings], axis = 1)\n",
    "\n",
    "    return df_enc"
   ]
  },
  {
   "cell_type": "code",
   "execution_count": 17,
   "id": "5f80498d-2680-4a9c-8f79-409253582b6a",
   "metadata": {},
   "outputs": [
    {
     "name": "stderr",
     "output_type": "stream",
     "text": [
      "100%|████████████████████████████████████████████████████████████████████████████| 20000/20000 [03:50<00:00, 86.75it/s]\n"
     ]
    }
   ],
   "source": [
    "#QUI RICARICO IL MODELLO UNA VOLTA TRAINATO\n",
    "model.load_state_dict(torch.load('trained_model.pt'))\n",
    "\n",
    "#QUI CREO IL DATABASE DI FEATURE VECTORS DEL TRAINING SET\n",
    "df_enc = get_encoding_csv(model, df['Anchor'], DATA_DIR)"
   ]
  },
  {
   "cell_type": "code",
   "execution_count": 18,
   "id": "942034ba-d74e-4bfc-8e4e-fa7e14eda8cf",
   "metadata": {},
   "outputs": [
    {
     "data": {
      "text/html": [
       "<div>\n",
       "<style scoped>\n",
       "    .dataframe tbody tr th:only-of-type {\n",
       "        vertical-align: middle;\n",
       "    }\n",
       "\n",
       "    .dataframe tbody tr th {\n",
       "        vertical-align: top;\n",
       "    }\n",
       "\n",
       "    .dataframe thead th {\n",
       "        text-align: right;\n",
       "    }\n",
       "</style>\n",
       "<table border=\"1\" class=\"dataframe\">\n",
       "  <thead>\n",
       "    <tr style=\"text-align: right;\">\n",
       "      <th></th>\n",
       "      <th>Anchor</th>\n",
       "      <th>0</th>\n",
       "      <th>1</th>\n",
       "      <th>2</th>\n",
       "      <th>3</th>\n",
       "      <th>4</th>\n",
       "      <th>5</th>\n",
       "      <th>6</th>\n",
       "      <th>7</th>\n",
       "      <th>8</th>\n",
       "      <th>...</th>\n",
       "      <th>502</th>\n",
       "      <th>503</th>\n",
       "      <th>504</th>\n",
       "      <th>505</th>\n",
       "      <th>506</th>\n",
       "      <th>507</th>\n",
       "      <th>508</th>\n",
       "      <th>509</th>\n",
       "      <th>510</th>\n",
       "      <th>511</th>\n",
       "    </tr>\n",
       "  </thead>\n",
       "  <tbody>\n",
       "    <tr>\n",
       "      <th>0</th>\n",
       "      <td>dataset\\coco\\coco\\coco2017\\train_spectrum\\img0...</td>\n",
       "      <td>0.133116</td>\n",
       "      <td>0.064841</td>\n",
       "      <td>0.174418</td>\n",
       "      <td>0.115637</td>\n",
       "      <td>0.121340</td>\n",
       "      <td>-0.035175</td>\n",
       "      <td>-0.022632</td>\n",
       "      <td>-0.025268</td>\n",
       "      <td>-0.066944</td>\n",
       "      <td>...</td>\n",
       "      <td>-0.217722</td>\n",
       "      <td>0.079276</td>\n",
       "      <td>0.014068</td>\n",
       "      <td>-0.039233</td>\n",
       "      <td>0.224695</td>\n",
       "      <td>-0.129345</td>\n",
       "      <td>0.254726</td>\n",
       "      <td>-0.093402</td>\n",
       "      <td>-0.262272</td>\n",
       "      <td>-0.213377</td>\n",
       "    </tr>\n",
       "    <tr>\n",
       "      <th>1</th>\n",
       "      <td>dataset\\big_gan\\big\\biggan-spectrum\\495\\img004...</td>\n",
       "      <td>0.145088</td>\n",
       "      <td>0.082898</td>\n",
       "      <td>0.124771</td>\n",
       "      <td>0.002947</td>\n",
       "      <td>0.000588</td>\n",
       "      <td>-0.029483</td>\n",
       "      <td>0.159452</td>\n",
       "      <td>-0.029535</td>\n",
       "      <td>-0.073432</td>\n",
       "      <td>...</td>\n",
       "      <td>-0.484832</td>\n",
       "      <td>0.100996</td>\n",
       "      <td>0.124557</td>\n",
       "      <td>-0.121932</td>\n",
       "      <td>0.291947</td>\n",
       "      <td>-0.146839</td>\n",
       "      <td>0.201720</td>\n",
       "      <td>-0.027696</td>\n",
       "      <td>-0.259420</td>\n",
       "      <td>-0.108230</td>\n",
       "    </tr>\n",
       "    <tr>\n",
       "      <th>2</th>\n",
       "      <td>dataset\\big_gan\\big\\biggan-spectrum\\832\\img008...</td>\n",
       "      <td>-0.017079</td>\n",
       "      <td>0.236167</td>\n",
       "      <td>0.263847</td>\n",
       "      <td>-0.052832</td>\n",
       "      <td>-0.091673</td>\n",
       "      <td>-0.040155</td>\n",
       "      <td>0.114168</td>\n",
       "      <td>0.014277</td>\n",
       "      <td>-0.147295</td>\n",
       "      <td>...</td>\n",
       "      <td>-0.183820</td>\n",
       "      <td>0.059114</td>\n",
       "      <td>0.052157</td>\n",
       "      <td>-0.273852</td>\n",
       "      <td>0.312125</td>\n",
       "      <td>-0.102795</td>\n",
       "      <td>0.166336</td>\n",
       "      <td>-0.031812</td>\n",
       "      <td>-0.242256</td>\n",
       "      <td>-0.270608</td>\n",
       "    </tr>\n",
       "    <tr>\n",
       "      <th>3</th>\n",
       "      <td>dataset\\big_gan\\big\\biggan-spectrum\\225\\img001...</td>\n",
       "      <td>0.187560</td>\n",
       "      <td>0.172489</td>\n",
       "      <td>0.218494</td>\n",
       "      <td>0.036667</td>\n",
       "      <td>0.012987</td>\n",
       "      <td>0.028716</td>\n",
       "      <td>0.270279</td>\n",
       "      <td>0.037207</td>\n",
       "      <td>-0.191036</td>\n",
       "      <td>...</td>\n",
       "      <td>-0.567074</td>\n",
       "      <td>0.099479</td>\n",
       "      <td>0.144657</td>\n",
       "      <td>-0.124538</td>\n",
       "      <td>0.303917</td>\n",
       "      <td>-0.048026</td>\n",
       "      <td>0.221020</td>\n",
       "      <td>-0.061201</td>\n",
       "      <td>-0.177603</td>\n",
       "      <td>-0.158090</td>\n",
       "    </tr>\n",
       "    <tr>\n",
       "      <th>4</th>\n",
       "      <td>dataset\\big_gan\\big\\biggan-spectrum\\362\\img002...</td>\n",
       "      <td>0.140636</td>\n",
       "      <td>0.132048</td>\n",
       "      <td>0.233123</td>\n",
       "      <td>-0.015523</td>\n",
       "      <td>-0.098646</td>\n",
       "      <td>-0.038024</td>\n",
       "      <td>0.325327</td>\n",
       "      <td>-0.017547</td>\n",
       "      <td>-0.229170</td>\n",
       "      <td>...</td>\n",
       "      <td>-0.461644</td>\n",
       "      <td>0.070251</td>\n",
       "      <td>0.094870</td>\n",
       "      <td>-0.217414</td>\n",
       "      <td>0.319907</td>\n",
       "      <td>-0.040396</td>\n",
       "      <td>0.095228</td>\n",
       "      <td>-0.050538</td>\n",
       "      <td>-0.355684</td>\n",
       "      <td>-0.161499</td>\n",
       "    </tr>\n",
       "  </tbody>\n",
       "</table>\n",
       "<p>5 rows × 513 columns</p>\n",
       "</div>"
      ],
      "text/plain": [
       "                                              Anchor         0         1  \\\n",
       "0  dataset\\coco\\coco\\coco2017\\train_spectrum\\img0...  0.133116  0.064841   \n",
       "1  dataset\\big_gan\\big\\biggan-spectrum\\495\\img004...  0.145088  0.082898   \n",
       "2  dataset\\big_gan\\big\\biggan-spectrum\\832\\img008... -0.017079  0.236167   \n",
       "3  dataset\\big_gan\\big\\biggan-spectrum\\225\\img001...  0.187560  0.172489   \n",
       "4  dataset\\big_gan\\big\\biggan-spectrum\\362\\img002...  0.140636  0.132048   \n",
       "\n",
       "          2         3         4         5         6         7         8  ...  \\\n",
       "0  0.174418  0.115637  0.121340 -0.035175 -0.022632 -0.025268 -0.066944  ...   \n",
       "1  0.124771  0.002947  0.000588 -0.029483  0.159452 -0.029535 -0.073432  ...   \n",
       "2  0.263847 -0.052832 -0.091673 -0.040155  0.114168  0.014277 -0.147295  ...   \n",
       "3  0.218494  0.036667  0.012987  0.028716  0.270279  0.037207 -0.191036  ...   \n",
       "4  0.233123 -0.015523 -0.098646 -0.038024  0.325327 -0.017547 -0.229170  ...   \n",
       "\n",
       "        502       503       504       505       506       507       508  \\\n",
       "0 -0.217722  0.079276  0.014068 -0.039233  0.224695 -0.129345  0.254726   \n",
       "1 -0.484832  0.100996  0.124557 -0.121932  0.291947 -0.146839  0.201720   \n",
       "2 -0.183820  0.059114  0.052157 -0.273852  0.312125 -0.102795  0.166336   \n",
       "3 -0.567074  0.099479  0.144657 -0.124538  0.303917 -0.048026  0.221020   \n",
       "4 -0.461644  0.070251  0.094870 -0.217414  0.319907 -0.040396  0.095228   \n",
       "\n",
       "        509       510       511  \n",
       "0 -0.093402 -0.262272 -0.213377  \n",
       "1 -0.027696 -0.259420 -0.108230  \n",
       "2 -0.031812 -0.242256 -0.270608  \n",
       "3 -0.061201 -0.177603 -0.158090  \n",
       "4 -0.050538 -0.355684 -0.161499  \n",
       "\n",
       "[5 rows x 513 columns]"
      ]
     },
     "execution_count": 18,
     "metadata": {},
     "output_type": "execute_result"
    }
   ],
   "source": [
    "#QUI IL DATABASE COME CSV IN MODO TALE DA NON DOVER FARE QUESTA OPERAZIONE OGNI VOLTA\n",
    "#OVVIAMENTE, SE DEVO FARE UN NUOVO TRAINING DEVO ANCHE RICREARE GLI ENCODINGS\n",
    "df_enc.to_csv('database.csv', index = False)\n",
    "\n",
    "df_enc = pd.read_csv('database.csv')\n",
    "df_enc.head()"
   ]
  },
  {
   "cell_type": "code",
   "execution_count": 19,
   "id": "266ff1c7-5028-4e29-bd61-c6cd6be716e5",
   "metadata": {},
   "outputs": [],
   "source": [
    "def euclidean_dist(img_enc, anc_enc_arr):\n",
    "    #dist = np.sqrt(np.dot(img_enc-anc_enc_arr, (img_enc- anc_enc_arr).T))\n",
    "    dist = np.dot(img_enc-anc_enc_arr, (img_enc- anc_enc_arr).T)\n",
    "    #dist = np.sqrt(dist)\n",
    "    return dist"
   ]
  },
  {
   "cell_type": "code",
   "execution_count": 20,
   "id": "c67531ac-5f9d-489a-8162-c678d25acb93",
   "metadata": {
    "scrolled": true
   },
   "outputs": [
    {
     "ename": "FileNotFoundError",
     "evalue": "[Errno 2] No such file or directory: 'testList.csv'",
     "output_type": "error",
     "traceback": [
      "\u001b[1;31m---------------------------------------------------------------------------\u001b[0m",
      "\u001b[1;31mFileNotFoundError\u001b[0m                         Traceback (most recent call last)",
      "Cell \u001b[1;32mIn[20], line 1\u001b[0m\n\u001b[1;32m----> 1\u001b[0m df \u001b[38;5;241m=\u001b[39m \u001b[43mpd\u001b[49m\u001b[38;5;241;43m.\u001b[39;49m\u001b[43mread_csv\u001b[49m\u001b[43m(\u001b[49m\u001b[38;5;124;43m'\u001b[39;49m\u001b[38;5;124;43mtestList.csv\u001b[39;49m\u001b[38;5;124;43m'\u001b[39;49m\u001b[43m)\u001b[49m\n\u001b[0;32m      2\u001b[0m \u001b[38;5;28mprint\u001b[39m(df[\u001b[38;5;124m'\u001b[39m\u001b[38;5;124mreal\u001b[39m\u001b[38;5;124m'\u001b[39m])\n\u001b[0;32m      3\u001b[0m \u001b[38;5;28mprint\u001b[39m(df\u001b[38;5;241m.\u001b[39msize)\n",
      "File \u001b[1;32m~\\AppData\\Local\\Programs\\Python\\Python311\\Lib\\site-packages\\pandas\\io\\parsers\\readers.py:1026\u001b[0m, in \u001b[0;36mread_csv\u001b[1;34m(filepath_or_buffer, sep, delimiter, header, names, index_col, usecols, dtype, engine, converters, true_values, false_values, skipinitialspace, skiprows, skipfooter, nrows, na_values, keep_default_na, na_filter, verbose, skip_blank_lines, parse_dates, infer_datetime_format, keep_date_col, date_parser, date_format, dayfirst, cache_dates, iterator, chunksize, compression, thousands, decimal, lineterminator, quotechar, quoting, doublequote, escapechar, comment, encoding, encoding_errors, dialect, on_bad_lines, delim_whitespace, low_memory, memory_map, float_precision, storage_options, dtype_backend)\u001b[0m\n\u001b[0;32m   1013\u001b[0m kwds_defaults \u001b[38;5;241m=\u001b[39m _refine_defaults_read(\n\u001b[0;32m   1014\u001b[0m     dialect,\n\u001b[0;32m   1015\u001b[0m     delimiter,\n\u001b[1;32m   (...)\u001b[0m\n\u001b[0;32m   1022\u001b[0m     dtype_backend\u001b[38;5;241m=\u001b[39mdtype_backend,\n\u001b[0;32m   1023\u001b[0m )\n\u001b[0;32m   1024\u001b[0m kwds\u001b[38;5;241m.\u001b[39mupdate(kwds_defaults)\n\u001b[1;32m-> 1026\u001b[0m \u001b[38;5;28;01mreturn\u001b[39;00m \u001b[43m_read\u001b[49m\u001b[43m(\u001b[49m\u001b[43mfilepath_or_buffer\u001b[49m\u001b[43m,\u001b[49m\u001b[43m \u001b[49m\u001b[43mkwds\u001b[49m\u001b[43m)\u001b[49m\n",
      "File \u001b[1;32m~\\AppData\\Local\\Programs\\Python\\Python311\\Lib\\site-packages\\pandas\\io\\parsers\\readers.py:620\u001b[0m, in \u001b[0;36m_read\u001b[1;34m(filepath_or_buffer, kwds)\u001b[0m\n\u001b[0;32m    617\u001b[0m _validate_names(kwds\u001b[38;5;241m.\u001b[39mget(\u001b[38;5;124m\"\u001b[39m\u001b[38;5;124mnames\u001b[39m\u001b[38;5;124m\"\u001b[39m, \u001b[38;5;28;01mNone\u001b[39;00m))\n\u001b[0;32m    619\u001b[0m \u001b[38;5;66;03m# Create the parser.\u001b[39;00m\n\u001b[1;32m--> 620\u001b[0m parser \u001b[38;5;241m=\u001b[39m \u001b[43mTextFileReader\u001b[49m\u001b[43m(\u001b[49m\u001b[43mfilepath_or_buffer\u001b[49m\u001b[43m,\u001b[49m\u001b[43m \u001b[49m\u001b[38;5;241;43m*\u001b[39;49m\u001b[38;5;241;43m*\u001b[39;49m\u001b[43mkwds\u001b[49m\u001b[43m)\u001b[49m\n\u001b[0;32m    622\u001b[0m \u001b[38;5;28;01mif\u001b[39;00m chunksize \u001b[38;5;129;01mor\u001b[39;00m iterator:\n\u001b[0;32m    623\u001b[0m     \u001b[38;5;28;01mreturn\u001b[39;00m parser\n",
      "File \u001b[1;32m~\\AppData\\Local\\Programs\\Python\\Python311\\Lib\\site-packages\\pandas\\io\\parsers\\readers.py:1620\u001b[0m, in \u001b[0;36mTextFileReader.__init__\u001b[1;34m(self, f, engine, **kwds)\u001b[0m\n\u001b[0;32m   1617\u001b[0m     \u001b[38;5;28mself\u001b[39m\u001b[38;5;241m.\u001b[39moptions[\u001b[38;5;124m\"\u001b[39m\u001b[38;5;124mhas_index_names\u001b[39m\u001b[38;5;124m\"\u001b[39m] \u001b[38;5;241m=\u001b[39m kwds[\u001b[38;5;124m\"\u001b[39m\u001b[38;5;124mhas_index_names\u001b[39m\u001b[38;5;124m\"\u001b[39m]\n\u001b[0;32m   1619\u001b[0m \u001b[38;5;28mself\u001b[39m\u001b[38;5;241m.\u001b[39mhandles: IOHandles \u001b[38;5;241m|\u001b[39m \u001b[38;5;28;01mNone\u001b[39;00m \u001b[38;5;241m=\u001b[39m \u001b[38;5;28;01mNone\u001b[39;00m\n\u001b[1;32m-> 1620\u001b[0m \u001b[38;5;28mself\u001b[39m\u001b[38;5;241m.\u001b[39m_engine \u001b[38;5;241m=\u001b[39m \u001b[38;5;28;43mself\u001b[39;49m\u001b[38;5;241;43m.\u001b[39;49m\u001b[43m_make_engine\u001b[49m\u001b[43m(\u001b[49m\u001b[43mf\u001b[49m\u001b[43m,\u001b[49m\u001b[43m \u001b[49m\u001b[38;5;28;43mself\u001b[39;49m\u001b[38;5;241;43m.\u001b[39;49m\u001b[43mengine\u001b[49m\u001b[43m)\u001b[49m\n",
      "File \u001b[1;32m~\\AppData\\Local\\Programs\\Python\\Python311\\Lib\\site-packages\\pandas\\io\\parsers\\readers.py:1880\u001b[0m, in \u001b[0;36mTextFileReader._make_engine\u001b[1;34m(self, f, engine)\u001b[0m\n\u001b[0;32m   1878\u001b[0m     \u001b[38;5;28;01mif\u001b[39;00m \u001b[38;5;124m\"\u001b[39m\u001b[38;5;124mb\u001b[39m\u001b[38;5;124m\"\u001b[39m \u001b[38;5;129;01mnot\u001b[39;00m \u001b[38;5;129;01min\u001b[39;00m mode:\n\u001b[0;32m   1879\u001b[0m         mode \u001b[38;5;241m+\u001b[39m\u001b[38;5;241m=\u001b[39m \u001b[38;5;124m\"\u001b[39m\u001b[38;5;124mb\u001b[39m\u001b[38;5;124m\"\u001b[39m\n\u001b[1;32m-> 1880\u001b[0m \u001b[38;5;28mself\u001b[39m\u001b[38;5;241m.\u001b[39mhandles \u001b[38;5;241m=\u001b[39m \u001b[43mget_handle\u001b[49m\u001b[43m(\u001b[49m\n\u001b[0;32m   1881\u001b[0m \u001b[43m    \u001b[49m\u001b[43mf\u001b[49m\u001b[43m,\u001b[49m\n\u001b[0;32m   1882\u001b[0m \u001b[43m    \u001b[49m\u001b[43mmode\u001b[49m\u001b[43m,\u001b[49m\n\u001b[0;32m   1883\u001b[0m \u001b[43m    \u001b[49m\u001b[43mencoding\u001b[49m\u001b[38;5;241;43m=\u001b[39;49m\u001b[38;5;28;43mself\u001b[39;49m\u001b[38;5;241;43m.\u001b[39;49m\u001b[43moptions\u001b[49m\u001b[38;5;241;43m.\u001b[39;49m\u001b[43mget\u001b[49m\u001b[43m(\u001b[49m\u001b[38;5;124;43m\"\u001b[39;49m\u001b[38;5;124;43mencoding\u001b[39;49m\u001b[38;5;124;43m\"\u001b[39;49m\u001b[43m,\u001b[49m\u001b[43m \u001b[49m\u001b[38;5;28;43;01mNone\u001b[39;49;00m\u001b[43m)\u001b[49m\u001b[43m,\u001b[49m\n\u001b[0;32m   1884\u001b[0m \u001b[43m    \u001b[49m\u001b[43mcompression\u001b[49m\u001b[38;5;241;43m=\u001b[39;49m\u001b[38;5;28;43mself\u001b[39;49m\u001b[38;5;241;43m.\u001b[39;49m\u001b[43moptions\u001b[49m\u001b[38;5;241;43m.\u001b[39;49m\u001b[43mget\u001b[49m\u001b[43m(\u001b[49m\u001b[38;5;124;43m\"\u001b[39;49m\u001b[38;5;124;43mcompression\u001b[39;49m\u001b[38;5;124;43m\"\u001b[39;49m\u001b[43m,\u001b[49m\u001b[43m \u001b[49m\u001b[38;5;28;43;01mNone\u001b[39;49;00m\u001b[43m)\u001b[49m\u001b[43m,\u001b[49m\n\u001b[0;32m   1885\u001b[0m \u001b[43m    \u001b[49m\u001b[43mmemory_map\u001b[49m\u001b[38;5;241;43m=\u001b[39;49m\u001b[38;5;28;43mself\u001b[39;49m\u001b[38;5;241;43m.\u001b[39;49m\u001b[43moptions\u001b[49m\u001b[38;5;241;43m.\u001b[39;49m\u001b[43mget\u001b[49m\u001b[43m(\u001b[49m\u001b[38;5;124;43m\"\u001b[39;49m\u001b[38;5;124;43mmemory_map\u001b[39;49m\u001b[38;5;124;43m\"\u001b[39;49m\u001b[43m,\u001b[49m\u001b[43m \u001b[49m\u001b[38;5;28;43;01mFalse\u001b[39;49;00m\u001b[43m)\u001b[49m\u001b[43m,\u001b[49m\n\u001b[0;32m   1886\u001b[0m \u001b[43m    \u001b[49m\u001b[43mis_text\u001b[49m\u001b[38;5;241;43m=\u001b[39;49m\u001b[43mis_text\u001b[49m\u001b[43m,\u001b[49m\n\u001b[0;32m   1887\u001b[0m \u001b[43m    \u001b[49m\u001b[43merrors\u001b[49m\u001b[38;5;241;43m=\u001b[39;49m\u001b[38;5;28;43mself\u001b[39;49m\u001b[38;5;241;43m.\u001b[39;49m\u001b[43moptions\u001b[49m\u001b[38;5;241;43m.\u001b[39;49m\u001b[43mget\u001b[49m\u001b[43m(\u001b[49m\u001b[38;5;124;43m\"\u001b[39;49m\u001b[38;5;124;43mencoding_errors\u001b[39;49m\u001b[38;5;124;43m\"\u001b[39;49m\u001b[43m,\u001b[49m\u001b[43m \u001b[49m\u001b[38;5;124;43m\"\u001b[39;49m\u001b[38;5;124;43mstrict\u001b[39;49m\u001b[38;5;124;43m\"\u001b[39;49m\u001b[43m)\u001b[49m\u001b[43m,\u001b[49m\n\u001b[0;32m   1888\u001b[0m \u001b[43m    \u001b[49m\u001b[43mstorage_options\u001b[49m\u001b[38;5;241;43m=\u001b[39;49m\u001b[38;5;28;43mself\u001b[39;49m\u001b[38;5;241;43m.\u001b[39;49m\u001b[43moptions\u001b[49m\u001b[38;5;241;43m.\u001b[39;49m\u001b[43mget\u001b[49m\u001b[43m(\u001b[49m\u001b[38;5;124;43m\"\u001b[39;49m\u001b[38;5;124;43mstorage_options\u001b[39;49m\u001b[38;5;124;43m\"\u001b[39;49m\u001b[43m,\u001b[49m\u001b[43m \u001b[49m\u001b[38;5;28;43;01mNone\u001b[39;49;00m\u001b[43m)\u001b[49m\u001b[43m,\u001b[49m\n\u001b[0;32m   1889\u001b[0m \u001b[43m\u001b[49m\u001b[43m)\u001b[49m\n\u001b[0;32m   1890\u001b[0m \u001b[38;5;28;01massert\u001b[39;00m \u001b[38;5;28mself\u001b[39m\u001b[38;5;241m.\u001b[39mhandles \u001b[38;5;129;01mis\u001b[39;00m \u001b[38;5;129;01mnot\u001b[39;00m \u001b[38;5;28;01mNone\u001b[39;00m\n\u001b[0;32m   1891\u001b[0m f \u001b[38;5;241m=\u001b[39m \u001b[38;5;28mself\u001b[39m\u001b[38;5;241m.\u001b[39mhandles\u001b[38;5;241m.\u001b[39mhandle\n",
      "File \u001b[1;32m~\\AppData\\Local\\Programs\\Python\\Python311\\Lib\\site-packages\\pandas\\io\\common.py:873\u001b[0m, in \u001b[0;36mget_handle\u001b[1;34m(path_or_buf, mode, encoding, compression, memory_map, is_text, errors, storage_options)\u001b[0m\n\u001b[0;32m    868\u001b[0m \u001b[38;5;28;01melif\u001b[39;00m \u001b[38;5;28misinstance\u001b[39m(handle, \u001b[38;5;28mstr\u001b[39m):\n\u001b[0;32m    869\u001b[0m     \u001b[38;5;66;03m# Check whether the filename is to be opened in binary mode.\u001b[39;00m\n\u001b[0;32m    870\u001b[0m     \u001b[38;5;66;03m# Binary mode does not support 'encoding' and 'newline'.\u001b[39;00m\n\u001b[0;32m    871\u001b[0m     \u001b[38;5;28;01mif\u001b[39;00m ioargs\u001b[38;5;241m.\u001b[39mencoding \u001b[38;5;129;01mand\u001b[39;00m \u001b[38;5;124m\"\u001b[39m\u001b[38;5;124mb\u001b[39m\u001b[38;5;124m\"\u001b[39m \u001b[38;5;129;01mnot\u001b[39;00m \u001b[38;5;129;01min\u001b[39;00m ioargs\u001b[38;5;241m.\u001b[39mmode:\n\u001b[0;32m    872\u001b[0m         \u001b[38;5;66;03m# Encoding\u001b[39;00m\n\u001b[1;32m--> 873\u001b[0m         handle \u001b[38;5;241m=\u001b[39m \u001b[38;5;28;43mopen\u001b[39;49m\u001b[43m(\u001b[49m\n\u001b[0;32m    874\u001b[0m \u001b[43m            \u001b[49m\u001b[43mhandle\u001b[49m\u001b[43m,\u001b[49m\n\u001b[0;32m    875\u001b[0m \u001b[43m            \u001b[49m\u001b[43mioargs\u001b[49m\u001b[38;5;241;43m.\u001b[39;49m\u001b[43mmode\u001b[49m\u001b[43m,\u001b[49m\n\u001b[0;32m    876\u001b[0m \u001b[43m            \u001b[49m\u001b[43mencoding\u001b[49m\u001b[38;5;241;43m=\u001b[39;49m\u001b[43mioargs\u001b[49m\u001b[38;5;241;43m.\u001b[39;49m\u001b[43mencoding\u001b[49m\u001b[43m,\u001b[49m\n\u001b[0;32m    877\u001b[0m \u001b[43m            \u001b[49m\u001b[43merrors\u001b[49m\u001b[38;5;241;43m=\u001b[39;49m\u001b[43merrors\u001b[49m\u001b[43m,\u001b[49m\n\u001b[0;32m    878\u001b[0m \u001b[43m            \u001b[49m\u001b[43mnewline\u001b[49m\u001b[38;5;241;43m=\u001b[39;49m\u001b[38;5;124;43m\"\u001b[39;49m\u001b[38;5;124;43m\"\u001b[39;49m\u001b[43m,\u001b[49m\n\u001b[0;32m    879\u001b[0m \u001b[43m        \u001b[49m\u001b[43m)\u001b[49m\n\u001b[0;32m    880\u001b[0m     \u001b[38;5;28;01melse\u001b[39;00m:\n\u001b[0;32m    881\u001b[0m         \u001b[38;5;66;03m# Binary mode\u001b[39;00m\n\u001b[0;32m    882\u001b[0m         handle \u001b[38;5;241m=\u001b[39m \u001b[38;5;28mopen\u001b[39m(handle, ioargs\u001b[38;5;241m.\u001b[39mmode)\n",
      "\u001b[1;31mFileNotFoundError\u001b[0m: [Errno 2] No such file or directory: 'testList.csv'"
     ]
    }
   ],
   "source": [
    "df = pd.read_csv('testList.csv')\n",
    "print(df['real'])\n",
    "print(df.size)\n",
    "df.head()"
   ]
  },
  {
   "cell_type": "code",
   "execution_count": 3,
   "id": "530af24f-2baa-4e9b-8192-a9a5191ef6aa",
   "metadata": {},
   "outputs": [],
   "source": [
    "def getImageEmbeddings(img, model):\n",
    "\n",
    "    img = np.expand_dims(img, 0);\n",
    "    img = torch.from_numpy(img) / 255;\n",
    "    model.eval();\n",
    "\n",
    "    with torch.no_grad():\n",
    "        img = img.to(DEVICE);\n",
    "        img_enc = model(img.unsqueeze(0));\n",
    "        img_enc = img_enc.detach().cpu().numpy();\n",
    "        img_enc = np.array(img_enc);\n",
    "\n",
    "    return img_enc;"
   ]
  },
  {
   "cell_type": "code",
   "execution_count": 4,
   "id": "947e62e6-0929-4948-9082-8702b5aa7868",
   "metadata": {},
   "outputs": [],
   "source": [
    "def searchInDatabase(img_enc, database):\n",
    "    anc_enc_arr = database.iloc[:, 1:].to_numpy();\n",
    "    anc_img_names = database['Anchor'];\n",
    "\n",
    "    distance = [];\n",
    "    for i in range(anc_enc_arr.shape[0]):\n",
    "        dist = euclidean_dist(img_enc, anc_enc_arr[i : i+1, :]);\n",
    "        distance = np.append(distance, dist);\n",
    "\n",
    "    closest_idx = np.argsort(distance);\n",
    "\n",
    "    return database['Anchor'][closest_idx[0]];"
   ]
  },
  {
   "cell_type": "code",
   "execution_count": 5,
   "id": "2cdd831a-7745-448b-9d2f-180f88d081e9",
   "metadata": {},
   "outputs": [
    {
     "ename": "NameError",
     "evalue": "name 'current_dir' is not defined",
     "output_type": "error",
     "traceback": [
      "\u001b[1;31m---------------------------------------------------------------------------\u001b[0m",
      "\u001b[1;31mNameError\u001b[0m                                 Traceback (most recent call last)",
      "Cell \u001b[1;32mIn[5], line 1\u001b[0m\n\u001b[1;32m----> 1\u001b[0m DataTestReal \u001b[38;5;241m=\u001b[39m os\u001b[38;5;241m.\u001b[39mpath\u001b[38;5;241m.\u001b[39mjoin(\u001b[43mcurrent_dir\u001b[49m, \u001b[38;5;124m\"\u001b[39m\u001b[38;5;124mtest\u001b[39m\u001b[38;5;124m\"\u001b[39m)\n\u001b[0;32m      2\u001b[0m y_true \u001b[38;5;241m=\u001b[39m []\n\u001b[0;32m      3\u001b[0m y_pred \u001b[38;5;241m=\u001b[39m []\n",
      "\u001b[1;31mNameError\u001b[0m: name 'current_dir' is not defined"
     ]
    }
   ],
   "source": [
    "current_dir = os.getcwd()\n",
    "DataTestReal = os.path.join(current_dir, \"test\")\n",
    "y_true = []\n",
    "y_pred = []\n",
    "tempDf = df\n",
    "tempDf.head()\n",
    "tempDf.shape"
   ]
  },
  {
   "cell_type": "code",
   "execution_count": null,
   "id": "d475fe4f-af74-49b2-8658-eaf9df6dac04",
   "metadata": {},
   "outputs": [],
   "source": [
    "#Testo i fake\n",
    "currentTest = 'fake'\n",
    "database = df_enc\n",
    "# Prendo i primi 500 Fake\n",
    "for index, row in tqdm(tempDf.iterrows()):\n",
    "    img_name = DataTestReal + row[currentTest];\n",
    "\n",
    "    img = io.imread(img_name);\n",
    "\n",
    "    img_enc = getImageEmbeddings(img, model);\n",
    "\n",
    "    closestLabel = searchInDatabase(img_enc, database);\n",
    "\n",
    "    if \"real\" in closestLabel:\n",
    "        y_pred.append(\"real\");\n",
    "    else:\n",
    "        y_pred.append(\"fake\");"
   ]
  },
  {
   "cell_type": "code",
   "execution_count": null,
   "id": "a3bf7a9c-166b-492e-a361-adcd423ad494",
   "metadata": {},
   "outputs": [],
   "source": [
    "print(len(y_true))\n",
    "print(len(y_pred))\n",
    "print(y_pred)"
   ]
  },
  {
   "cell_type": "code",
   "execution_count": null,
   "id": "006475ed-1dc6-4b4f-8ffb-094bd18c6940",
   "metadata": {},
   "outputs": [],
   "source": [
    "database = df_enc"
   ]
  },
  {
   "cell_type": "code",
   "execution_count": null,
   "id": "c8f0808d-3a4b-40b3-9da5-156e06c27dc8",
   "metadata": {},
   "outputs": [],
   "source": [
    "#Testo i real\n",
    "currentTest = 'real'\n",
    "## Prendo i primi 500 Fake\n",
    "for index, row in tqdm(tempDf.iterrows()):\n",
    "    img_name = DataTestReal + row[currentTest]\n",
    "    img = io.imread(img_name)\n",
    "\n",
    "    img_enc = getImageEmbeddings(img, model)\n",
    "\n",
    "    closestLabel = searchInDatabase(img_enc, database)\n",
    "    if \"real\" in closestLabel:\n",
    "        y_pred.append(\"real\")\n",
    "    else:\n",
    "        y_pred.append(\"fake\")"
   ]
  },
  {
   "cell_type": "code",
   "execution_count": null,
   "id": "c7f1d2ff-78c4-47a1-810b-bb37a25c2e17",
   "metadata": {},
   "outputs": [],
   "source": [
    "print(len(y_true))\n",
    "print(len(y_pred))\n",
    "print(y_pred)"
   ]
  },
  {
   "cell_type": "code",
   "execution_count": null,
   "id": "cf5211ed-dc2f-46a8-9e9b-5b1da8f4e251",
   "metadata": {},
   "outputs": [],
   "source": [
    "#Creo i vettori di ground truth\n",
    "y_true = np.array(['fake'] * 1523)\n",
    "print(y_true.shape)\n",
    "\n",
    "temp = np.array(['real'] * 1523)\n",
    "print(temp.shape)\n",
    "\n",
    "y_true = np.concatenate([y_true, temp])\n",
    "print(y_true.shape)\n",
    "\n",
    "#Calcolo la matrice di confusione\n",
    "from sklearn.metrics import confusion_matrix\n",
    "confusion_matrix(y_true, y_pred, labels=[\"real\", \"fake\"])"
   ]
  },
  {
   "cell_type": "code",
   "execution_count": null,
   "id": "d3f6919e-0506-4f06-9eae-9be47d1d063a",
   "metadata": {},
   "outputs": [],
   "source": [
    "#Estraggo dalla matrice di confusione i True Negative, False Positive, False Negative, True Positive\n",
    "TN, FP, FN, TP = confusion_matrix(y_true, y_pred, labels=[\"real\", \"fake\"]).ravel()"
   ]
  },
  {
   "cell_type": "code",
   "execution_count": null,
   "id": "746a9283-0526-418d-bb15-8f69fd29c349",
   "metadata": {},
   "outputs": [],
   "source": [
    "#Calcolo alcune metriche per vedere come si comporta\n",
    "accuracy = round((TP + TN) /(TP + TN + FP + FN), 4) * 100\n",
    "precision = round((TP) / (TP + FP), 4) * 100\n",
    "sensitivy_recall = round((TP) / (TP + FN), 4) * 100\n",
    "specificity = round((TN) / (TN + FP) * 100, 4)\n",
    "F1_score = round((2* precision * sensitivy_recall) / (precision + sensitivy_recall), 2)\n",
    "\n",
    "print({\"Accuracy\":accuracy,\"Precision\":precision,\"Sensitivity_recall\":sensitivy_recall, \"Specificity\": specificity, \"F1_score\":F1_score})"
   ]
  }
 ],
 "metadata": {
  "kernelspec": {
   "display_name": "Python 3 (ipykernel)",
   "language": "python",
   "name": "python3"
  },
  "language_info": {
   "codemirror_mode": {
    "name": "ipython",
    "version": 3
   },
   "file_extension": ".py",
   "mimetype": "text/x-python",
   "name": "python",
   "nbconvert_exporter": "python",
   "pygments_lexer": "ipython3",
   "version": "3.11.9"
  }
 },
 "nbformat": 4,
 "nbformat_minor": 5
}
