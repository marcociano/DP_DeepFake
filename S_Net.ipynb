{
 "cells": [
  {
   "cell_type": "code",
   "execution_count": 1,
   "id": "b13eac17-2e8f-4c3e-a4aa-f688c100c1ae",
   "metadata": {},
   "outputs": [],
   "source": [
    "import pandas as pd\n",
    "import numpy as np\n",
    "import matplotlib.pyplot as plt\n",
    "import matplotlib.image as mpimg\n",
    "import torch\n",
    "import timm\n",
    "import os\n",
    "import torch.nn.functional as F\n",
    "from torch import nn\n",
    "from torch.utils.data import Dataset, DataLoader\n",
    "from skimage import io\n",
    "import seaborn as sns\n",
    "from sklearn.model_selection import train_test_split\n",
    "from tqdm import tqdm\n",
    "import cv2\n",
    "import random"
   ]
  },
  {
   "cell_type": "markdown",
   "id": "25453993-8fd2-476b-87e2-f5d132fda91a",
   "metadata": {},
   "source": [
    "## Cuda\n"
   ]
  },
  {
   "cell_type": "code",
   "execution_count": 2,
   "id": "79d934d3-8519-4bf4-931a-c9fd78ffb283",
   "metadata": {},
   "outputs": [],
   "source": [
    "#Controllo che torch sia installato con CUDA abilitato\n",
    "def check_cuda():\n",
    "    print(torch.version.cuda)\n",
    "    cuda_is_ok = torch.cuda.is_available()\n",
    "    print(f\"CUDA Enabled: {cuda_is_ok}\")"
   ]
  },
  {
   "cell_type": "code",
   "execution_count": 3,
   "id": "f4971006-88ee-414f-9926-145d1c7e94b8",
   "metadata": {},
   "outputs": [
    {
     "name": "stdout",
     "output_type": "stream",
     "text": [
      "11.7\n"
     ]
    }
   ],
   "source": [
    "print(torch.version.cuda)"
   ]
  },
  {
   "cell_type": "markdown",
   "id": "1dcd653f-95d6-4072-8d2b-24cb7036f4d8",
   "metadata": {},
   "source": [
    "## Model parameters\n"
   ]
  },
  {
   "cell_type": "code",
   "execution_count": 4,
   "id": "00527b4d-d57a-40e8-b4ef-212cd499a44f",
   "metadata": {},
   "outputs": [],
   "source": [
    "model_weights = True"
   ]
  },
  {
   "cell_type": "code",
   "execution_count": 5,
   "id": "4b339558-6af2-4750-916c-bcdb35974c29",
   "metadata": {},
   "outputs": [],
   "source": [
    "#Directory per i file di train\n",
    "DATA_DIR = ''\n",
    "\n",
    "#Grandezza del Batch (iperparametro)\n",
    "BATCH_SIZE = 32\n",
    "\n",
    "#Learning Rate (Iperparametro)\n",
    "LR = 0.001\n",
    "\n",
    "#Numero di epoche (Iperparametro)\n",
    "EPOCHS = 80\n",
    "\n",
    "DEVICE = 'cuda'"
   ]
  },
  {
   "cell_type": "markdown",
   "id": "995369b7-baef-4e0e-9515-fc9ca97f6f54",
   "metadata": {},
   "source": [
    "## Dataloader and dataset creation"
   ]
  },
  {
   "cell_type": "code",
   "execution_count": 6,
   "id": "1061cf99-c4d1-476a-bfa8-ba6284d51661",
   "metadata": {},
   "outputs": [
    {
     "name": "stdout",
     "output_type": "stream",
     "text": [
      "Size of train set: 15000\n",
      "Size of valid set: 4000\n",
      "Size of test set: 1000\n"
     ]
    }
   ],
   "source": [
    "# Carica il file csv\n",
    "df_real = pd.read_csv(\"real_image_dataset_coco.csv\")\n",
    "\n",
    "df_fake = pd.read_csv(\"fake_image_dataset_biggan.csv\")\n",
    "\n",
    "train_df_real, valid_df_real = train_test_split(df_real, test_size = 0.20, random_state = 42)\n",
    "train_df_fake, valid_df_fake = train_test_split(df_fake, test_size = 0.20, random_state = 42)\n",
    "\n",
    "test_df_real = train_df_real.sample(500)\n",
    "test_df_fake = train_df_fake.sample(500)\n",
    "\n",
    "train_df_real = train_df_real.drop(test_df_real.index)\n",
    "train_df_fake = train_df_fake.drop(test_df_fake.index)\n",
    "\n",
    "train_df = pd.concat([train_df_real, train_df_fake])\n",
    "valid_df = pd.concat([valid_df_real, valid_df_fake])\n",
    "\n",
    "test_df = pd.concat([test_df_fake,test_df_real])\n",
    "\n",
    "# shuffle\n",
    "train_df= train_df.sample(frac= 1)\n",
    "valid_df= valid_df.sample(frac= 1)\n",
    "\n",
    "# Unisci tutti i dataframe in un unico dataframe finale per il train set\n",
    "final_df = pd.concat([train_df, valid_df])\n",
    "\n",
    "# Salva il dataframe finale di trian in un file CSV\n",
    "#final_df.to_csv(\"spectrum_train_dataset.csv\", index=False)\n",
    "df = pd.read_csv(\"spectrum_train_dataset.csv\")\n",
    "\n",
    "# Crea una lista combinata con 500 immagini false seguite da 500 immagini reali\n",
    "combined_images = test_df[\"Anchor\"]\n",
    "\n",
    "# Crea il dataframe del test set con una sola colonna\n",
    "#test_df = pd.DataFrame(combined_images, columns=[''])\n",
    "\n",
    "# Salva il dataframe del test set in un file CSV\n",
    "#test_df.to_csv(\"test_set.csv\", index=False, header=False)\n",
    "\n",
    "print('Size of train set:', len(train_df))\n",
    "print('Size of valid set:', len(valid_df))\n",
    "print('Size of test set:', len(test_df))"
   ]
  },
  {
   "cell_type": "code",
   "execution_count": 7,
   "id": "03d18e77-245e-46d9-bc4b-38042ede388a",
   "metadata": {},
   "outputs": [],
   "source": [
    "# Carico le immagini del file CSV che ho fornito, per settarle in modo corretto e darle in input alla rete neurale\n",
    "class APN_Dataset(Dataset):\n",
    "\n",
    "  def __init__(self, df):\n",
    "    self.df = df\n",
    "\n",
    "  def __len__(self):\n",
    "    return len(self.df)\n",
    "\n",
    "  def __getitem__(self, idx):\n",
    "    row = self.df.iloc[idx]\n",
    "\n",
    "    A_img = io.imread(DATA_DIR + row.Anchor, as_gray= True)\n",
    "    P_img = io.imread(DATA_DIR + row.Positive, as_gray= True)\n",
    "    N_img = io.imread(DATA_DIR + row.Negative, as_gray= True)\n",
    "\n",
    "    \n",
    "    # Aggiungi dimensione per il batch\n",
    "    A_img = np.expand_dims(A_img, 0)\n",
    "    P_img = np.expand_dims(P_img, 0)\n",
    "    N_img = np.expand_dims(N_img, 0)\n",
    "\n",
    "    A_img = torch.from_numpy(A_img)/ 255.0\n",
    "    P_img = torch.from_numpy(P_img)/ 255.0\n",
    "    N_img = torch.from_numpy(N_img)/ 255.0\n",
    "      \n",
    "    #A_img = torch.from_numpy(A_img.astype(np.int32)) / 65536.0\n",
    "    #P_img = torch.from_numpy(P_img.astype(np.int32)) / 65536.0\n",
    "    #N_img = torch.from_numpy(N_img.astype(np.int32)) / 65536.0\n",
    "\n",
    "    return A_img, P_img, N_img"
   ]
  },
  {
   "cell_type": "code",
   "execution_count": 8,
   "id": "155262e9-605e-47ac-b29b-206337ac7847",
   "metadata": {},
   "outputs": [
    {
     "name": "stdout",
     "output_type": "stream",
     "text": [
      "torch.Size([1, 200, 200])\n"
     ]
    }
   ],
   "source": [
    "data = APN_Dataset(train_df)\n",
    "item1, item2, item3 = data.__getitem__(0)\n",
    "print(item1.shape)"
   ]
  },
  {
   "cell_type": "markdown",
   "id": "c47edd68-032d-4893-a36c-127895563e56",
   "metadata": {},
   "source": [
    "Qui di seguito mi stampo il numero che compone l'insieme di dati di train, test e validation"
   ]
  },
  {
   "cell_type": "code",
   "execution_count": 9,
   "id": "e65299e8-9581-4595-a6f5-07e5568b0d46",
   "metadata": {},
   "outputs": [
    {
     "name": "stdout",
     "output_type": "stream",
     "text": [
      "Size of trainset: 15000\n",
      "Size of validset: 4000\n",
      "Size of validset: 1000\n"
     ]
    }
   ],
   "source": [
    "trainset = APN_Dataset(train_df)\n",
    "validset = APN_Dataset(valid_df)\n",
    "testset = APN_Dataset(test_df)\n",
    "\n",
    "print(f\"Size of trainset: {len(trainset)}\")\n",
    "print(f\"Size of validset: {len(validset)}\")\n",
    "print(f\"Size of validset: {len(testset)}\")"
   ]
  },
  {
   "cell_type": "markdown",
   "id": "f0db331c-6d35-4fb3-8ceb-632e59b70a65",
   "metadata": {},
   "source": [
    "Carichiamo i dati di train e validation nella batch"
   ]
  },
  {
   "cell_type": "code",
   "execution_count": 10,
   "id": "fd299359-b3c3-4714-a276-3cd729ef3235",
   "metadata": {},
   "outputs": [],
   "source": [
    "trainloader = DataLoader(trainset, batch_size = BATCH_SIZE, shuffle = True)\n",
    "validloader = DataLoader(validset, batch_size = BATCH_SIZE)\n",
    "testloader = DataLoader(testset, batch_size = 1)"
   ]
  },
  {
   "cell_type": "code",
   "execution_count": 11,
   "id": "240a522f-42d0-4499-ab22-7ddf7e8976e4",
   "metadata": {},
   "outputs": [
    {
     "name": "stdout",
     "output_type": "stream",
     "text": [
      "No. of batches in trainloader : 469\n",
      "No. of batches in validloader : 125\n",
      "No. of batches in testloader : 1000\n"
     ]
    }
   ],
   "source": [
    "print(f\"No. of batches in trainloader : {len(trainloader)}\")\n",
    "print(f\"No. of batches in validloader : {len(validloader)}\")\n",
    "print(f\"No. of batches in testloader : {len(testloader)}\")"
   ]
  },
  {
   "cell_type": "markdown",
   "id": "1158e1df-d8b4-42f9-9f21-0e5328847270",
   "metadata": {},
   "source": [
    "Questa funzione definisce un modello di rete neurale chiamato APN_Model, che carica un'architettura di rete preaddestrata e sostituisce il classificatore finale con un nuovo classificatore personalizzato."
   ]
  },
  {
   "cell_type": "markdown",
   "id": "899a547e-e96a-4794-b334-eff1d447642a",
   "metadata": {},
   "source": [
    "## Model definition"
   ]
  },
  {
   "cell_type": "code",
   "execution_count": 12,
   "id": "29a6a526-fdac-4a44-9de8-d69a057a3369",
   "metadata": {},
   "outputs": [],
   "source": [
    "#Carico il modello di rete neurale\n",
    "class APN_Model(nn.Module):\n",
    "\n",
    "    #Viene definita la size del vettore di embedding\n",
    "  def __init__(self, emb_size = 512):\n",
    "    super(APN_Model, self).__init__()\n",
    "\n",
    "    #QUI CAIRCATE IL MODELLO, IN QUESTO CASO EFFICIENTNET VERSIONE B0 (LA PIù LEGGERA DELLA FAMIGLIA)\n",
    "    self.efficientnet = timm.create_model('tf_efficientnetv2_b0', pretrained = False)\n",
    "    self.efficientnet.classifier = nn.Linear(in_features=self.efficientnet.classifier.in_features, out_features = emb_size)\n",
    "\n",
    "  def forward(self, images):\n",
    "    embeddings = self.efficientnet(images)\n",
    "    return embeddings"
   ]
  },
  {
   "cell_type": "code",
   "execution_count": 26,
   "id": "a2744ff4-084e-4ab3-ba35-1cfb5ece3706",
   "metadata": {},
   "outputs": [
    {
     "ename": "TypeError",
     "evalue": "Expected state_dict to be dict-like, got <class 'NoneType'>.",
     "output_type": "error",
     "traceback": [
      "\u001b[1;31m---------------------------------------------------------------------------\u001b[0m",
      "\u001b[1;31mTypeError\u001b[0m                                 Traceback (most recent call last)",
      "Cell \u001b[1;32mIn[26], line 6\u001b[0m\n\u001b[0;32m      3\u001b[0m model\u001b[38;5;241m.\u001b[39mefficientnet\u001b[38;5;241m.\u001b[39mconv_stem \u001b[38;5;241m=\u001b[39m nn\u001b[38;5;241m.\u001b[39mConv2d(\u001b[38;5;241m1\u001b[39m, \u001b[38;5;241m32\u001b[39m, \u001b[38;5;241m3\u001b[39m, \u001b[38;5;241m2\u001b[39m, \u001b[38;5;241m1\u001b[39m, bias\u001b[38;5;241m=\u001b[39m\u001b[38;5;28;01mFalse\u001b[39;00m);\n\u001b[0;32m      5\u001b[0m \u001b[38;5;28;01mif\u001b[39;00m model_weights \u001b[38;5;241m==\u001b[39m \u001b[38;5;28;01mTrue\u001b[39;00m :\n\u001b[1;32m----> 6\u001b[0m     \u001b[43mmodel\u001b[49m\u001b[38;5;241;43m.\u001b[39;49m\u001b[43mload_state_dict\u001b[49m\u001b[43m(\u001b[49m\u001b[43mtorch\u001b[49m\u001b[38;5;241;43m.\u001b[39;49m\u001b[43mload\u001b[49m\u001b[43m(\u001b[49m\u001b[38;5;124;43m'\u001b[39;49m\u001b[38;5;124;43mtrained_model_on_20000.pt\u001b[39;49m\u001b[38;5;124;43m'\u001b[39;49m\u001b[43m)\u001b[49m\u001b[43m)\u001b[49m\n\u001b[0;32m      8\u001b[0m model\u001b[38;5;241m.\u001b[39mto(DEVICE);\n",
      "File \u001b[1;32m~\\AppData\\Local\\Programs\\Python\\Python311\\Lib\\site-packages\\torch\\nn\\modules\\module.py:1994\u001b[0m, in \u001b[0;36mModule.load_state_dict\u001b[1;34m(self, state_dict, strict)\u001b[0m\n\u001b[0;32m   1971\u001b[0m \u001b[38;5;250m\u001b[39m\u001b[38;5;124mr\u001b[39m\u001b[38;5;124;03m\"\"\"Copies parameters and buffers from :attr:`state_dict` into\u001b[39;00m\n\u001b[0;32m   1972\u001b[0m \u001b[38;5;124;03mthis module and its descendants. If :attr:`strict` is ``True``, then\u001b[39;00m\n\u001b[0;32m   1973\u001b[0m \u001b[38;5;124;03mthe keys of :attr:`state_dict` must exactly match the keys returned\u001b[39;00m\n\u001b[1;32m   (...)\u001b[0m\n\u001b[0;32m   1991\u001b[0m \u001b[38;5;124;03m    ``RuntimeError``.\u001b[39;00m\n\u001b[0;32m   1992\u001b[0m \u001b[38;5;124;03m\"\"\"\u001b[39;00m\n\u001b[0;32m   1993\u001b[0m \u001b[38;5;28;01mif\u001b[39;00m \u001b[38;5;129;01mnot\u001b[39;00m \u001b[38;5;28misinstance\u001b[39m(state_dict, Mapping):\n\u001b[1;32m-> 1994\u001b[0m     \u001b[38;5;28;01mraise\u001b[39;00m \u001b[38;5;167;01mTypeError\u001b[39;00m(\u001b[38;5;124m\"\u001b[39m\u001b[38;5;124mExpected state_dict to be dict-like, got \u001b[39m\u001b[38;5;132;01m{}\u001b[39;00m\u001b[38;5;124m.\u001b[39m\u001b[38;5;124m\"\u001b[39m\u001b[38;5;241m.\u001b[39mformat(\u001b[38;5;28mtype\u001b[39m(state_dict)))\n\u001b[0;32m   1996\u001b[0m missing_keys: List[\u001b[38;5;28mstr\u001b[39m] \u001b[38;5;241m=\u001b[39m []\n\u001b[0;32m   1997\u001b[0m unexpected_keys: List[\u001b[38;5;28mstr\u001b[39m] \u001b[38;5;241m=\u001b[39m []\n",
      "\u001b[1;31mTypeError\u001b[0m: Expected state_dict to be dict-like, got <class 'NoneType'>."
     ]
    }
   ],
   "source": [
    "#QUI FATE UNA PICCOLA MODIFICA ALLA RETE PER FARLE AVERE IN INPUT IMMAGINI IN SCALA DI GRIGIO DELLO SPETTRO DI FOURIER\n",
    "model = APN_Model()\n",
    "model.efficientnet.conv_stem = nn.Conv2d(1, 32, 3, 2, 1, bias=False);\n",
    "\n",
    "if model_weights == True :\n",
    "    model.load_state_dict(torch.load('trained_model_on_20000.pt'))\n",
    "\n",
    "model.to(DEVICE);"
   ]
  },
  {
   "cell_type": "markdown",
   "id": "9e23bda1-1a4f-46c6-a29f-e3f9bb988185",
   "metadata": {},
   "source": [
    "## Evaluation functions"
   ]
  },
  {
   "cell_type": "code",
   "execution_count": 15,
   "id": "3a1eea0c-3caa-45d0-a4fd-bbfc9a71669a",
   "metadata": {},
   "outputs": [],
   "source": [
    "#FUNZIONE DI TEST\n",
    "def test_fn(model, dataloader, criterion):\n",
    "  model.train() #ON Dropout\n",
    "  total_loss = 0.0\n",
    "\n",
    "  with torch.no_grad():  \n",
    "    for A, P, N in tqdm(dataloader):\n",
    "        A, P, N = A.to(DEVICE), P.to(DEVICE), N.to(DEVICE)\n",
    "\n",
    "        A_embs = model(A)\n",
    "        P_embs = model(P)\n",
    "        N_embs = model(N)\n",
    "      \n",
    "        loss = criterion(A_embs, P_embs, N_embs)\n",
    "      \n",
    "        total_loss += loss.item()\n",
    "\n",
    "    return total_loss / len(dataloader)"
   ]
  },
  {
   "cell_type": "code",
   "execution_count": 16,
   "id": "7f1e6e71-ad4e-44c3-a53e-10fcbd8fd7be",
   "metadata": {},
   "outputs": [],
   "source": [
    "#FUNZIONE DI TRAINING\n",
    "def train_fn(model, dataloader, optimizer, criterion):\n",
    "  model.train() #ON Dropout\n",
    "  total_loss = 0.0\n",
    "\n",
    "  for A, P, N in tqdm(dataloader):\n",
    "    A, P, N = A.to(DEVICE), P.to(DEVICE), N.to(DEVICE)\n",
    "\n",
    "    A_embs = model(A)\n",
    "    P_embs = model(P)\n",
    "    N_embs = model(N)\n",
    "\n",
    "    loss = criterion(A_embs, P_embs, N_embs)\n",
    "\n",
    "    optimizer.zero_grad()\n",
    "    loss.backward()\n",
    "    optimizer.step()\n",
    "\n",
    "    total_loss += loss.item()\n",
    "\n",
    "  return total_loss / len(dataloader)"
   ]
  },
  {
   "cell_type": "code",
   "execution_count": 17,
   "id": "97248e6d-1321-48d8-a973-28f74e60eb3e",
   "metadata": {},
   "outputs": [],
   "source": [
    "#FUNZIONE DI EVALUATION\n",
    "def eval_fn(model, dataloader, criterion):\n",
    "  model.eval() #OFF Dropout\n",
    "  total_loss = 0.0\n",
    "\n",
    "  with torch.no_grad():\n",
    "    for A, P, N in tqdm(dataloader):\n",
    "      A, P, N = A.to(DEVICE), P.to(DEVICE), N.to(DEVICE)\n",
    "\n",
    "      A_embs = model(A)\n",
    "      P_embs = model(P)\n",
    "      N_embs = model(N)\n",
    "\n",
    "      loss = criterion(A_embs, P_embs, N_embs)\n",
    "\n",
    "      total_loss += loss.item()\n",
    "\n",
    "    return total_loss / len(dataloader)"
   ]
  },
  {
   "cell_type": "code",
   "execution_count": 18,
   "id": "7a71747b-8cc8-4145-8a59-bc8a417580d3",
   "metadata": {},
   "outputs": [],
   "source": [
    "class EarlyStopper:\n",
    "    def __init__(self, patience=1, min_delta=0):\n",
    "        self.patience = patience\n",
    "        self.min_delta = min_delta\n",
    "        self.counter = 0\n",
    "        self.min_validation_loss = float('inf')\n",
    "        self.model = None\n",
    "\n",
    "    def early_stop(self, validation_loss, model_updated):\n",
    "        print(validation_loss)\n",
    "        if validation_loss < self.min_validation_loss:\n",
    "            self.min_validation_loss = validation_loss\n",
    "            self.counter = 0\n",
    "            print(\"New min - model updated\")\n",
    "            self.model = model_updated\n",
    "            torch.save(self.model, 'trained_model_on_20000.pt')\n",
    "        elif validation_loss > (self.min_validation_loss + self.min_delta):\n",
    "            print(f\"Counter updated {self.min_validation_loss + self.min_delta}\")\n",
    "            self.counter += 1\n",
    "            if self.counter >= self.patience:\n",
    "                return True\n",
    "        return False\n",
    "\n",
    "    def get_model(self):\n",
    "        return self.model"
   ]
  },
  {
   "cell_type": "markdown",
   "id": "60fda6b6-2342-4292-b0c2-783e39d4e685",
   "metadata": {},
   "source": [
    "## Training parameters"
   ]
  },
  {
   "cell_type": "code",
   "execution_count": 19,
   "id": "8730717b-a280-4a4e-9dab-a9398d9f1e67",
   "metadata": {},
   "outputs": [],
   "source": [
    "criterion = nn.TripletMarginLoss()\n",
    "optimizer = torch.optim.Adam(model.parameters(), lr = LR)"
   ]
  },
  {
   "cell_type": "code",
   "execution_count": 20,
   "id": "cdc248bf-3b10-436f-84d3-030bde272d22",
   "metadata": {},
   "outputs": [],
   "source": [
    "early_stopper = EarlyStopper(patience=5, min_delta=0.08)\n"
   ]
  },
  {
   "cell_type": "markdown",
   "id": "c2686c4b-2a9e-4760-8a4f-89431e793300",
   "metadata": {},
   "source": [
    "## Training"
   ]
  },
  {
   "cell_type": "code",
   "execution_count": 21,
   "id": "0a2ac07f-cb59-48bd-b6c5-1b2fbb8d3ce5",
   "metadata": {
    "scrolled": true
   },
   "outputs": [],
   "source": [
    "#Training\n",
    "if model_weights == False :\n",
    "    best_valid_loss = np.Inf\n",
    "    training_loss = []\n",
    "    validation_loss = []\n",
    "    for i in range(EPOCHS):\n",
    "      train_loss = train_fn(model, trainloader, optimizer, criterion)\n",
    "      valid_loss = eval_fn(model, validloader, criterion)\n",
    "      training_loss.append(train_loss)\n",
    "      validation_loss.append(valid_loss)\n",
    "      if early_stopper.early_stop(valid_loss, model.state_dict()):             \n",
    "          break\n",
    "          \n",
    "      print(f\"EPOCHS : {i+1} train_loss : {train_loss} valid_loss : {valid_loss}\")\n",
    "\n",
    "torch.save(early_stopper.get_model(), 'trained_model_on_20000.pt')\n"
   ]
  },
  {
   "cell_type": "code",
   "execution_count": 22,
   "id": "b5f298eb-9e92-41c4-b43d-df7444372761",
   "metadata": {},
   "outputs": [],
   "source": [
    "#Salvataggio plottato dei dati\n",
    "if(model_weights == False):    \n",
    "    fig, axes = plt.subplots(2, 1, sharex= True, figsize=(10, 6))\n",
    "    axes[0].plot(training_loss)\n",
    "    axes[0].set_title('Training Loss - Triplet margin loss')\n",
    "    axes[1].plot(validation_loss)\n",
    "    axes[1].set_title('Validation Loss - Triplet margin loss')\n",
    "    plt.savefig('training_data_20000(biggan)-80-epochs.png')\n",
    "    plt.show()"
   ]
  },
  {
   "cell_type": "markdown",
   "id": "2ab00b09-2aa8-4cee-9159-46172537cbae",
   "metadata": {},
   "source": [
    "## Databse training embedded"
   ]
  },
  {
   "cell_type": "code",
   "execution_count": 23,
   "id": "34b5d02a-84f4-43ad-8aee-e69f83b185c9",
   "metadata": {},
   "outputs": [],
   "source": [
    "#QUESTA E' LA FUNZIONE PER GENERARE I VETTORI DI ENCODING\n",
    "# concatenating images name and relative encodings\n",
    "def get_encoding_csv(model, anc_img_names, dirFolder):\n",
    "  anc_img_names_arr = np.array(anc_img_names)\n",
    "  encodings = []\n",
    "\n",
    "  model.eval()\n",
    "\n",
    "  with torch.no_grad():\n",
    "    for i in tqdm(anc_img_names_arr):\n",
    "      A = io.imread(dirFolder + i)\n",
    "      A = np.expand_dims(A, 0)\n",
    "      A = torch.from_numpy(A.astype(np.int32)) / 255.0\n",
    "      A = A.to(DEVICE)\n",
    "      A_enc = model(A.unsqueeze(0))\n",
    "      encodings.append(A_enc.squeeze().cpu().detach().numpy())\n",
    "\n",
    "    encodings = np.array(encodings)\n",
    "    encodings = pd.DataFrame(encodings)\n",
    "    df_enc = pd.concat([anc_img_names, encodings], axis = 1)\n",
    "\n",
    "    return df_enc"
   ]
  },
  {
   "cell_type": "code",
   "execution_count": 24,
   "id": "5f80498d-2680-4a9c-8f79-409253582b6a",
   "metadata": {},
   "outputs": [],
   "source": [
    "#QUI IL DATABASE COME CSV IN MODO TALE DA NON DOVER FARE QUESTA OPERAZIONE OGNI VOLTA\n",
    "#OVVIAMENTE, SE DEVO FARE UN NUOVO TRAINING DEVO ANCHE RICREARE GLI ENCODINGS\n",
    "if(model_weights == False):\n",
    "    df_enc.to_csv('database_biggan.csv', index = False)\n",
    "    df_enc.head()\n",
    "df_enc = pd.read_csv('database_biggan.csv')"
   ]
  },
  {
   "cell_type": "code",
   "execution_count": 25,
   "id": "c35c2ae2-1c01-436c-8f0c-5ecae0417130",
   "metadata": {},
   "outputs": [
    {
     "name": "stderr",
     "output_type": "stream",
     "text": [
      "  0%|                                                                                        | 0/19000 [00:00<?, ?it/s]\n"
     ]
    },
    {
     "ename": "RuntimeError",
     "evalue": "Input type (torch.cuda.FloatTensor) and weight type (torch.FloatTensor) should be the same",
     "output_type": "error",
     "traceback": [
      "\u001b[1;31m---------------------------------------------------------------------------\u001b[0m",
      "\u001b[1;31mRuntimeError\u001b[0m                              Traceback (most recent call last)",
      "Cell \u001b[1;32mIn[25], line 2\u001b[0m\n\u001b[0;32m      1\u001b[0m \u001b[38;5;66;03m#QUI CREO IL DATABASE DI FEATURE VECTORS DEL TRAINING SET\u001b[39;00m\n\u001b[1;32m----> 2\u001b[0m df_enc \u001b[38;5;241m=\u001b[39m \u001b[43mget_encoding_csv\u001b[49m\u001b[43m(\u001b[49m\u001b[43mmodel\u001b[49m\u001b[43m,\u001b[49m\u001b[43m \u001b[49m\u001b[43mdf\u001b[49m\u001b[43m[\u001b[49m\u001b[38;5;124;43m'\u001b[39;49m\u001b[38;5;124;43mAnchor\u001b[39;49m\u001b[38;5;124;43m'\u001b[39;49m\u001b[43m]\u001b[49m\u001b[43m,\u001b[49m\u001b[43m \u001b[49m\u001b[43mDATA_DIR\u001b[49m\u001b[43m)\u001b[49m\n",
      "Cell \u001b[1;32mIn[23], line 15\u001b[0m, in \u001b[0;36mget_encoding_csv\u001b[1;34m(model, anc_img_names, dirFolder)\u001b[0m\n\u001b[0;32m     13\u001b[0m   A \u001b[38;5;241m=\u001b[39m torch\u001b[38;5;241m.\u001b[39mfrom_numpy(A\u001b[38;5;241m.\u001b[39mastype(np\u001b[38;5;241m.\u001b[39mint32)) \u001b[38;5;241m/\u001b[39m \u001b[38;5;241m255.0\u001b[39m\n\u001b[0;32m     14\u001b[0m   A \u001b[38;5;241m=\u001b[39m A\u001b[38;5;241m.\u001b[39mto(DEVICE)\n\u001b[1;32m---> 15\u001b[0m   A_enc \u001b[38;5;241m=\u001b[39m \u001b[43mmodel\u001b[49m\u001b[43m(\u001b[49m\u001b[43mA\u001b[49m\u001b[38;5;241;43m.\u001b[39;49m\u001b[43munsqueeze\u001b[49m\u001b[43m(\u001b[49m\u001b[38;5;241;43m0\u001b[39;49m\u001b[43m)\u001b[49m\u001b[43m)\u001b[49m\n\u001b[0;32m     16\u001b[0m   encodings\u001b[38;5;241m.\u001b[39mappend(A_enc\u001b[38;5;241m.\u001b[39msqueeze()\u001b[38;5;241m.\u001b[39mcpu()\u001b[38;5;241m.\u001b[39mdetach()\u001b[38;5;241m.\u001b[39mnumpy())\n\u001b[0;32m     18\u001b[0m encodings \u001b[38;5;241m=\u001b[39m np\u001b[38;5;241m.\u001b[39marray(encodings)\n",
      "File \u001b[1;32m~\\AppData\\Local\\Programs\\Python\\Python311\\Lib\\site-packages\\torch\\nn\\modules\\module.py:1501\u001b[0m, in \u001b[0;36mModule._call_impl\u001b[1;34m(self, *args, **kwargs)\u001b[0m\n\u001b[0;32m   1496\u001b[0m \u001b[38;5;66;03m# If we don't have any hooks, we want to skip the rest of the logic in\u001b[39;00m\n\u001b[0;32m   1497\u001b[0m \u001b[38;5;66;03m# this function, and just call forward.\u001b[39;00m\n\u001b[0;32m   1498\u001b[0m \u001b[38;5;28;01mif\u001b[39;00m \u001b[38;5;129;01mnot\u001b[39;00m (\u001b[38;5;28mself\u001b[39m\u001b[38;5;241m.\u001b[39m_backward_hooks \u001b[38;5;129;01mor\u001b[39;00m \u001b[38;5;28mself\u001b[39m\u001b[38;5;241m.\u001b[39m_backward_pre_hooks \u001b[38;5;129;01mor\u001b[39;00m \u001b[38;5;28mself\u001b[39m\u001b[38;5;241m.\u001b[39m_forward_hooks \u001b[38;5;129;01mor\u001b[39;00m \u001b[38;5;28mself\u001b[39m\u001b[38;5;241m.\u001b[39m_forward_pre_hooks\n\u001b[0;32m   1499\u001b[0m         \u001b[38;5;129;01mor\u001b[39;00m _global_backward_pre_hooks \u001b[38;5;129;01mor\u001b[39;00m _global_backward_hooks\n\u001b[0;32m   1500\u001b[0m         \u001b[38;5;129;01mor\u001b[39;00m _global_forward_hooks \u001b[38;5;129;01mor\u001b[39;00m _global_forward_pre_hooks):\n\u001b[1;32m-> 1501\u001b[0m     \u001b[38;5;28;01mreturn\u001b[39;00m \u001b[43mforward_call\u001b[49m\u001b[43m(\u001b[49m\u001b[38;5;241;43m*\u001b[39;49m\u001b[43margs\u001b[49m\u001b[43m,\u001b[49m\u001b[43m \u001b[49m\u001b[38;5;241;43m*\u001b[39;49m\u001b[38;5;241;43m*\u001b[39;49m\u001b[43mkwargs\u001b[49m\u001b[43m)\u001b[49m\n\u001b[0;32m   1502\u001b[0m \u001b[38;5;66;03m# Do not call functions when jit is used\u001b[39;00m\n\u001b[0;32m   1503\u001b[0m full_backward_hooks, non_full_backward_hooks \u001b[38;5;241m=\u001b[39m [], []\n",
      "Cell \u001b[1;32mIn[12], line 13\u001b[0m, in \u001b[0;36mAPN_Model.forward\u001b[1;34m(self, images)\u001b[0m\n\u001b[0;32m     12\u001b[0m \u001b[38;5;28;01mdef\u001b[39;00m \u001b[38;5;21mforward\u001b[39m(\u001b[38;5;28mself\u001b[39m, images):\n\u001b[1;32m---> 13\u001b[0m   embeddings \u001b[38;5;241m=\u001b[39m \u001b[38;5;28;43mself\u001b[39;49m\u001b[38;5;241;43m.\u001b[39;49m\u001b[43mefficientnet\u001b[49m\u001b[43m(\u001b[49m\u001b[43mimages\u001b[49m\u001b[43m)\u001b[49m\n\u001b[0;32m     14\u001b[0m   \u001b[38;5;28;01mreturn\u001b[39;00m embeddings\n",
      "File \u001b[1;32m~\\AppData\\Local\\Programs\\Python\\Python311\\Lib\\site-packages\\torch\\nn\\modules\\module.py:1501\u001b[0m, in \u001b[0;36mModule._call_impl\u001b[1;34m(self, *args, **kwargs)\u001b[0m\n\u001b[0;32m   1496\u001b[0m \u001b[38;5;66;03m# If we don't have any hooks, we want to skip the rest of the logic in\u001b[39;00m\n\u001b[0;32m   1497\u001b[0m \u001b[38;5;66;03m# this function, and just call forward.\u001b[39;00m\n\u001b[0;32m   1498\u001b[0m \u001b[38;5;28;01mif\u001b[39;00m \u001b[38;5;129;01mnot\u001b[39;00m (\u001b[38;5;28mself\u001b[39m\u001b[38;5;241m.\u001b[39m_backward_hooks \u001b[38;5;129;01mor\u001b[39;00m \u001b[38;5;28mself\u001b[39m\u001b[38;5;241m.\u001b[39m_backward_pre_hooks \u001b[38;5;129;01mor\u001b[39;00m \u001b[38;5;28mself\u001b[39m\u001b[38;5;241m.\u001b[39m_forward_hooks \u001b[38;5;129;01mor\u001b[39;00m \u001b[38;5;28mself\u001b[39m\u001b[38;5;241m.\u001b[39m_forward_pre_hooks\n\u001b[0;32m   1499\u001b[0m         \u001b[38;5;129;01mor\u001b[39;00m _global_backward_pre_hooks \u001b[38;5;129;01mor\u001b[39;00m _global_backward_hooks\n\u001b[0;32m   1500\u001b[0m         \u001b[38;5;129;01mor\u001b[39;00m _global_forward_hooks \u001b[38;5;129;01mor\u001b[39;00m _global_forward_pre_hooks):\n\u001b[1;32m-> 1501\u001b[0m     \u001b[38;5;28;01mreturn\u001b[39;00m \u001b[43mforward_call\u001b[49m\u001b[43m(\u001b[49m\u001b[38;5;241;43m*\u001b[39;49m\u001b[43margs\u001b[49m\u001b[43m,\u001b[49m\u001b[43m \u001b[49m\u001b[38;5;241;43m*\u001b[39;49m\u001b[38;5;241;43m*\u001b[39;49m\u001b[43mkwargs\u001b[49m\u001b[43m)\u001b[49m\n\u001b[0;32m   1502\u001b[0m \u001b[38;5;66;03m# Do not call functions when jit is used\u001b[39;00m\n\u001b[0;32m   1503\u001b[0m full_backward_hooks, non_full_backward_hooks \u001b[38;5;241m=\u001b[39m [], []\n",
      "File \u001b[1;32m~\\AppData\\Local\\Programs\\Python\\Python311\\Lib\\site-packages\\timm\\models\\efficientnet.py:179\u001b[0m, in \u001b[0;36mEfficientNet.forward\u001b[1;34m(self, x)\u001b[0m\n\u001b[0;32m    178\u001b[0m \u001b[38;5;28;01mdef\u001b[39;00m \u001b[38;5;21mforward\u001b[39m(\u001b[38;5;28mself\u001b[39m, x):\n\u001b[1;32m--> 179\u001b[0m     x \u001b[38;5;241m=\u001b[39m \u001b[38;5;28;43mself\u001b[39;49m\u001b[38;5;241;43m.\u001b[39;49m\u001b[43mforward_features\u001b[49m\u001b[43m(\u001b[49m\u001b[43mx\u001b[49m\u001b[43m)\u001b[49m\n\u001b[0;32m    180\u001b[0m     x \u001b[38;5;241m=\u001b[39m \u001b[38;5;28mself\u001b[39m\u001b[38;5;241m.\u001b[39mforward_head(x)\n\u001b[0;32m    181\u001b[0m     \u001b[38;5;28;01mreturn\u001b[39;00m x\n",
      "File \u001b[1;32m~\\AppData\\Local\\Programs\\Python\\Python311\\Lib\\site-packages\\timm\\models\\efficientnet.py:162\u001b[0m, in \u001b[0;36mEfficientNet.forward_features\u001b[1;34m(self, x)\u001b[0m\n\u001b[0;32m    161\u001b[0m \u001b[38;5;28;01mdef\u001b[39;00m \u001b[38;5;21mforward_features\u001b[39m(\u001b[38;5;28mself\u001b[39m, x):\n\u001b[1;32m--> 162\u001b[0m     x \u001b[38;5;241m=\u001b[39m \u001b[38;5;28;43mself\u001b[39;49m\u001b[38;5;241;43m.\u001b[39;49m\u001b[43mconv_stem\u001b[49m\u001b[43m(\u001b[49m\u001b[43mx\u001b[49m\u001b[43m)\u001b[49m\n\u001b[0;32m    163\u001b[0m     x \u001b[38;5;241m=\u001b[39m \u001b[38;5;28mself\u001b[39m\u001b[38;5;241m.\u001b[39mbn1(x)\n\u001b[0;32m    164\u001b[0m     \u001b[38;5;28;01mif\u001b[39;00m \u001b[38;5;28mself\u001b[39m\u001b[38;5;241m.\u001b[39mgrad_checkpointing \u001b[38;5;129;01mand\u001b[39;00m \u001b[38;5;129;01mnot\u001b[39;00m torch\u001b[38;5;241m.\u001b[39mjit\u001b[38;5;241m.\u001b[39mis_scripting():\n",
      "File \u001b[1;32m~\\AppData\\Local\\Programs\\Python\\Python311\\Lib\\site-packages\\torch\\nn\\modules\\module.py:1501\u001b[0m, in \u001b[0;36mModule._call_impl\u001b[1;34m(self, *args, **kwargs)\u001b[0m\n\u001b[0;32m   1496\u001b[0m \u001b[38;5;66;03m# If we don't have any hooks, we want to skip the rest of the logic in\u001b[39;00m\n\u001b[0;32m   1497\u001b[0m \u001b[38;5;66;03m# this function, and just call forward.\u001b[39;00m\n\u001b[0;32m   1498\u001b[0m \u001b[38;5;28;01mif\u001b[39;00m \u001b[38;5;129;01mnot\u001b[39;00m (\u001b[38;5;28mself\u001b[39m\u001b[38;5;241m.\u001b[39m_backward_hooks \u001b[38;5;129;01mor\u001b[39;00m \u001b[38;5;28mself\u001b[39m\u001b[38;5;241m.\u001b[39m_backward_pre_hooks \u001b[38;5;129;01mor\u001b[39;00m \u001b[38;5;28mself\u001b[39m\u001b[38;5;241m.\u001b[39m_forward_hooks \u001b[38;5;129;01mor\u001b[39;00m \u001b[38;5;28mself\u001b[39m\u001b[38;5;241m.\u001b[39m_forward_pre_hooks\n\u001b[0;32m   1499\u001b[0m         \u001b[38;5;129;01mor\u001b[39;00m _global_backward_pre_hooks \u001b[38;5;129;01mor\u001b[39;00m _global_backward_hooks\n\u001b[0;32m   1500\u001b[0m         \u001b[38;5;129;01mor\u001b[39;00m _global_forward_hooks \u001b[38;5;129;01mor\u001b[39;00m _global_forward_pre_hooks):\n\u001b[1;32m-> 1501\u001b[0m     \u001b[38;5;28;01mreturn\u001b[39;00m \u001b[43mforward_call\u001b[49m\u001b[43m(\u001b[49m\u001b[38;5;241;43m*\u001b[39;49m\u001b[43margs\u001b[49m\u001b[43m,\u001b[49m\u001b[43m \u001b[49m\u001b[38;5;241;43m*\u001b[39;49m\u001b[38;5;241;43m*\u001b[39;49m\u001b[43mkwargs\u001b[49m\u001b[43m)\u001b[49m\n\u001b[0;32m   1502\u001b[0m \u001b[38;5;66;03m# Do not call functions when jit is used\u001b[39;00m\n\u001b[0;32m   1503\u001b[0m full_backward_hooks, non_full_backward_hooks \u001b[38;5;241m=\u001b[39m [], []\n",
      "File \u001b[1;32m~\\AppData\\Local\\Programs\\Python\\Python311\\Lib\\site-packages\\torch\\nn\\modules\\conv.py:463\u001b[0m, in \u001b[0;36mConv2d.forward\u001b[1;34m(self, input)\u001b[0m\n\u001b[0;32m    462\u001b[0m \u001b[38;5;28;01mdef\u001b[39;00m \u001b[38;5;21mforward\u001b[39m(\u001b[38;5;28mself\u001b[39m, \u001b[38;5;28minput\u001b[39m: Tensor) \u001b[38;5;241m-\u001b[39m\u001b[38;5;241m>\u001b[39m Tensor:\n\u001b[1;32m--> 463\u001b[0m     \u001b[38;5;28;01mreturn\u001b[39;00m \u001b[38;5;28;43mself\u001b[39;49m\u001b[38;5;241;43m.\u001b[39;49m\u001b[43m_conv_forward\u001b[49m\u001b[43m(\u001b[49m\u001b[38;5;28;43minput\u001b[39;49m\u001b[43m,\u001b[49m\u001b[43m \u001b[49m\u001b[38;5;28;43mself\u001b[39;49m\u001b[38;5;241;43m.\u001b[39;49m\u001b[43mweight\u001b[49m\u001b[43m,\u001b[49m\u001b[43m \u001b[49m\u001b[38;5;28;43mself\u001b[39;49m\u001b[38;5;241;43m.\u001b[39;49m\u001b[43mbias\u001b[49m\u001b[43m)\u001b[49m\n",
      "File \u001b[1;32m~\\AppData\\Local\\Programs\\Python\\Python311\\Lib\\site-packages\\torch\\nn\\modules\\conv.py:459\u001b[0m, in \u001b[0;36mConv2d._conv_forward\u001b[1;34m(self, input, weight, bias)\u001b[0m\n\u001b[0;32m    455\u001b[0m \u001b[38;5;28;01mif\u001b[39;00m \u001b[38;5;28mself\u001b[39m\u001b[38;5;241m.\u001b[39mpadding_mode \u001b[38;5;241m!=\u001b[39m \u001b[38;5;124m'\u001b[39m\u001b[38;5;124mzeros\u001b[39m\u001b[38;5;124m'\u001b[39m:\n\u001b[0;32m    456\u001b[0m     \u001b[38;5;28;01mreturn\u001b[39;00m F\u001b[38;5;241m.\u001b[39mconv2d(F\u001b[38;5;241m.\u001b[39mpad(\u001b[38;5;28minput\u001b[39m, \u001b[38;5;28mself\u001b[39m\u001b[38;5;241m.\u001b[39m_reversed_padding_repeated_twice, mode\u001b[38;5;241m=\u001b[39m\u001b[38;5;28mself\u001b[39m\u001b[38;5;241m.\u001b[39mpadding_mode),\n\u001b[0;32m    457\u001b[0m                     weight, bias, \u001b[38;5;28mself\u001b[39m\u001b[38;5;241m.\u001b[39mstride,\n\u001b[0;32m    458\u001b[0m                     _pair(\u001b[38;5;241m0\u001b[39m), \u001b[38;5;28mself\u001b[39m\u001b[38;5;241m.\u001b[39mdilation, \u001b[38;5;28mself\u001b[39m\u001b[38;5;241m.\u001b[39mgroups)\n\u001b[1;32m--> 459\u001b[0m \u001b[38;5;28;01mreturn\u001b[39;00m \u001b[43mF\u001b[49m\u001b[38;5;241;43m.\u001b[39;49m\u001b[43mconv2d\u001b[49m\u001b[43m(\u001b[49m\u001b[38;5;28;43minput\u001b[39;49m\u001b[43m,\u001b[49m\u001b[43m \u001b[49m\u001b[43mweight\u001b[49m\u001b[43m,\u001b[49m\u001b[43m \u001b[49m\u001b[43mbias\u001b[49m\u001b[43m,\u001b[49m\u001b[43m \u001b[49m\u001b[38;5;28;43mself\u001b[39;49m\u001b[38;5;241;43m.\u001b[39;49m\u001b[43mstride\u001b[49m\u001b[43m,\u001b[49m\n\u001b[0;32m    460\u001b[0m \u001b[43m                \u001b[49m\u001b[38;5;28;43mself\u001b[39;49m\u001b[38;5;241;43m.\u001b[39;49m\u001b[43mpadding\u001b[49m\u001b[43m,\u001b[49m\u001b[43m \u001b[49m\u001b[38;5;28;43mself\u001b[39;49m\u001b[38;5;241;43m.\u001b[39;49m\u001b[43mdilation\u001b[49m\u001b[43m,\u001b[49m\u001b[43m \u001b[49m\u001b[38;5;28;43mself\u001b[39;49m\u001b[38;5;241;43m.\u001b[39;49m\u001b[43mgroups\u001b[49m\u001b[43m)\u001b[49m\n",
      "\u001b[1;31mRuntimeError\u001b[0m: Input type (torch.cuda.FloatTensor) and weight type (torch.FloatTensor) should be the same"
     ]
    }
   ],
   "source": [
    "#QUI CREO IL DATABASE DI FEATURE VECTORS DEL TRAINING SET\n",
    "df_enc = get_encoding_csv(model, df['Anchor'], DATA_DIR)"
   ]
  },
  {
   "cell_type": "markdown",
   "id": "b0cbd74b-6013-47ba-a04d-a49d240103df",
   "metadata": {},
   "source": [
    "## Distances, Get image embeddings and searching in databse"
   ]
  },
  {
   "cell_type": "code",
   "execution_count": 25,
   "id": "266ff1c7-5028-4e29-bd61-c6cd6be716e5",
   "metadata": {},
   "outputs": [],
   "source": [
    "def euclidean_dist(img_enc, anc_enc_arr):\n",
    "    dist = np.sqrt(np.dot(img_enc-anc_enc_arr, (img_enc- anc_enc_arr).T))\n",
    "    #dist = np.dot(img_enc-anc_enc_arr, (img_enc- anc_enc_arr).T)\n",
    "    #dist = np.sqrt(dist)\n",
    "    return dist"
   ]
  },
  {
   "cell_type": "code",
   "execution_count": 26,
   "id": "530af24f-2baa-4e9b-8192-a9a5191ef6aa",
   "metadata": {},
   "outputs": [],
   "source": [
    "# return the embedding of the image\n",
    "def getImageEmbeddings(img, model):\n",
    "\n",
    "    img = np.expand_dims(img, 0)\n",
    "    img = torch.from_numpy(img) / 255\n",
    "    model.eval();\n",
    "\n",
    "    with torch.no_grad():\n",
    "        img = img.to(DEVICE)\n",
    "        img_enc = model(img.unsqueeze(0))\n",
    "        img_enc = img_enc.detach().cpu().numpy()\n",
    "        img_enc = np.array(img_enc)\n",
    "\n",
    "    return img_enc"
   ]
  },
  {
   "cell_type": "markdown",
   "id": "a47661ea-b0cf-411d-9983-0a58c431f5d2",
   "metadata": {},
   "source": [
    "## Adding 5 Latent Diffusion, 5 Taming Transformer"
   ]
  },
  {
   "cell_type": "code",
   "execution_count": 27,
   "id": "6dea2180-3708-421f-9726-81cc7a766db4",
   "metadata": {},
   "outputs": [
    {
     "data": {
      "text/html": [
       "<div>\n",
       "<style scoped>\n",
       "    .dataframe tbody tr th:only-of-type {\n",
       "        vertical-align: middle;\n",
       "    }\n",
       "\n",
       "    .dataframe tbody tr th {\n",
       "        vertical-align: top;\n",
       "    }\n",
       "\n",
       "    .dataframe thead th {\n",
       "        text-align: right;\n",
       "    }\n",
       "</style>\n",
       "<table border=\"1\" class=\"dataframe\">\n",
       "  <thead>\n",
       "    <tr style=\"text-align: right;\">\n",
       "      <th></th>\n",
       "      <th>0</th>\n",
       "      <th>1</th>\n",
       "      <th>2</th>\n",
       "      <th>3</th>\n",
       "      <th>4</th>\n",
       "      <th>5</th>\n",
       "      <th>6</th>\n",
       "      <th>7</th>\n",
       "      <th>8</th>\n",
       "      <th>9</th>\n",
       "      <th>...</th>\n",
       "      <th>502</th>\n",
       "      <th>503</th>\n",
       "      <th>504</th>\n",
       "      <th>505</th>\n",
       "      <th>506</th>\n",
       "      <th>507</th>\n",
       "      <th>508</th>\n",
       "      <th>509</th>\n",
       "      <th>510</th>\n",
       "      <th>511</th>\n",
       "    </tr>\n",
       "  </thead>\n",
       "  <tbody>\n",
       "    <tr>\n",
       "      <th>count</th>\n",
       "      <td>19000.000000</td>\n",
       "      <td>19000.000000</td>\n",
       "      <td>19000.000000</td>\n",
       "      <td>19000.000000</td>\n",
       "      <td>19000.000000</td>\n",
       "      <td>19000.000000</td>\n",
       "      <td>19000.000000</td>\n",
       "      <td>19000.000000</td>\n",
       "      <td>19000.000000</td>\n",
       "      <td>19000.000000</td>\n",
       "      <td>...</td>\n",
       "      <td>19000.000000</td>\n",
       "      <td>19000.000000</td>\n",
       "      <td>19000.000000</td>\n",
       "      <td>19000.000000</td>\n",
       "      <td>19000.000000</td>\n",
       "      <td>19000.000000</td>\n",
       "      <td>19000.000000</td>\n",
       "      <td>19000.000000</td>\n",
       "      <td>19000.000000</td>\n",
       "      <td>19000.000000</td>\n",
       "    </tr>\n",
       "    <tr>\n",
       "      <th>mean</th>\n",
       "      <td>-0.884197</td>\n",
       "      <td>1.174867</td>\n",
       "      <td>-0.162072</td>\n",
       "      <td>2.372958</td>\n",
       "      <td>-1.097224</td>\n",
       "      <td>0.590331</td>\n",
       "      <td>1.146033</td>\n",
       "      <td>-0.786790</td>\n",
       "      <td>0.916750</td>\n",
       "      <td>-0.253910</td>\n",
       "      <td>...</td>\n",
       "      <td>-0.918830</td>\n",
       "      <td>1.055716</td>\n",
       "      <td>0.451887</td>\n",
       "      <td>-2.334898</td>\n",
       "      <td>3.705020</td>\n",
       "      <td>0.756638</td>\n",
       "      <td>1.649241</td>\n",
       "      <td>-5.629300</td>\n",
       "      <td>-0.617569</td>\n",
       "      <td>-3.069335</td>\n",
       "    </tr>\n",
       "    <tr>\n",
       "      <th>std</th>\n",
       "      <td>0.057336</td>\n",
       "      <td>0.035830</td>\n",
       "      <td>0.010621</td>\n",
       "      <td>0.080495</td>\n",
       "      <td>0.078799</td>\n",
       "      <td>0.015979</td>\n",
       "      <td>0.059848</td>\n",
       "      <td>0.018527</td>\n",
       "      <td>0.061650</td>\n",
       "      <td>0.036521</td>\n",
       "      <td>...</td>\n",
       "      <td>0.030783</td>\n",
       "      <td>0.062237</td>\n",
       "      <td>0.038816</td>\n",
       "      <td>0.084514</td>\n",
       "      <td>0.088328</td>\n",
       "      <td>0.023599</td>\n",
       "      <td>0.070680</td>\n",
       "      <td>0.151020</td>\n",
       "      <td>0.035683</td>\n",
       "      <td>0.086671</td>\n",
       "    </tr>\n",
       "    <tr>\n",
       "      <th>min</th>\n",
       "      <td>-1.123815</td>\n",
       "      <td>1.114091</td>\n",
       "      <td>-0.194880</td>\n",
       "      <td>2.279617</td>\n",
       "      <td>-1.448037</td>\n",
       "      <td>0.451607</td>\n",
       "      <td>1.073621</td>\n",
       "      <td>-0.833690</td>\n",
       "      <td>0.844957</td>\n",
       "      <td>-0.327505</td>\n",
       "      <td>...</td>\n",
       "      <td>-1.010936</td>\n",
       "      <td>0.982677</td>\n",
       "      <td>0.407981</td>\n",
       "      <td>-2.610969</td>\n",
       "      <td>3.549509</td>\n",
       "      <td>0.565516</td>\n",
       "      <td>1.565335</td>\n",
       "      <td>-6.059702</td>\n",
       "      <td>-0.747482</td>\n",
       "      <td>-3.309109</td>\n",
       "    </tr>\n",
       "    <tr>\n",
       "      <th>25%</th>\n",
       "      <td>-0.939234</td>\n",
       "      <td>1.138586</td>\n",
       "      <td>-0.170593</td>\n",
       "      <td>2.291092</td>\n",
       "      <td>-1.173884</td>\n",
       "      <td>0.579485</td>\n",
       "      <td>1.085283</td>\n",
       "      <td>-0.801466</td>\n",
       "      <td>0.854605</td>\n",
       "      <td>-0.288082</td>\n",
       "      <td>...</td>\n",
       "      <td>-0.949897</td>\n",
       "      <td>0.992711</td>\n",
       "      <td>0.412899</td>\n",
       "      <td>-2.419810</td>\n",
       "      <td>3.616133</td>\n",
       "      <td>0.740606</td>\n",
       "      <td>1.577522</td>\n",
       "      <td>-5.781886</td>\n",
       "      <td>-0.653540</td>\n",
       "      <td>-3.157063</td>\n",
       "    </tr>\n",
       "    <tr>\n",
       "      <th>50%</th>\n",
       "      <td>-0.884307</td>\n",
       "      <td>1.191901</td>\n",
       "      <td>-0.156982</td>\n",
       "      <td>2.389071</td>\n",
       "      <td>-1.100324</td>\n",
       "      <td>0.590647</td>\n",
       "      <td>1.153252</td>\n",
       "      <td>-0.789315</td>\n",
       "      <td>0.916656</td>\n",
       "      <td>-0.253389</td>\n",
       "      <td>...</td>\n",
       "      <td>-0.921140</td>\n",
       "      <td>1.057342</td>\n",
       "      <td>0.450815</td>\n",
       "      <td>-2.348827</td>\n",
       "      <td>3.728864</td>\n",
       "      <td>0.759026</td>\n",
       "      <td>1.654176</td>\n",
       "      <td>-5.659119</td>\n",
       "      <td>-0.618729</td>\n",
       "      <td>-3.087799</td>\n",
       "    </tr>\n",
       "    <tr>\n",
       "      <th>75%</th>\n",
       "      <td>-0.826499</td>\n",
       "      <td>1.209305</td>\n",
       "      <td>-0.155484</td>\n",
       "      <td>2.454265</td>\n",
       "      <td>-1.017673</td>\n",
       "      <td>0.603658</td>\n",
       "      <td>1.204084</td>\n",
       "      <td>-0.773836</td>\n",
       "      <td>0.978394</td>\n",
       "      <td>-0.224171</td>\n",
       "      <td>...</td>\n",
       "      <td>-0.887740</td>\n",
       "      <td>1.116209</td>\n",
       "      <td>0.491091</td>\n",
       "      <td>-2.249344</td>\n",
       "      <td>3.792639</td>\n",
       "      <td>0.775767</td>\n",
       "      <td>1.719265</td>\n",
       "      <td>-5.476255</td>\n",
       "      <td>-0.581426</td>\n",
       "      <td>-2.981225</td>\n",
       "    </tr>\n",
       "    <tr>\n",
       "      <th>max</th>\n",
       "      <td>-0.807100</td>\n",
       "      <td>1.269023</td>\n",
       "      <td>-0.121735</td>\n",
       "      <td>2.613164</td>\n",
       "      <td>-1.005671</td>\n",
       "      <td>0.629433</td>\n",
       "      <td>1.389890</td>\n",
       "      <td>-0.653319</td>\n",
       "      <td>1.178585</td>\n",
       "      <td>-0.025364</td>\n",
       "      <td>...</td>\n",
       "      <td>-0.881922</td>\n",
       "      <td>1.316527</td>\n",
       "      <td>0.607452</td>\n",
       "      <td>-2.237084</td>\n",
       "      <td>3.963905</td>\n",
       "      <td>0.813514</td>\n",
       "      <td>1.908085</td>\n",
       "      <td>-5.372425</td>\n",
       "      <td>-0.574358</td>\n",
       "      <td>-2.946775</td>\n",
       "    </tr>\n",
       "  </tbody>\n",
       "</table>\n",
       "<p>8 rows × 512 columns</p>\n",
       "</div>"
      ],
      "text/plain": [
       "                0             1             2             3             4    \\\n",
       "count  19000.000000  19000.000000  19000.000000  19000.000000  19000.000000   \n",
       "mean      -0.884197      1.174867     -0.162072      2.372958     -1.097224   \n",
       "std        0.057336      0.035830      0.010621      0.080495      0.078799   \n",
       "min       -1.123815      1.114091     -0.194880      2.279617     -1.448037   \n",
       "25%       -0.939234      1.138586     -0.170593      2.291092     -1.173884   \n",
       "50%       -0.884307      1.191901     -0.156982      2.389071     -1.100324   \n",
       "75%       -0.826499      1.209305     -0.155484      2.454265     -1.017673   \n",
       "max       -0.807100      1.269023     -0.121735      2.613164     -1.005671   \n",
       "\n",
       "                5             6             7             8             9    \\\n",
       "count  19000.000000  19000.000000  19000.000000  19000.000000  19000.000000   \n",
       "mean       0.590331      1.146033     -0.786790      0.916750     -0.253910   \n",
       "std        0.015979      0.059848      0.018527      0.061650      0.036521   \n",
       "min        0.451607      1.073621     -0.833690      0.844957     -0.327505   \n",
       "25%        0.579485      1.085283     -0.801466      0.854605     -0.288082   \n",
       "50%        0.590647      1.153252     -0.789315      0.916656     -0.253389   \n",
       "75%        0.603658      1.204084     -0.773836      0.978394     -0.224171   \n",
       "max        0.629433      1.389890     -0.653319      1.178585     -0.025364   \n",
       "\n",
       "       ...           502           503           504           505  \\\n",
       "count  ...  19000.000000  19000.000000  19000.000000  19000.000000   \n",
       "mean   ...     -0.918830      1.055716      0.451887     -2.334898   \n",
       "std    ...      0.030783      0.062237      0.038816      0.084514   \n",
       "min    ...     -1.010936      0.982677      0.407981     -2.610969   \n",
       "25%    ...     -0.949897      0.992711      0.412899     -2.419810   \n",
       "50%    ...     -0.921140      1.057342      0.450815     -2.348827   \n",
       "75%    ...     -0.887740      1.116209      0.491091     -2.249344   \n",
       "max    ...     -0.881922      1.316527      0.607452     -2.237084   \n",
       "\n",
       "                506           507           508           509           510  \\\n",
       "count  19000.000000  19000.000000  19000.000000  19000.000000  19000.000000   \n",
       "mean       3.705020      0.756638      1.649241     -5.629300     -0.617569   \n",
       "std        0.088328      0.023599      0.070680      0.151020      0.035683   \n",
       "min        3.549509      0.565516      1.565335     -6.059702     -0.747482   \n",
       "25%        3.616133      0.740606      1.577522     -5.781886     -0.653540   \n",
       "50%        3.728864      0.759026      1.654176     -5.659119     -0.618729   \n",
       "75%        3.792639      0.775767      1.719265     -5.476255     -0.581426   \n",
       "max        3.963905      0.813514      1.908085     -5.372425     -0.574358   \n",
       "\n",
       "                511  \n",
       "count  19000.000000  \n",
       "mean      -3.069335  \n",
       "std        0.086671  \n",
       "min       -3.309109  \n",
       "25%       -3.157063  \n",
       "50%       -3.087799  \n",
       "75%       -2.981225  \n",
       "max       -2.946775  \n",
       "\n",
       "[8 rows x 512 columns]"
      ]
     },
     "execution_count": 27,
     "metadata": {},
     "output_type": "execute_result"
    }
   ],
   "source": [
    "(df_enc.describe())"
   ]
  },
  {
   "cell_type": "code",
   "execution_count": 28,
   "id": "06007d39-35db-4b5c-86b6-c0be867c0473",
   "metadata": {},
   "outputs": [],
   "source": [
    "# Funzione per ottenere i percorsi delle immagini\n",
    "def get_image_paths(folder):\n",
    "    image_paths = []\n",
    "    for root, dirs, files in os.walk(folder):\n",
    "        for filename in files:\n",
    "            if filename.endswith(\".jpg\"):\n",
    "                image_paths.append(os.path.relpath(os.path.join(root, filename)))\n",
    "    return image_paths"
   ]
  },
  {
   "cell_type": "code",
   "execution_count": 29,
   "id": "5e2d20be-e3c2-4fdc-8df0-a24756e90cbc",
   "metadata": {},
   "outputs": [
    {
     "name": "stdout",
     "output_type": "stream",
     "text": [
      "Numero di immagini latenti: 10000\n",
      "Numero di immagini taming: 50000\n"
     ]
    }
   ],
   "source": [
    "current_dir = os.getcwd()\n",
    "fake_image_folder_latent = os.path.join(current_dir, \"dataset\", \"latent_diffusion\", \"latentdiff-t2i_spectrum\")\n",
    "fake_image_folder_taming = os.path.join(current_dir, \"dataset\", \"taming_transformer\", \"tt-ffhq_spectrum\")\n",
    "\n",
    "fake_image_paths_latent = get_image_paths(fake_image_folder_latent)\n",
    "fake_image_paths_taming = get_image_paths(fake_image_folder_taming)\n",
    "\n",
    "print(\"Numero di immagini latenti:\", len(fake_image_paths_latent))\n",
    "print(\"Numero di immagini taming:\", len(fake_image_paths_taming))\n",
    "\n",
    "# Selezionare un numero casuale di immagini\n",
    "num_random_elements = 1000\n",
    "taming_random = random.sample(fake_image_paths_taming, num_random_elements)\n",
    "latent_random = random.sample(fake_image_paths_latent, num_random_elements)\n",
    "\n",
    "# Ottenere gli embedding delle immagini selezionate\n",
    "embeddings_new_taming_latent_imgs = []\n",
    "image_paths = []\n",
    "\n",
    "for i in range(num_random_elements):\n",
    "    taming_random_img = io.imread(taming_random[i])\n",
    "    latent_random_img = io.imread(latent_random[i])\n",
    "    taming_random_img_embed = getImageEmbeddings(taming_random_img, model)[0, :]\n",
    "    latent_random_img_embed = getImageEmbeddings(latent_random_img, model)[0, :]\n",
    "    embeddings_new_taming_latent_imgs.append(taming_random_img_embed)\n",
    "    embeddings_new_taming_latent_imgs.append(latent_random_img_embed)\n",
    "    image_paths.append(taming_random[i])\n",
    "    image_paths.append(latent_random[i])"
   ]
  },
  {
   "cell_type": "code",
   "execution_count": 30,
   "id": "3c5b5f13-4857-4a9d-8f93-672c49272c16",
   "metadata": {},
   "outputs": [
    {
     "name": "stdout",
     "output_type": "stream",
     "text": [
      "Nuovo DataFrame con embedding e percorsi delle immagini:\n",
      "          0         1         2         3         4         5         6  \\\n",
      "0 -0.828495  1.136314 -0.156000  2.287863 -1.016009  0.601603  1.084617   \n",
      "1 -0.820487  1.138574 -0.154578  2.287149 -1.014650  0.605509  1.080806   \n",
      "2 -0.836749  1.132694 -0.153212  2.284738 -1.020524  0.590486  1.089877   \n",
      "3 -0.923515  1.216658 -0.161515  2.448773 -1.159096  0.593547  1.194098   \n",
      "4 -0.829189  1.135808 -0.155092  2.286202 -1.014297  0.600229  1.084841   \n",
      "\n",
      "          7         8         9  ...       503       504       505       506  \\\n",
      "0 -0.796112  0.852873 -0.284771  ...  0.992908  0.411358 -2.246380  3.608290   \n",
      "1 -0.804408  0.852071 -0.292992  ...  0.988550  0.412253 -2.243452  3.615056   \n",
      "2 -0.785109  0.856669 -0.268354  ...  0.997952  0.411644 -2.245922  3.587392   \n",
      "3 -0.799544  0.961848 -0.243668  ...  1.103216  0.480922 -2.409050  3.808773   \n",
      "4 -0.794835  0.851558 -0.281873  ...  0.992757  0.410275 -2.245044  3.602534   \n",
      "\n",
      "        507       508       509       510       511  \\\n",
      "0  0.770207  1.577132 -5.463385 -0.579971 -2.976046   \n",
      "1  0.780777  1.571556 -5.475001 -0.581043 -2.978477   \n",
      "2  0.758996  1.581800 -5.433971 -0.577960 -2.963326   \n",
      "3  0.764562  1.704704 -5.792348 -0.647620 -3.159141   \n",
      "4  0.769188  1.577023 -5.453878 -0.578607 -2.972523   \n",
      "\n",
      "                                              Anchor  \n",
      "0  dataset\\taming_transformer\\tt-ffhq_spectrum\\im...  \n",
      "1  dataset\\latent_diffusion\\latentdiff-t2i_spectr...  \n",
      "2  dataset\\taming_transformer\\tt-ffhq_spectrum\\im...  \n",
      "3  dataset\\latent_diffusion\\latentdiff-t2i_spectr...  \n",
      "4  dataset\\taming_transformer\\tt-ffhq_spectrum\\im...  \n",
      "\n",
      "[5 rows x 513 columns]\n"
     ]
    }
   ],
   "source": [
    "# Creare un DataFrame con gli embedding e i percorsi delle immagini\n",
    "df_latent_taming_new = pd.DataFrame(embeddings_new_taming_latent_imgs)\n",
    "df_latent_taming_new['Anchor'] = image_paths\n",
    "\n",
    "# Verifica del DataFrame creato\n",
    "print(\"Nuovo DataFrame con embedding e percorsi delle immagini:\")\n",
    "print(df_latent_taming_new.head())\n",
    "\n",
    "# Concatenare con il DataFrame esistente\n",
    "df_enc_plus_latent_taming = pd.concat([df_enc, df_latent_taming_new], ignore_index=True)\n",
    "\n",
    "# Salviamo il DataFrame risultante in un CSV\n",
    "df_enc_plus_latent_taming.to_csv('new_database_with(1000-latent_1000-taming).csv', index=False)\n",
    "\n",
    "saved_df = pd.read_csv('new_database_with(1000-latent_1000-taming).csv')"
   ]
  },
  {
   "cell_type": "code",
   "execution_count": 31,
   "id": "947e62e6-0929-4948-9082-8702b5aa7868",
   "metadata": {},
   "outputs": [],
   "source": [
    "# return the closest image in the database given an img_enc\n",
    "def searchInDatabase(img_enc, database):\n",
    "    anc_enc_arr = database.iloc[:, 1:].to_numpy()\n",
    "    anc_img_names = database['Anchor']\n",
    "\n",
    "    distance = []\n",
    "    for i in range(anc_enc_arr.shape[0]):\n",
    "        dist = euclidean_dist(img_enc, anc_enc_arr[i : i+1, :])\n",
    "        distance = np.append(distance, dist)\n",
    "    \n",
    "    closest_idx = np.argsort(distance)\n",
    "\n",
    "    return database['Anchor'][closest_idx[0]]"
   ]
  },
  {
   "cell_type": "markdown",
   "id": "a4fbf479-aa23-4513-a36d-c8338f176856",
   "metadata": {},
   "source": [
    "# Defining test list"
   ]
  },
  {
   "cell_type": "code",
   "execution_count": 48,
   "id": "dd431763-4465-4d76-b0ee-0ee36f5bf636",
   "metadata": {},
   "outputs": [],
   "source": [
    "test = \"test_set_taming_transformer.csv\"\n",
    "test_latent = pd.read_csv(test, header = None)"
   ]
  },
  {
   "cell_type": "markdown",
   "id": "f2fac103-ae1f-488a-ad75-c242c93737f8",
   "metadata": {},
   "source": [
    "## Testing"
   ]
  },
  {
   "cell_type": "code",
   "execution_count": 49,
   "id": "151523b3-3b35-4385-8e4b-944955e4f3e3",
   "metadata": {},
   "outputs": [],
   "source": [
    "database = df_enc_plus_latent_taming\n",
    "(database.describe())\n",
    "y_true = ['fake'] * 500 + ['real'] * 500\n",
    "y_pred = []"
   ]
  },
  {
   "cell_type": "code",
   "execution_count": 50,
   "id": "d475fe4f-af74-49b2-8658-eaf9df6dac04",
   "metadata": {},
   "outputs": [],
   "source": [
    "def test_images(test_df, start_index, end_index, database, model):\n",
    "    for index, row in tqdm(test_df.iloc[start_index:end_index].iterrows(), total=end_index-start_index):\n",
    "        img_name = row[0] # Accesso diretto alla prima (e unica) colonna\n",
    "\n",
    "        # Verifica se il nome del file è valido\n",
    "        if pd.isnull(img_name) or not os.path.isfile(img_name):\n",
    "            print(f\"Invalid image file path at index {index}: {img_name}\")\n",
    "            y_pred.append(\"error\")\n",
    "            continue\n",
    "        \n",
    "        # Leggi e processa l'immagine\n",
    "        img = io.imread(img_name)\n",
    "\n",
    "        # Ottieni gli embeddings dell'immagine\n",
    "        img_enc = getImageEmbeddings(img, model)\n",
    "\n",
    "        # Cerca nel database\n",
    "        closestLabel = searchInDatabase(img_enc, database)\n",
    "       \n",
    "        # Aggiungi la predizione alla lista\n",
    "        if \"coco\" in closestLabel:\n",
    "            y_pred.append(\"real\")\n",
    "        else:\n",
    "            y_pred.append(\"fake\")"
   ]
  },
  {
   "cell_type": "code",
   "execution_count": 51,
   "id": "c8f0808d-3a4b-40b3-9da5-156e06c27dc8",
   "metadata": {},
   "outputs": [
    {
     "name": "stderr",
     "output_type": "stream",
     "text": [
      "100%|██████████████████████████████████████████████████████████████████████████████| 1000/1000 [04:55<00:00,  3.38it/s]\n"
     ]
    }
   ],
   "source": [
    "test_images(test_latent, 0, 1000, database, model)"
   ]
  },
  {
   "cell_type": "code",
   "execution_count": 52,
   "id": "cf5211ed-dc2f-46a8-9e9b-5b1da8f4e251",
   "metadata": {},
   "outputs": [
    {
     "name": "stdout",
     "output_type": "stream",
     "text": [
      "(500,)\n",
      "(500,)\n",
      "(1000,)\n"
     ]
    }
   ],
   "source": [
    "#Creo i vettori di ground truth\n",
    "y_true = np.array(['fake'] * 500)\n",
    "print(y_true.shape)\n",
    "\n",
    "temp = np.array(['real'] * 500)\n",
    "print(temp.shape)\n",
    "\n",
    "y_true = np.concatenate([y_true, temp])\n",
    "print(y_true.shape)\n",
    "\n",
    "#Calcolo la matrice di confusione\n",
    "from sklearn.metrics import confusion_matrix\n",
    "cm = confusion_matrix(y_true, y_pred, labels=[\"real\", \"fake\"])"
   ]
  },
  {
   "cell_type": "code",
   "execution_count": 53,
   "id": "d3f6919e-0506-4f06-9eae-9be47d1d063a",
   "metadata": {},
   "outputs": [
    {
     "data": {
      "image/png": "[encoded data removed]",
      "text/plain": [
       "<Figure size 800x600 with 2 Axes>"
      ]
     },
     "metadata": {},
     "output_type": "display_data"
    }
   ],
   "source": [
    "#Estraggo dalla matrice di confusione i True Negative, False Positive, False Negative, True Positive\n",
    "TN, FP, FN, TP = confusion_matrix(y_true, y_pred, labels=[\"real\", \"fake\"]).ravel()\n",
    "\n",
    "# Plotto la matrice di confusione\n",
    "plt.figure(figsize=(8, 6))\n",
    "sns.heatmap(cm, annot=True, fmt='d', cmap='Blues', xticklabels=[\"real\", \"fake\"], yticklabels=[\"real\", \"fake\"])\n",
    "plt.xlabel('Predicted Labels')\n",
    "plt.ylabel('True Labels')\n",
    "plt.title('Confusion Matrix')\n",
    "# Salvo l'immagine\n",
    "plt.savefig('confusion_matrix_1000(taming_transformer-coco)_new_database(2000imgs).png')\n",
    "plt.show()"
   ]
  },
  {
   "cell_type": "code",
   "execution_count": 54,
   "id": "746a9283-0526-418d-bb15-8f69fd29c349",
   "metadata": {},
   "outputs": [
    {
     "data": {
      "image/png": "[encoded data removed]",
      "text/plain": [
       "<Figure size 1000x600 with 1 Axes>"
      ]
     },
     "metadata": {},
     "output_type": "display_data"
    }
   ],
   "source": [
    "#Calcolo alcune metriche per vedere come si comporta\n",
    "accuracy = round((TP + TN) /(TP + TN + FP + FN), 4) * 100\n",
    "precision = round((TP) / (TP + FP), 4) * 100\n",
    "sensitivy_recall = round((TP) / (TP + FN), 4) * 100\n",
    "specificity = round((TN) / (TN + FP) * 100, 4)\n",
    "F1_score = round((2* precision * sensitivy_recall) / (precision + sensitivy_recall), 2)\n",
    "\n",
    "metrics = {\n",
    "    \"Accuracy\": accuracy,\n",
    "    \"Precision\": precision,\n",
    "    \"Sensitivity/Recall\": sensitivy_recall,\n",
    "    \"Specificity\": specificity,\n",
    "    \"F1_score\": F1_score\n",
    "}\n",
    "\n",
    "# Nomi delle metriche\n",
    "labels = list(metrics.keys())\n",
    "\n",
    "# Valori delle metriche\n",
    "values = list(metrics.values())\n",
    "\n",
    "# Creazione dell'istogramma\n",
    "plt.figure(figsize=(10,6))\n",
    "plt.bar(labels, values, color=['blue', 'green', 'red', 'purple', 'orange'], width=0.5)\n",
    "\n",
    "# Aggiunta delle etichette\n",
    "for i in range(len(labels)):\n",
    "    plt.text(i, values[i], f'{values[i]}%', ha = 'center', va = 'bottom')\n",
    "\n",
    "# Titoli e etichette degli assi\n",
    "plt.title('Metriche')\n",
    "plt.xlabel('Metrica')\n",
    "plt.ylabel('Valore')\n",
    "\n",
    "plt.savefig('Metrics_with_taming_transformer-coco_new_database(2000imgs).png')\n",
    "\n",
    "# Mostra l'istogramma\n",
    "plt.show()"
   ]
  },
  {
   "cell_type": "code",
   "execution_count": 55,
   "id": "57a4506a-1c28-4fa1-ab9e-99224e321b74",
   "metadata": {},
   "outputs": [
    {
     "name": "stdout",
     "output_type": "stream",
     "text": [
      "{'Accuracy': 68.30000000000001, 'Precision': 87.03999999999999, 'Sensitivity_recall': 43.0, 'Specificity': 93.6, 'F1_score': 57.56}\n"
     ]
    }
   ],
   "source": [
    "print({\"Accuracy\":accuracy,\"Precision\":precision,\"Sensitivity_recall\":sensitivy_recall, \"Specificity\": specificity, \"F1_score\":F1_score})"
   ]
  },
  {
   "cell_type": "code",
   "execution_count": 19,
   "id": "b65dee18-d30a-4c3c-968d-8898674c73b2",
   "metadata": {},
   "outputs": [
    {
     "data": {
      "image/png": "[encoded data removed]",
      "text/plain": [
       "<Figure size 2000x1000 with 1 Axes>"
      ]
     },
     "metadata": {},
     "output_type": "display_data"
    }
   ],
   "source": [
    "# Data structured with models, metrics, and counts\n",
    "data = {\n",
    "    'condition': (['Without Images']*15 + ['With 10 Images']*15 + \n",
    "                  ['With 200 Images']*15 + ['With 2000 Images']*15),\n",
    "    'model': (['BigGan']*5 + ['Latent Diffusion']*5 + ['Taming Transformer']*5) * 4,\n",
    "    'metric': ['Accuracy', 'Precision', 'Sensitivity_Recall', 'Specificity', 'F1_Score'] * 12,\n",
    "    'count': [\n",
    "        99.5, 99.6, 99.4, 99.6, 99.5, 64.0, 98.61, 28.4, 99.6, 44.1, 61.0, 95.08, 23.20, 98.8, 37.3,  # Without Images\n",
    "        99.5, 99.6, 99.4, 99.6, 99.5, 64.1, 98.619, 28.59, 99.6, 44.34, 61.1, 95.12, 23.40, 98.8, 37.56, # With 10 Images\n",
    "        99.4, 99.4, 99.4, 99.4, 99.4, 66.2, 98.21, 33.0, 99.4, 49.4, 62.8, 94.44, 27.20, 98.4, 42.24,  # With 200 Images\n",
    "        97.7, 95.95, 99.6, 95.8, 97.74, 72.2, 92.05, 48.6, 95.8, 63.61, 68.30, 87.03, 43.0, 93.6, 57.56  # With 2000 Images\n",
    "    ]\n",
    "}\n",
    "\n",
    "df = pd.DataFrame(data)\n",
    "\n",
    "# Convert 'count' to percentages\n",
    "df['count'] = df['count'] / 100\n",
    "\n",
    "# Prepare the plot\n",
    "plt.figure(figsize=(20, 10))\n",
    "\n",
    "# Generate the unique x positions for each condition and metric\n",
    "conditions = df['condition'].unique()\n",
    "metrics = df['metric'].unique()\n",
    "models = df['model'].unique()\n",
    "x = np.arange(len(conditions) * len(models))  # the label locations\n",
    "width = 0.15  # the width of the bars\n",
    "\n",
    "# Plotting\n",
    "for i, metric in enumerate(metrics):\n",
    "    counts = []\n",
    "    for condition in conditions:\n",
    "        for model in models:\n",
    "            count = df[(df['condition'] == condition) & \n",
    "                       (df['metric'] == metric) & \n",
    "                       (df['model'] == model)]['count'].values[0]\n",
    "            counts.append(count)\n",
    "    plt.bar(x + i*width, counts, width, label=metric)\n",
    "\n",
    "# Add gridlines\n",
    "plt.grid(True, which='both', linestyle='--', linewidth=0.5, color='gray')\n",
    "\n",
    "# Add some text for labels, title and custom x-axis tick labels, etc.\n",
    "plt.ylabel('Percentage')\n",
    "plt.xlabel('Conditions and Models')\n",
    "plt.title('Comparison of Metrics Across Different Models and Number of Images Added')\n",
    "plt.xticks(x + width, [f'{condition}\\n{model}' for condition in conditions for model in models], rotation=45)\n",
    "plt.yticks(np.arange(0, 1.1, 0.1), [f'{int(i*100)}%' for i in np.arange(0, 1.1, 0.1)])\n",
    "plt.legend(loc='upper left', bbox_to_anchor=(1,1), title=\"Metrics\")\n",
    "\n",
    "plt.tight_layout()\n",
    "plt.savefig('All_Metrics_showed.png')\n",
    "plt.show()"
   ]
  },
  {
   "cell_type": "code",
   "execution_count": null,
   "id": "15c508dd-bba6-4fe6-8e4b-b921a88dfc08",
   "metadata": {},
   "outputs": [],
   "source": []
  }
 ],
 "metadata": {
  "kernelspec": {
   "display_name": "Python 3 (ipykernel)",
   "language": "python",
   "name": "python3"
  },
  "language_info": {
   "codemirror_mode": {
    "name": "ipython",
    "version": 3
   },
   "file_extension": ".py",
   "mimetype": "text/x-python",
   "name": "python",
   "nbconvert_exporter": "python",
   "pygments_lexer": "ipython3",
   "version": "3.11.9"
  }
 },
 "nbformat": 4,
 "nbformat_minor": 5
}
