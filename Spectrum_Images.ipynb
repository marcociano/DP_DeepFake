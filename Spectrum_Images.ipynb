{
 "cells": [
  {
   "cell_type": "code",
   "execution_count": 1,
   "id": "7e787bcc-e3e7-41ab-af26-3ca4acdd1a23",
   "metadata": {
    "editable": true,
    "slideshow": {
     "slide_type": ""
    },
    "tags": []
   },
   "outputs": [],
   "source": [
    "import os\n",
    "import cv2\n",
    "import numpy as np\n",
    "import matplotlib.pyplot as plt\n",
    "from scipy.ndimage import gaussian_filter, median_filter\n",
    "from numpy.fft import fft2, fftshift\n",
    "from tqdm import tqdm\n",
    "from skimage.restoration import (\n",
    "    denoise_tv_chambolle,\n",
    "    denoise_bilateral,\n",
    "    denoise_wavelet,\n",
    "    estimate_sigma,\n",
    ")"
   ]
  },
  {
   "cell_type": "code",
   "execution_count": 2,
   "id": "1c149819-d098-461b-8ef4-1d7102daa6a2",
   "metadata": {
    "editable": true,
    "slideshow": {
     "slide_type": ""
    },
    "tags": []
   },
   "outputs": [],
   "source": [
    "# Funzione per la trasformata di Fourier e la visualizzazione dello spettro\n",
    "def fourier_transform(image):\n",
    "    # Calcola la trasformata di Fourier\n",
    "    f_transform = np.fft.fft2(image)\n",
    "    f_shift = np.fft.fftshift(f_transform)\n",
    "    \n",
    "    # Calcola lo spettro di magnitudine\n",
    "    magnitude_spectrum = 20 * np.log(np.abs(f_shift))\n",
    "    \n",
    "    return magnitude_spectrum"
   ]
  },
  {
   "cell_type": "markdown",
   "id": "3d92f134-479f-4dda-b5d2-3cc9eb3992c5",
   "metadata": {},
   "source": [
    "\n",
    "\n",
    "\n",
    "Traslo le immagini dal dominio spaziale al dominio delle frequenze attraverso la trasformata di Fourier"
   ]
  },
  {
   "cell_type": "code",
   "execution_count": 3,
   "id": "62c8b703-0b98-40d2-bfd9-7136d3e44f17",
   "metadata": {
    "scrolled": true
   },
   "outputs": [],
   "source": [
    "# Funzione per elaborare tutte le immagini nelle sotto-cartelle\n",
    "def process_images_in_subfolders(input_folder, output_folder):\n",
    "    # Trova tutte le immagini nei percorsi specificati\n",
    "    image_files = []\n",
    "    for root, dirs, files in os.walk(input_folder):\n",
    "        for file_name in files:\n",
    "            if file_name.endswith(\".jpg\"):\n",
    "                image_files.append(os.path.join(root, file_name))\n",
    "\n",
    "    # Inizializza la barra di avanzamento con il numero totale di immagini\n",
    "    with tqdm(total=len(image_files), desc=\"Images processing...\") as pbar:\n",
    "        # Ciclo attraverso tutte le immagini e le elabora\n",
    "        for image_path in image_files:\n",
    "            # Carica l'immagine\n",
    "            image = cv2.imread(image_path, cv2.IMREAD_GRAYSCALE)\n",
    "\n",
    "            # Applico il filtro gaussiano per effettuare il denoising dell'immagine\n",
    "            currentResidual = image - gaussian_filter(image, sigma=50)\n",
    "            \n",
    "            # Applica la trasformata di Fourier\n",
    "            spectrum = fourier_transform(currentResidual)\n",
    "            \n",
    "            # Crea il percorso di output mantenendo la struttura delle sotto-cartelle\n",
    "            relative_path = os.path.relpath(os.path.dirname(image_path), input_folder)\n",
    "            output_subfolder = os.path.join(output_folder, relative_path)\n",
    "            output_path = os.path.join(output_subfolder, os.path.basename(image_path))\n",
    "            \n",
    "            # Controlla se la sotto-cartella di output esiste, altrimenti lòa crea\n",
    "            if not os.path.exists(output_subfolder):\n",
    "                os.makedirs(output_subfolder)\n",
    "            \n",
    "            # Salva l'immagine nello spazio delle frequenze\n",
    "            cv2.imwrite(output_path, spectrum)\n",
    "            \n",
    "            # Aggiorna la barra di avanzamento\n",
    "            pbar.update(1)"
   ]
  },
  {
   "cell_type": "markdown",
   "id": "abd3a31c-4385-4489-9657-242cf87f708f",
   "metadata": {},
   "source": [
    "\n",
    "\n",
    "Qui di seguito vengono salvati all'interno della directory di destinazione \"biggan_spectrum\" gli spettri delle immagini generate dal modello BigGAN"
   ]
  },
  {
   "cell_type": "code",
   "execution_count": 4,
   "id": "6c394c3e-6eea-45df-a7c3-260be43b70d5",
   "metadata": {},
   "outputs": [
    {
     "name": "stderr",
     "output_type": "stream",
     "text": [
      "Images processing...: 100%|██████████████████████████████████████████████████████| 10000/10000 [02:26<00:00, 68.44it/s]\n"
     ]
    }
   ],
   "source": [
    "# Ottiene il percorso corrente dello script\n",
    "current_dir = os.getcwd()\n",
    "\n",
    "# Cartella contenente le immagini create con la BigGAN\n",
    "input_folder = os.path.join(current_dir, \"dataset\", \"big_gan\", \"big\", \"biggan-data\")\n",
    "\n",
    "# Cartella di destinazione per le immagini nello spazio delle frequenze; \n",
    "# ho creato la cartella biggan-spectrum, la quale mantiene la stessa gerarchia della cartella\n",
    "# contenente le immagini prima della trasformazione\n",
    "output_folder = os.path.join(current_dir, \"dataset\", \"big_gan\", \"big\", \"biggan-spectrum\")\n",
    "\n",
    "# Controlla che la cartella di destinazione esiste, altrimenti la crea\n",
    "if not os.path.exists(output_folder):\n",
    "    os.makedirs(output_folder)\n",
    "\n",
    "# Elabora tutte le immagini nelle sotto-cartelle\n",
    "process_images_in_subfolders(input_folder, output_folder)"
   ]
  },
  {
   "cell_type": "markdown",
   "id": "3fc9128e-56df-4599-885f-3507a6ebd647",
   "metadata": {},
   "source": [
    "\n",
    "\n",
    "Qui di seguito avviene il salvataggio degli spettri di Fourier delle immagini generate dal modello Taming Transformer, presenti nella directory \"tt-cc\" all'interno della directory di destinazione \"tt-cc_spectrum\""
   ]
  },
  {
   "cell_type": "code",
   "execution_count": 5,
   "id": "90b0ba7a-7c3b-4bcf-886a-1bfd74108e89",
   "metadata": {},
   "outputs": [
    {
     "name": "stderr",
     "output_type": "stream",
     "text": [
      "Images processing...: 100%|██████████████████████████████████████████████████████| 50000/50000 [13:19<00:00, 62.52it/s]\n"
     ]
    }
   ],
   "source": [
    "# Ottiene il percorso corrente dello script\n",
    "current_dir = os.getcwd()\n",
    "\n",
    "# Cartella contenente le immagini create con la Taming Transformer\n",
    "input_folder = os.path.join(current_dir, \"dataset\", \"taming_transformer\", \"tt-cc\", \"cin_k600_p1.0_a0.05_fid5.20\")\n",
    "\n",
    "# Cartella di destinazione per le immagini nello spazio delle frequenze; \n",
    "# ho creato la cartella biggan-spectrum, la quale mantiene la stessa gerarchia della cartella\n",
    "# contenente le immagini prima della trasformazione\n",
    "output_folder = os.path.join(current_dir, \"dataset\", \"taming_transformer\", \"tt-cc_spectrum\")\n",
    "\n",
    "# Controlla che la cartella di destinazione esiste, altrimenti la crea\n",
    "if not os.path.exists(output_folder):\n",
    "    os.makedirs(output_folder)\n",
    "\n",
    "# Elabora tutte le immagini nelle sotto-cartelle\n",
    "process_images_in_subfolders(input_folder, output_folder)"
   ]
  },
  {
   "cell_type": "markdown",
   "id": "4ffe659c-33ff-4e92-a366-98fae2c4a8f1",
   "metadata": {},
   "source": [
    "\n",
    "\n",
    "Qui di seguito avviene il salvataggio degli spettri di Fourier delle immagini generate dal modello Taming Transformer, presenti nella directory \"tt-coco\" all'interno della directory di destinazione \"tt-coco_spectrum\""
   ]
  },
  {
   "cell_type": "code",
   "execution_count": 6,
   "id": "b3ae553d-229a-418e-a457-f659f6e2035f",
   "metadata": {},
   "outputs": [
    {
     "name": "stderr",
     "output_type": "stream",
     "text": [
      "Images processing...: 100%|████████████████████████████████████████████████████████| 5000/5000 [01:14<00:00, 66.95it/s]\n"
     ]
    }
   ],
   "source": [
    "# Cartella contenente le immagini create con la Taming Transformer\n",
    "input_folder = os.path.join(current_dir, \"dataset\", \"taming_transformer\", \"tt-coco\", \"samples_nopix\")\n",
    "\n",
    "# Cartella di destinazione per le immagini nello spazio delle frequenze; \n",
    "# ho creato la cartella biggan-spectrum, la quale mantiene la stessa gerarchia della cartella\n",
    "# contenente le immagini prima della trasformazione\n",
    "output_folder = os.path.join(current_dir, \"dataset\", \"taming_transformer\", \"tt-coco_spectrum\")\n",
    "\n",
    "# Controlla che la cartella di destinazione esiste, altrimenti la crea\n",
    "if not os.path.exists(output_folder):\n",
    "    os.makedirs(output_folder)\n",
    "\n",
    "# Elabora tutte le immagini nelle sotto-cartelle\n",
    "process_images_in_subfolders(input_folder, output_folder)"
   ]
  },
  {
   "cell_type": "markdown",
   "id": "83bda043-95a8-4dac-a3dc-7a05a0d0818c",
   "metadata": {},
   "source": [
    "\n",
    "\n",
    "Qui di seguito avviene il salvataggio degli spettri di Fourier delle immagini generate dal modello Taming Transformer, presenti nella directory \"tt-ffhq\" all'interno della directory di destinazione \"tt-ffhq_spectrum\""
   ]
  },
  {
   "cell_type": "code",
   "execution_count": 7,
   "id": "3df5b94e-f94e-43b0-ae06-cd66e7ffe05e",
   "metadata": {},
   "outputs": [
    {
     "name": "stderr",
     "output_type": "stream",
     "text": [
      "Images processing...: 100%|██████████████████████████████████████████████████████| 50000/50000 [12:14<00:00, 68.10it/s]\n"
     ]
    }
   ],
   "source": [
    "# Cartella contenente le immagini create con la Taming Transformer\n",
    "input_folder = os.path.join(current_dir, \"dataset\", \"taming_transformer\", \"tt-ffhq\", \"ffhq_k300_p1.0_fid9.6\")\n",
    "\n",
    "# Cartella di destinazione per le immagini nello spazio delle frequenze; \n",
    "# ho creato la cartella biggan-spectrum, la quale mantiene la stessa gerarchia della cartella\n",
    "# contenente le immagini prima della trasformazione\n",
    "output_folder = os.path.join(current_dir, \"dataset\", \"taming_transformer\", \"tt-ffhq_spectrum\")\n",
    "\n",
    "# Controlla che la cartella di destinazione esiste, altrimenti la crea\n",
    "if not os.path.exists(output_folder):\n",
    "    os.makedirs(output_folder)\n",
    "\n",
    "# Elabora tutte le immagini nelle sotto-cartelle\n",
    "process_images_in_subfolders(input_folder, output_folder)"
   ]
  },
  {
   "cell_type": "markdown",
   "id": "502659a6-b502-4946-8d65-4faee4847ed8",
   "metadata": {},
   "source": [
    "Qui di seguito avviene il salvataggio degli spettri di Fourier delle immagine generate dal modello Latent Diffusion, presenti nella cartella \"latentdiff\" all'interno della cartella di destinazione \"latentdiff_spectrum\""
   ]
  },
  {
   "cell_type": "code",
   "execution_count": 8,
   "id": "ce53a08f-5562-4245-be34-bf4abcb4dc02",
   "metadata": {},
   "outputs": [
    {
     "name": "stderr",
     "output_type": "stream",
     "text": [
      "Images processing...: 100%|██████████████████████████████████████████████████████| 10000/10000 [03:00<00:00, 55.55it/s]\n"
     ]
    }
   ],
   "source": [
    "# Cartella contenente le immagini create con il modello Latent Diffusion\n",
    "input_folder = os.path.join(current_dir, \"dataset\", \"latent_diffusion\", \"latentdiff\")\n",
    "\n",
    "# Cartella di destinazione per le immagini nello spazio delle frequenze; \n",
    "# ho creato la cartella biggan-spectrum, la quale mantiene la stessa gerarchia della cartella\n",
    "# contenente le immagini prima della trasformazione\n",
    "output_folder = os.path.join(current_dir, \"dataset\", \"latent_diffusion\", \"latentdiff_spectrum\")\n",
    "\n",
    "# Controlla che la cartella di destinazione esiste, altrimenti la crea\n",
    "if not os.path.exists(output_folder):\n",
    "    os.makedirs(output_folder)\n",
    "\n",
    "# Elabora tutte le immagini nelle sotto-cartelle\n",
    "process_images_in_subfolders(input_folder, output_folder)"
   ]
  },
  {
   "cell_type": "markdown",
   "id": "3d28d087-6a97-4466-93aa-e39118470625",
   "metadata": {},
   "source": [
    "Qui di seguito avviene il salvataggio degli spettri di Fourier delle immagine generate dal modello Latent Diffusion, presenti nella cartella \"latentdiff-t2i\" all'interno della cartella di destinazione \"latentdiff-t2i_spectrum\""
   ]
  },
  {
   "cell_type": "code",
   "execution_count": 9,
   "id": "660b1c67-67d2-4c3d-a8c0-a73ce285ea16",
   "metadata": {},
   "outputs": [
    {
     "name": "stderr",
     "output_type": "stream",
     "text": [
      "Images processing...: 100%|██████████████████████████████████████████████████████| 10000/10000 [03:01<00:00, 54.98it/s]\n"
     ]
    }
   ],
   "source": [
    "# Cartella contenente le immagini create con il modello Latent Diffusion\n",
    "input_folder = os.path.join(current_dir, \"dataset\", \"latent_diffusion\", \"latentdiff-t2i\", \"images\")\n",
    "\n",
    "# Cartella di destinazione per le immagini nello spazio delle frequenze; \n",
    "# ho creato la cartella biggan-spectrum, la quale mantiene la stessa gerarchia della cartella\n",
    "# contenente le immagini prima della trasformazione\n",
    "output_folder = os.path.join(current_dir, \"dataset\", \"latent_diffusion\", \"latentdiff-t2i_spectrum\")\n",
    "\n",
    "# Controlla che la cartella di destinazione esiste, altrimenti la crea\n",
    "if not os.path.exists(output_folder):\n",
    "    os.makedirs(output_folder)\n",
    "\n",
    "# Elabora tutte le immagini nelle sotto-cartelle\n",
    "process_images_in_subfolders(input_folder, output_folder)"
   ]
  }
 ],
 "metadata": {
  "kernelspec": {
   "display_name": "Python 3 (ipykernel)",
   "language": "python",
   "name": "python3"
  },
  "language_info": {
   "codemirror_mode": {
    "name": "ipython",
    "version": 3
   },
   "file_extension": ".py",
   "mimetype": "text/x-python",
   "name": "python",
   "nbconvert_exporter": "python",
   "pygments_lexer": "ipython3",
   "version": "3.11.9"
  }
 },
 "nbformat": 4,
 "nbformat_minor": 5
}
