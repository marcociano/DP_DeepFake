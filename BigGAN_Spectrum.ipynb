{
 "cells": [
  {
   "cell_type": "code",
   "execution_count": 76,
   "id": "7e787bcc-e3e7-41ab-af26-3ca4acdd1a23",
   "metadata": {
    "editable": true,
    "slideshow": {
     "slide_type": ""
    },
    "tags": []
   },
   "outputs": [],
   "source": [
    "import os\n",
    "import cv2\n",
    "import numpy as np\n",
    "import matplotlib.pyplot as plt\n",
    "from scipy.ndimage import gaussian_filter, median_filter\n",
    "from numpy.fft import fft2, fftshift\n",
    "from tqdm import tqdm\n",
    "from skimage.restoration import (\n",
    "    denoise_tv_chambolle,\n",
    "    denoise_bilateral,\n",
    "    denoise_wavelet,\n",
    "    estimate_sigma,\n",
    ")"
   ]
  },
  {
   "cell_type": "code",
   "execution_count": 77,
   "id": "1c149819-d098-461b-8ef4-1d7102daa6a2",
   "metadata": {
    "editable": true,
    "slideshow": {
     "slide_type": ""
    },
    "tags": []
   },
   "outputs": [],
   "source": [
    "# Funzione per la trasformata di Fourier e la visualizzazione dello spettro\n",
    "def fourier_transform(image):\n",
    "    # Calcola la trasformata di Fourier\n",
    "    f_transform = np.fft.fft2(image)\n",
    "    f_shift = np.fft.fftshift(f_transform)\n",
    "    \n",
    "    # Calcola lo spettro di magnitudine\n",
    "    magnitude_spectrum = 20 * np.log(np.abs(f_shift))\n",
    "    \n",
    "    return magnitude_spectrum"
   ]
  },
  {
   "cell_type": "markdown",
   "id": "3d92f134-479f-4dda-b5d2-3cc9eb3992c5",
   "metadata": {},
   "source": [
    "\n",
    "\n",
    "\n",
    "Traslo le immagini dal dominio spaziale al dominio delle frequenze attraverso la trasformata di Fourier"
   ]
  },
  {
   "cell_type": "code",
   "execution_count": 92,
   "id": "62c8b703-0b98-40d2-bfd9-7136d3e44f17",
   "metadata": {
    "scrolled": true
   },
   "outputs": [],
   "source": [
    "# Funzione per elaborare tutte le immagini nelle sotto-cartelle\n",
    "def process_images_in_subfolders(input_folder, output_folder):\n",
    "    # Trova tutte le immagini nei percorsi specificati\n",
    "    image_files = []\n",
    "    for root, dirs, files in os.walk(input_folder):\n",
    "        for file_name in files:\n",
    "            if file_name.endswith(\".jpg\"):\n",
    "                image_files.append(os.path.join(root, file_name))\n",
    "\n",
    "    # Inizializza la barra di avanzamento con il numero totale di immagini\n",
    "    with tqdm(total=len(image_files), desc=\"Images processing...\") as pbar:\n",
    "        # Ciclo attraverso tutte le immagini e le elabora\n",
    "        for image_path in image_files:\n",
    "            # Carica l'immagine\n",
    "            image = cv2.imread(image_path, cv2.IMREAD_GRAYSCALE)\n",
    "\n",
    "            # Applico il filtro gaussiano per effettuare il denoising dell'immagine\n",
    "            currentResidual = image - gaussian_filter(image, sigma=50)\n",
    "            \n",
    "            # Applica la trasformata di Fourier\n",
    "            spectrum = fourier_transform(currentResidual)\n",
    "            \n",
    "            # Crea il percorso di output mantenendo la struttura delle sotto-cartelle\n",
    "            relative_path = os.path.relpath(os.path.dirname(image_path), input_folder)\n",
    "            output_subfolder = os.path.join(output_folder, relative_path)\n",
    "            output_path = os.path.join(output_subfolder, os.path.basename(image_path))\n",
    "            \n",
    "            # Controlla se la sotto-cartella di output esiste, altrimenti lòa crea\n",
    "            if not os.path.exists(output_subfolder):\n",
    "                os.makedirs(output_subfolder)\n",
    "            \n",
    "            # Salva l'immagine nello spazio delle frequenze\n",
    "            cv2.imwrite(output_path, spectrum)\n",
    "            \n",
    "            # Aggiorna la barra di avanzamento\n",
    "            pbar.update(1)"
   ]
  },
  {
   "cell_type": "markdown",
   "id": "abd3a31c-4385-4489-9657-242cf87f708f",
   "metadata": {},
   "source": [
    "\n",
    "\n",
    "\n",
    "Qui di seguito vengono salvati all'interno della directory di destinazione \"biggan_spectrum\" gli spettri delle immagini generate con il modello BigGAN"
   ]
  },
  {
   "cell_type": "code",
   "execution_count": 93,
   "id": "6c394c3e-6eea-45df-a7c3-260be43b70d5",
   "metadata": {},
   "outputs": [
    {
     "name": "stderr",
     "output_type": "stream",
     "text": [
      "Images processing...: 100%|██████████████████████████████████████████████████████| 10000/10000 [02:18<00:00, 72.06it/s]\n"
     ]
    }
   ],
   "source": [
    "# Ottiene il percorso corrente dello script\n",
    "current_dir = os.getcwd()\n",
    "\n",
    "# Cartella contenente le immagini create con la BigGAN\n",
    "input_folder = os.path.join(current_dir, \"dataset\", \"big_gan\", \"big\", \"biggan-data\")\n",
    "\n",
    "# Cartella di destinazione per le immagini nello spazio delle frequenze; \n",
    "# ho creato la cartella biggan-spectrum, la quale mantiene la stessa gerarchia della cartella\n",
    "# contenente le immagini prima della trasformazione\n",
    "output_folder = os.path.join(current_dir, \"dataset\", \"big_gan\", \"big\", \"biggan-spectrum\")\n",
    "\n",
    "# Controlla che la cartella di destinazione esiste, altrimenti la crea\n",
    "if not os.path.exists(output_folder):\n",
    "    os.makedirs(output_folder)\n",
    "\n",
    "# Elabora tutte le immagini nelle sotto-cartelle\n",
    "process_images_in_subfolders(input_folder, output_folder)"
   ]
  }
 ],
 "metadata": {
  "kernelspec": {
   "display_name": "Python 3 (ipykernel)",
   "language": "python",
   "name": "python3"
  },
  "language_info": {
   "codemirror_mode": {
    "name": "ipython",
    "version": 3
   },
   "file_extension": ".py",
   "mimetype": "text/x-python",
   "name": "python",
   "nbconvert_exporter": "python",
   "pygments_lexer": "ipython3",
   "version": "3.11.9"
  }
 },
 "nbformat": 4,
 "nbformat_minor": 5
}
