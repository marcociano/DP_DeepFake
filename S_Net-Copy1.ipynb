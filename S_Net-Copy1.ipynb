{
 "cells": [
  {
   "cell_type": "code",
   "execution_count": 2,
   "id": "b13eac17-2e8f-4c3e-a4aa-f688c100c1ae",
   "metadata": {},
   "outputs": [],
   "source": [
    "import pandas as pd\n",
    "import numpy as np\n",
    "import matplotlib.pyplot as plt\n",
    "import torch\n",
    "import timm\n",
    "import os\n",
    "import torch.nn.functional as F\n",
    "from torch import nn\n",
    "from torch.utils.data import Dataset, DataLoader\n",
    "from skimage import io\n",
    "import seaborn as sns\n",
    "from sklearn.model_selection import train_test_split\n",
    "from tqdm import tqdm\n",
    "import cv2\n",
    "import random"
   ]
  },
  {
   "cell_type": "markdown",
   "id": "25453993-8fd2-476b-87e2-f5d132fda91a",
   "metadata": {},
   "source": [
    "## Cuda\n"
   ]
  },
  {
   "cell_type": "code",
   "execution_count": 3,
   "id": "79d934d3-8519-4bf4-931a-c9fd78ffb283",
   "metadata": {},
   "outputs": [],
   "source": [
    "#Controllo che torch sia installato con CUDA abilitato\n",
    "def check_cuda():\n",
    "    print(torch.version.cuda)\n",
    "    cuda_is_ok = torch.cuda.is_available()\n",
    "    print(f\"CUDA Enabled: {cuda_is_ok}\")"
   ]
  },
  {
   "cell_type": "code",
   "execution_count": 4,
   "id": "f4971006-88ee-414f-9926-145d1c7e94b8",
   "metadata": {},
   "outputs": [
    {
     "name": "stdout",
     "output_type": "stream",
     "text": [
      "11.7\n"
     ]
    }
   ],
   "source": [
    "print(torch.version.cuda)"
   ]
  },
  {
   "cell_type": "markdown",
   "id": "1dcd653f-95d6-4072-8d2b-24cb7036f4d8",
   "metadata": {},
   "source": [
    "## Model parameters\n"
   ]
  },
  {
   "cell_type": "code",
   "execution_count": 5,
   "id": "00527b4d-d57a-40e8-b4ef-212cd499a44f",
   "metadata": {},
   "outputs": [],
   "source": [
    "model_weights = True"
   ]
  },
  {
   "cell_type": "code",
   "execution_count": 6,
   "id": "4b339558-6af2-4750-916c-bcdb35974c29",
   "metadata": {},
   "outputs": [],
   "source": [
    "#Directory per i file di train\n",
    "DATA_DIR = ''\n",
    "\n",
    "#Grandezza del Batch (iperparametro)\n",
    "BATCH_SIZE = 32\n",
    "\n",
    "#Learning Rate (Iperparametro)\n",
    "LR = 0.001\n",
    "\n",
    "#Numero di epoche (Iperparametro)\n",
    "EPOCHS = 80\n",
    "\n",
    "DEVICE = 'cuda'"
   ]
  },
  {
   "cell_type": "markdown",
   "id": "995369b7-baef-4e0e-9515-fc9ca97f6f54",
   "metadata": {},
   "source": [
    "## Dataloader and dataset creation"
   ]
  },
  {
   "cell_type": "code",
   "execution_count": 7,
   "id": "1061cf99-c4d1-476a-bfa8-ba6284d51661",
   "metadata": {},
   "outputs": [
    {
     "name": "stdout",
     "output_type": "stream",
     "text": [
      "Size of train set: 15000\n",
      "Size of valid set: 4000\n",
      "Size of test set: 1000\n"
     ]
    }
   ],
   "source": [
    "# Carica il file csv\n",
    "df_real = pd.read_csv(\"real_image_dataset_coco.csv\")\n",
    "\n",
    "df_fake = pd.read_csv(\"fake_image_dataset_biggan.csv\")\n",
    "\n",
    "train_df_real, valid_df_real = train_test_split(df_real, test_size = 0.20, random_state = 42)\n",
    "train_df_fake, valid_df_fake = train_test_split(df_fake, test_size = 0.20, random_state = 42)\n",
    "\n",
    "test_df_real = train_df_real.sample(500)\n",
    "test_df_fake = train_df_fake.sample(500)\n",
    "\n",
    "train_df_real = train_df_real.drop(test_df_real.index)\n",
    "train_df_fake = train_df_fake.drop(test_df_fake.index)\n",
    "\n",
    "train_df = pd.concat([train_df_real, train_df_fake])\n",
    "valid_df = pd.concat([valid_df_real, valid_df_fake])\n",
    "\n",
    "test_df = pd.concat([test_df_fake,test_df_real])\n",
    "\n",
    "\n",
    "# shuffle\n",
    "train_df= train_df.sample(frac= 1)\n",
    "valid_df= valid_df.sample(frac= 1)\n",
    "\n",
    "# Unisci tutti i dataframe in un unico dataframe finale per il train set\n",
    "final_df = pd.concat([train_df, valid_df])\n",
    "\n",
    "# Salva il dataframe finale di trian in un file CSV\n",
    "final_df.to_csv(\"spectrum_train_dataset.csv\", index=False)\n",
    "df = pd.read_csv(\"spectrum_train_dataset.csv\")\n",
    "\n",
    "\n",
    "# Crea una lista combinata con 500 immagini false seguite da 500 immagini reali\n",
    "combined_images = test_df[\"Anchor\"]\n",
    "\n",
    "# Crea il dataframe del test set con una sola colonna\n",
    "#test_df = pd.DataFrame(combined_images, columns=[''])\n",
    "\n",
    "# Salva il dataframe del test set in un file CSV\n",
    "#test_df.to_csv(\"test_set.csv\", index=False, header=False)\n",
    "\n",
    "print('Size of train set:', len(train_df))\n",
    "print('Size of valid set:', len(valid_df))\n",
    "print('Size of test set:', len(test_df))"
   ]
  },
  {
   "cell_type": "code",
   "execution_count": 8,
   "id": "03d18e77-245e-46d9-bc4b-38042ede388a",
   "metadata": {},
   "outputs": [],
   "source": [
    "# Carico le immagini del file CSV che ho fornito, per settarle in modo corretto e darle in input alla rete neurale\n",
    "class APN_Dataset(Dataset):\n",
    "\n",
    "  def __init__(self, df):\n",
    "    self.df = df\n",
    "\n",
    "  def __len__(self):\n",
    "    return len(self.df)\n",
    "\n",
    "  def __getitem__(self, idx):\n",
    "    row = self.df.iloc[idx]\n",
    "\n",
    "    A_img = io.imread(DATA_DIR + row.Anchor, as_gray= True)\n",
    "    P_img = io.imread(DATA_DIR + row.Positive, as_gray= True)\n",
    "    N_img = io.imread(DATA_DIR + row.Negative, as_gray= True)\n",
    "\n",
    "    \n",
    "    # Aggiungi dimensione per il batch\n",
    "    A_img = np.expand_dims(A_img, 0)\n",
    "    P_img = np.expand_dims(P_img, 0)\n",
    "    N_img = np.expand_dims(N_img, 0)\n",
    "\n",
    "    A_img = torch.from_numpy(A_img)/ 255.0\n",
    "    P_img = torch.from_numpy(P_img)/ 255.0\n",
    "    N_img = torch.from_numpy(N_img)/ 255.0\n",
    "      \n",
    "    #A_img = torch.from_numpy(A_img.astype(np.int32)) / 65536.0\n",
    "    #P_img = torch.from_numpy(P_img.astype(np.int32)) / 65536.0\n",
    "    #N_img = torch.from_numpy(N_img.astype(np.int32)) / 65536.0\n",
    "\n",
    "    return A_img, P_img, N_img"
   ]
  },
  {
   "cell_type": "code",
   "execution_count": 9,
   "id": "155262e9-605e-47ac-b29b-206337ac7847",
   "metadata": {},
   "outputs": [
    {
     "name": "stdout",
     "output_type": "stream",
     "text": [
      "torch.Size([1, 200, 200])\n"
     ]
    }
   ],
   "source": [
    "data = APN_Dataset(train_df)\n",
    "item1, item2, item3 = data.__getitem__(0)\n",
    "print(item1.shape)"
   ]
  },
  {
   "cell_type": "markdown",
   "id": "c47edd68-032d-4893-a36c-127895563e56",
   "metadata": {},
   "source": [
    "Qui di seguito mi stampo il numero che compone l'insieme di dati di train, test e validation"
   ]
  },
  {
   "cell_type": "code",
   "execution_count": 10,
   "id": "e65299e8-9581-4595-a6f5-07e5568b0d46",
   "metadata": {},
   "outputs": [
    {
     "name": "stdout",
     "output_type": "stream",
     "text": [
      "Size of trainset: 15000\n",
      "Size of validset: 4000\n",
      "Size of validset: 1000\n"
     ]
    }
   ],
   "source": [
    "trainset = APN_Dataset(train_df)\n",
    "validset = APN_Dataset(valid_df)\n",
    "testset = APN_Dataset(test_df)\n",
    "\n",
    "print(f\"Size of trainset: {len(trainset)}\")\n",
    "print(f\"Size of validset: {len(validset)}\")\n",
    "print(f\"Size of validset: {len(testset)}\")"
   ]
  },
  {
   "cell_type": "markdown",
   "id": "f0db331c-6d35-4fb3-8ceb-632e59b70a65",
   "metadata": {},
   "source": [
    "Carichiamo i dati di train e validation nella batch"
   ]
  },
  {
   "cell_type": "code",
   "execution_count": 11,
   "id": "fd299359-b3c3-4714-a276-3cd729ef3235",
   "metadata": {},
   "outputs": [],
   "source": [
    "trainloader = DataLoader(trainset, batch_size = BATCH_SIZE, shuffle = True)\n",
    "validloader = DataLoader(validset, batch_size = BATCH_SIZE)\n",
    "testloader = DataLoader(testset, batch_size = 1)"
   ]
  },
  {
   "cell_type": "code",
   "execution_count": 12,
   "id": "240a522f-42d0-4499-ab22-7ddf7e8976e4",
   "metadata": {},
   "outputs": [
    {
     "name": "stdout",
     "output_type": "stream",
     "text": [
      "No. of batches in trainloader : 469\n",
      "No. of batches in validloader : 125\n",
      "No. of batches in testloader : 1000\n"
     ]
    }
   ],
   "source": [
    "print(f\"No. of batches in trainloader : {len(trainloader)}\")\n",
    "print(f\"No. of batches in validloader : {len(validloader)}\")\n",
    "print(f\"No. of batches in testloader : {len(testloader)}\")"
   ]
  },
  {
   "cell_type": "markdown",
   "id": "1158e1df-d8b4-42f9-9f21-0e5328847270",
   "metadata": {},
   "source": [
    "Questa funzione definisce un modello di rete neurale chiamato APN_Model, che carica un'architettura di rete preaddestrata e sostituisce il classificatore finale con un nuovo classificatore personalizzato."
   ]
  },
  {
   "cell_type": "markdown",
   "id": "899a547e-e96a-4794-b334-eff1d447642a",
   "metadata": {},
   "source": [
    "## Model definition"
   ]
  },
  {
   "cell_type": "code",
   "execution_count": 13,
   "id": "29a6a526-fdac-4a44-9de8-d69a057a3369",
   "metadata": {},
   "outputs": [],
   "source": [
    "#Carico il modello di rete neurale\n",
    "class APN_Model(nn.Module):\n",
    "\n",
    "    #Viene definita la size del vettore di embedding\n",
    "  def __init__(self, emb_size = 512):\n",
    "    super(APN_Model, self).__init__()\n",
    "\n",
    "    #QUI CAIRCATE IL MODELLO, IN QUESTO CASO EFFICIENTNET VERSIONE B0 (LA PIù LEGGERA DELLA FAMIGLIA)\n",
    "    self.efficientnet = timm.create_model('tf_efficientnetv2_b0', pretrained = False)\n",
    "    self.efficientnet.classifier = nn.Linear(in_features=self.efficientnet.classifier.in_features, out_features = emb_size)\n",
    "\n",
    "  def forward(self, images):\n",
    "    embeddings = self.efficientnet(images)\n",
    "    return embeddings"
   ]
  },
  {
   "cell_type": "code",
   "execution_count": 14,
   "id": "a2744ff4-084e-4ab3-ba35-1cfb5ece3706",
   "metadata": {},
   "outputs": [],
   "source": [
    "#QUI FATE UNA PICCOLA MODIFICA ALLA RETE PER FARLE AVERE IN INPUT IMMAGINI IN SCALA DI GRIGIO DELLO SPETTRO DI FOURIER\n",
    "model = APN_Model()\n",
    "model.efficientnet.conv_stem = nn.Conv2d(1, 32, 3, 2, 1, bias=False);\n",
    "\n",
    "if model_weights == True :\n",
    "    model.load_state_dict(torch.load('trained_model_on_20000.pt'))\n",
    "\n",
    "model.to(DEVICE);"
   ]
  },
  {
   "cell_type": "markdown",
   "id": "9e23bda1-1a4f-46c6-a29f-e3f9bb988185",
   "metadata": {},
   "source": [
    "## Evaluation functions"
   ]
  },
  {
   "cell_type": "code",
   "execution_count": 15,
   "id": "3a1eea0c-3caa-45d0-a4fd-bbfc9a71669a",
   "metadata": {},
   "outputs": [],
   "source": [
    "#FUNZIONE DI TEST\n",
    "def test_fn(model, dataloader, criterion):\n",
    "  model.train() #ON Dropout\n",
    "  total_loss = 0.0\n",
    "\n",
    "  with torch.no_grad():  \n",
    "    for A, P, N in tqdm(dataloader):\n",
    "        A, P, N = A.to(DEVICE), P.to(DEVICE), N.to(DEVICE)\n",
    "\n",
    "        A_embs = model(A)\n",
    "        P_embs = model(P)\n",
    "        N_embs = model(N)\n",
    "      \n",
    "        loss = criterion(A_embs, P_embs, N_embs)\n",
    "      \n",
    "        total_loss += loss.item()\n",
    "\n",
    "    return total_loss / len(dataloader)"
   ]
  },
  {
   "cell_type": "code",
   "execution_count": 16,
   "id": "7f1e6e71-ad4e-44c3-a53e-10fcbd8fd7be",
   "metadata": {},
   "outputs": [],
   "source": [
    "#FUNZIONE DI TRAINING\n",
    "def train_fn(model, dataloader, optimizer, criterion):\n",
    "  model.train() #ON Dropout\n",
    "  total_loss = 0.0\n",
    "\n",
    "  for A, P, N in tqdm(dataloader):\n",
    "    A, P, N = A.to(DEVICE), P.to(DEVICE), N.to(DEVICE)\n",
    "\n",
    "    A_embs = model(A)\n",
    "    P_embs = model(P)\n",
    "    N_embs = model(N)\n",
    "\n",
    "    loss = criterion(A_embs, P_embs, N_embs)\n",
    "\n",
    "    optimizer.zero_grad()\n",
    "    loss.backward()\n",
    "    optimizer.step()\n",
    "\n",
    "    total_loss += loss.item()\n",
    "\n",
    "  return total_loss / len(dataloader)"
   ]
  },
  {
   "cell_type": "code",
   "execution_count": 17,
   "id": "97248e6d-1321-48d8-a973-28f74e60eb3e",
   "metadata": {},
   "outputs": [],
   "source": [
    "#FUNZIONE DI EVALUATION\n",
    "def eval_fn(model, dataloader, criterion):\n",
    "  model.eval() #OFF Dropout\n",
    "  total_loss = 0.0\n",
    "\n",
    "  with torch.no_grad():\n",
    "    for A, P, N in tqdm(dataloader):\n",
    "      A, P, N = A.to(DEVICE), P.to(DEVICE), N.to(DEVICE)\n",
    "\n",
    "      A_embs = model(A)\n",
    "      P_embs = model(P)\n",
    "      N_embs = model(N)\n",
    "\n",
    "      loss = criterion(A_embs, P_embs, N_embs)\n",
    "\n",
    "      total_loss += loss.item()\n",
    "\n",
    "    return total_loss / len(dataloader)"
   ]
  },
  {
   "cell_type": "code",
   "execution_count": 18,
   "id": "7a71747b-8cc8-4145-8a59-bc8a417580d3",
   "metadata": {},
   "outputs": [],
   "source": [
    "class EarlyStopper:\n",
    "    def __init__(self, patience=1, min_delta=0):\n",
    "        self.patience = patience\n",
    "        self.min_delta = min_delta\n",
    "        self.counter = 0\n",
    "        self.min_validation_loss = float('inf')\n",
    "        self.model = None\n",
    "\n",
    "    def early_stop(self, validation_loss, model_updated):\n",
    "        print(validation_loss)\n",
    "        if validation_loss < self.min_validation_loss:\n",
    "            self.min_validation_loss = validation_loss\n",
    "            self.counter = 0\n",
    "            print(\"New min - model updated\")\n",
    "            self.model = model_updated\n",
    "            torch.save(self.model, 'trained_model_on_20000_prova.pt')\n",
    "        elif validation_loss > (self.min_validation_loss + self.min_delta):\n",
    "            print(f\"Counter updated {self.min_validation_loss + self.min_delta}\")\n",
    "            self.counter += 1\n",
    "            if self.counter >= self.patience:\n",
    "                return True\n",
    "        return False\n",
    "\n",
    "    def get_model(self):\n",
    "        return self.model"
   ]
  },
  {
   "cell_type": "markdown",
   "id": "60fda6b6-2342-4292-b0c2-783e39d4e685",
   "metadata": {},
   "source": [
    "## Training parameters"
   ]
  },
  {
   "cell_type": "code",
   "execution_count": 19,
   "id": "8730717b-a280-4a4e-9dab-a9398d9f1e67",
   "metadata": {},
   "outputs": [],
   "source": [
    "criterion = nn.TripletMarginLoss()\n",
    "optimizer = torch.optim.Adam(model.parameters(), lr = LR)"
   ]
  },
  {
   "cell_type": "code",
   "execution_count": 20,
   "id": "cdc248bf-3b10-436f-84d3-030bde272d22",
   "metadata": {},
   "outputs": [],
   "source": [
    "early_stopper = EarlyStopper(patience=5, min_delta=0.05)\n"
   ]
  },
  {
   "cell_type": "markdown",
   "id": "c2686c4b-2a9e-4760-8a4f-89431e793300",
   "metadata": {},
   "source": [
    "## Training"
   ]
  },
  {
   "cell_type": "code",
   "execution_count": 21,
   "id": "0a2ac07f-cb59-48bd-b6c5-1b2fbb8d3ce5",
   "metadata": {
    "scrolled": true
   },
   "outputs": [],
   "source": [
    "#Training\n",
    "if model_weights == False :\n",
    "    best_valid_loss = np.Inf\n",
    "    training_loss = []\n",
    "    validation_loss = []\n",
    "    for i in range(EPOCHS):\n",
    "      train_loss = train_fn(model, trainloader, optimizer, criterion)\n",
    "      valid_loss = eval_fn(model, validloader, criterion)\n",
    "      training_loss.append(train_loss)\n",
    "      validation_loss.append(valid_loss)\n",
    "      if early_stopper.early_stop(valid_loss, model.state_dict()):             \n",
    "          break\n",
    "          \n",
    "      print(f\"EPOCHS : {i+1} train_loss : {train_loss} valid_loss : {valid_loss}\")\n",
    "\n",
    "torch.save(early_stopper.get_model(), 'trained_model_on_20000_prova.pt')\n"
   ]
  },
  {
   "cell_type": "code",
   "execution_count": 22,
   "id": "b5f298eb-9e92-41c4-b43d-df7444372761",
   "metadata": {},
   "outputs": [],
   "source": [
    "#Salvataggio plottato dei dati\n",
    "if(model_weights == False):    \n",
    "    fig, axes = plt.subplots(2, 1, sharex= True, figsize=(10, 6))\n",
    "    axes[0].plot(training_loss)\n",
    "    axes[0].set_title('Training Loss - Triplet margin loss')\n",
    "    axes[1].plot(validation_loss)\n",
    "    axes[1].set_title('Validation Loss - Triplet margin loss')\n",
    "    plt.savefig('training_data_20000(biggan)-80-epochs.png')\n",
    "    plt.show()"
   ]
  },
  {
   "cell_type": "markdown",
   "id": "2ab00b09-2aa8-4cee-9159-46172537cbae",
   "metadata": {},
   "source": [
    "## Databse training embedded"
   ]
  },
  {
   "cell_type": "code",
   "execution_count": 23,
   "id": "34b5d02a-84f4-43ad-8aee-e69f83b185c9",
   "metadata": {},
   "outputs": [],
   "source": [
    "#QUESTA E' LA FUNZIONE PER GENERARE I VETTORI DI ENCODING\n",
    "# concatenating images name and relative encodings\n",
    "def get_encoding_csv(model, anc_img_names, dirFolder):\n",
    "  anc_img_names_arr = np.array(anc_img_names)\n",
    "  encodings = []\n",
    "\n",
    "  model.eval()\n",
    "\n",
    "  with torch.no_grad():\n",
    "    for i in tqdm(anc_img_names_arr):\n",
    "      A = io.imread(dirFolder + i)\n",
    "      A = np.expand_dims(A, 0)\n",
    "      A = torch.from_numpy(A.astype(np.int32)) / 255.0\n",
    "      A = A.to(DEVICE)\n",
    "      A_enc = model(A.unsqueeze(0))\n",
    "      encodings.append(A_enc.squeeze().cpu().detach().numpy())\n",
    "\n",
    "    encodings = np.array(encodings)\n",
    "    encodings = pd.DataFrame(encodings)\n",
    "    df_enc = pd.concat([anc_img_names, encodings], axis = 1)\n",
    "\n",
    "    return df_enc"
   ]
  },
  {
   "cell_type": "code",
   "execution_count": 39,
   "id": "5f80498d-2680-4a9c-8f79-409253582b6a",
   "metadata": {},
   "outputs": [],
   "source": [
    "\n",
    "\n",
    "#QUI IL DATABASE COME CSV IN MODO TALE DA NON DOVER FARE QUESTA OPERAZIONE OGNI VOLTA\n",
    "#OVVIAMENTE, SE DEVO FARE UN NUOVO TRAINING DEVO ANCHE RICREARE GLI ENCODINGS\n",
    "if(model_weights == False):\n",
    "    df_enc.to_csv('database_new.csv', index = False)\n",
    "\n",
    "    df_enc = pd.read_csv('database_new.csv')\n",
    "    df_enc.head()   "
   ]
  },
  {
   "cell_type": "code",
   "execution_count": 40,
   "id": "502cef39-c97b-43db-aaa6-7e461ce4fce2",
   "metadata": {},
   "outputs": [
    {
     "name": "stderr",
     "output_type": "stream",
     "text": [
      "100%|████████████████████████████████████████████████████████████████████████████| 19000/19000 [03:30<00:00, 90.47it/s]\n"
     ]
    }
   ],
   "source": [
    "#QUI CREO IL DATABASE DI FEATURE VECTORS DEL TRAINING SET\n",
    "df_enc = get_encoding_csv(model, df['Anchor'], DATA_DIR)"
   ]
  },
  {
   "cell_type": "markdown",
   "id": "b0cbd74b-6013-47ba-a04d-a49d240103df",
   "metadata": {},
   "source": [
    "## Distances, Get image embeddings and searching in databse"
   ]
  },
  {
   "cell_type": "code",
   "execution_count": 41,
   "id": "266ff1c7-5028-4e29-bd61-c6cd6be716e5",
   "metadata": {},
   "outputs": [],
   "source": [
    "def euclidean_dist(img_enc, anc_enc_arr):\n",
    "    dist = np.sqrt(np.dot(img_enc-anc_enc_arr, (img_enc- anc_enc_arr).T))\n",
    "    #dist = np.dot(img_enc-anc_enc_arr, (img_enc- anc_enc_arr).T)\n",
    "    #dist = np.sqrt(dist)\n",
    "    return dist"
   ]
  },
  {
   "cell_type": "code",
   "execution_count": 42,
   "id": "530af24f-2baa-4e9b-8192-a9a5191ef6aa",
   "metadata": {},
   "outputs": [],
   "source": [
    "# return the embedding of the image\n",
    "def getImageEmbeddings(img, model):\n",
    "\n",
    "    img = np.expand_dims(img, 0)\n",
    "    img = torch.from_numpy(img) / 255\n",
    "    model.eval();\n",
    "\n",
    "    with torch.no_grad():\n",
    "        img = img.to(DEVICE)\n",
    "        img_enc = model(img.unsqueeze(0))\n",
    "        img_enc = img_enc.detach().cpu().numpy()\n",
    "        img_enc = np.array(img_enc)\n",
    "\n",
    "    return img_enc"
   ]
  },
  {
   "cell_type": "markdown",
   "id": "a47661ea-b0cf-411d-9983-0a58c431f5d2",
   "metadata": {},
   "source": [
    "## Adding 5 Latent Diffusion, 5 Taming Transformer"
   ]
  },
  {
   "cell_type": "code",
   "execution_count": 43,
   "id": "6dea2180-3708-421f-9726-81cc7a766db4",
   "metadata": {},
   "outputs": [
    {
     "data": {
      "text/html": [
       "<div>\n",
       "<style scoped>\n",
       "    .dataframe tbody tr th:only-of-type {\n",
       "        vertical-align: middle;\n",
       "    }\n",
       "\n",
       "    .dataframe tbody tr th {\n",
       "        vertical-align: top;\n",
       "    }\n",
       "\n",
       "    .dataframe thead th {\n",
       "        text-align: right;\n",
       "    }\n",
       "</style>\n",
       "<table border=\"1\" class=\"dataframe\">\n",
       "  <thead>\n",
       "    <tr style=\"text-align: right;\">\n",
       "      <th></th>\n",
       "      <th>0</th>\n",
       "      <th>1</th>\n",
       "      <th>2</th>\n",
       "      <th>3</th>\n",
       "      <th>4</th>\n",
       "      <th>5</th>\n",
       "      <th>6</th>\n",
       "      <th>7</th>\n",
       "      <th>8</th>\n",
       "      <th>9</th>\n",
       "      <th>...</th>\n",
       "      <th>502</th>\n",
       "      <th>503</th>\n",
       "      <th>504</th>\n",
       "      <th>505</th>\n",
       "      <th>506</th>\n",
       "      <th>507</th>\n",
       "      <th>508</th>\n",
       "      <th>509</th>\n",
       "      <th>510</th>\n",
       "      <th>511</th>\n",
       "    </tr>\n",
       "  </thead>\n",
       "  <tbody>\n",
       "    <tr>\n",
       "      <th>count</th>\n",
       "      <td>19000.000000</td>\n",
       "      <td>19000.000000</td>\n",
       "      <td>19000.000000</td>\n",
       "      <td>19000.000000</td>\n",
       "      <td>19000.000000</td>\n",
       "      <td>19000.000000</td>\n",
       "      <td>19000.000000</td>\n",
       "      <td>19000.000000</td>\n",
       "      <td>19000.000000</td>\n",
       "      <td>19000.000000</td>\n",
       "      <td>...</td>\n",
       "      <td>19000.000000</td>\n",
       "      <td>19000.000000</td>\n",
       "      <td>19000.000000</td>\n",
       "      <td>19000.000000</td>\n",
       "      <td>19000.000000</td>\n",
       "      <td>19000.000000</td>\n",
       "      <td>19000.000000</td>\n",
       "      <td>19000.000000</td>\n",
       "      <td>19000.000000</td>\n",
       "      <td>19000.000000</td>\n",
       "    </tr>\n",
       "    <tr>\n",
       "      <th>mean</th>\n",
       "      <td>-4.175869</td>\n",
       "      <td>1.465191</td>\n",
       "      <td>3.639047</td>\n",
       "      <td>-2.021538</td>\n",
       "      <td>-0.143447</td>\n",
       "      <td>-0.596691</td>\n",
       "      <td>-0.897436</td>\n",
       "      <td>1.170841</td>\n",
       "      <td>1.056277</td>\n",
       "      <td>-1.507891</td>\n",
       "      <td>...</td>\n",
       "      <td>-1.223157</td>\n",
       "      <td>2.363068</td>\n",
       "      <td>-1.552863</td>\n",
       "      <td>1.734074</td>\n",
       "      <td>-0.768135</td>\n",
       "      <td>1.279139</td>\n",
       "      <td>-3.644126</td>\n",
       "      <td>-0.302194</td>\n",
       "      <td>-1.380327</td>\n",
       "      <td>5.511860</td>\n",
       "    </tr>\n",
       "    <tr>\n",
       "      <th>std</th>\n",
       "      <td>1.519850</td>\n",
       "      <td>0.012804</td>\n",
       "      <td>0.077067</td>\n",
       "      <td>0.030863</td>\n",
       "      <td>0.008694</td>\n",
       "      <td>0.022296</td>\n",
       "      <td>0.031131</td>\n",
       "      <td>0.038574</td>\n",
       "      <td>0.039413</td>\n",
       "      <td>0.022198</td>\n",
       "      <td>...</td>\n",
       "      <td>0.017362</td>\n",
       "      <td>0.052089</td>\n",
       "      <td>0.063779</td>\n",
       "      <td>0.078551</td>\n",
       "      <td>0.004543</td>\n",
       "      <td>0.031391</td>\n",
       "      <td>0.077061</td>\n",
       "      <td>0.013036</td>\n",
       "      <td>0.049100</td>\n",
       "      <td>0.111168</td>\n",
       "    </tr>\n",
       "    <tr>\n",
       "      <th>min</th>\n",
       "      <td>-6.955287</td>\n",
       "      <td>1.433473</td>\n",
       "      <td>3.535952</td>\n",
       "      <td>-2.188239</td>\n",
       "      <td>-0.171893</td>\n",
       "      <td>-0.656794</td>\n",
       "      <td>-0.986669</td>\n",
       "      <td>1.122094</td>\n",
       "      <td>0.995337</td>\n",
       "      <td>-1.604147</td>\n",
       "      <td>...</td>\n",
       "      <td>-1.317060</td>\n",
       "      <td>2.300685</td>\n",
       "      <td>-1.767847</td>\n",
       "      <td>1.632893</td>\n",
       "      <td>-0.798565</td>\n",
       "      <td>1.231048</td>\n",
       "      <td>-3.970799</td>\n",
       "      <td>-0.334410</td>\n",
       "      <td>-1.566259</td>\n",
       "      <td>5.374529</td>\n",
       "    </tr>\n",
       "    <tr>\n",
       "      <th>25%</th>\n",
       "      <td>-5.775889</td>\n",
       "      <td>1.453820</td>\n",
       "      <td>3.562084</td>\n",
       "      <td>-2.053017</td>\n",
       "      <td>-0.147061</td>\n",
       "      <td>-0.619467</td>\n",
       "      <td>-0.928668</td>\n",
       "      <td>1.132759</td>\n",
       "      <td>1.017313</td>\n",
       "      <td>-1.530402</td>\n",
       "      <td>...</td>\n",
       "      <td>-1.239714</td>\n",
       "      <td>2.311417</td>\n",
       "      <td>-1.614904</td>\n",
       "      <td>1.655353</td>\n",
       "      <td>-0.771094</td>\n",
       "      <td>1.248277</td>\n",
       "      <td>-3.719650</td>\n",
       "      <td>-0.315315</td>\n",
       "      <td>-1.428202</td>\n",
       "      <td>5.401608</td>\n",
       "    </tr>\n",
       "    <tr>\n",
       "      <th>50%</th>\n",
       "      <td>-4.174394</td>\n",
       "      <td>1.462545</td>\n",
       "      <td>3.663640</td>\n",
       "      <td>-2.028161</td>\n",
       "      <td>-0.144240</td>\n",
       "      <td>-0.586957</td>\n",
       "      <td>-0.891145</td>\n",
       "      <td>1.168198</td>\n",
       "      <td>1.067564</td>\n",
       "      <td>-1.502408</td>\n",
       "      <td>...</td>\n",
       "      <td>-1.215102</td>\n",
       "      <td>2.359761</td>\n",
       "      <td>-1.572263</td>\n",
       "      <td>1.740162</td>\n",
       "      <td>-0.768413</td>\n",
       "      <td>1.281345</td>\n",
       "      <td>-3.664195</td>\n",
       "      <td>-0.300149</td>\n",
       "      <td>-1.394359</td>\n",
       "      <td>5.545883</td>\n",
       "    </tr>\n",
       "    <tr>\n",
       "      <th>75%</th>\n",
       "      <td>-2.636160</td>\n",
       "      <td>1.477198</td>\n",
       "      <td>3.714756</td>\n",
       "      <td>-1.991304</td>\n",
       "      <td>-0.141402</td>\n",
       "      <td>-0.575078</td>\n",
       "      <td>-0.866970</td>\n",
       "      <td>1.208539</td>\n",
       "      <td>1.095886</td>\n",
       "      <td>-1.486846</td>\n",
       "      <td>...</td>\n",
       "      <td>-1.207465</td>\n",
       "      <td>2.413974</td>\n",
       "      <td>-1.488898</td>\n",
       "      <td>1.812429</td>\n",
       "      <td>-0.765181</td>\n",
       "      <td>1.310938</td>\n",
       "      <td>-3.567447</td>\n",
       "      <td>-0.289776</td>\n",
       "      <td>-1.331000</td>\n",
       "      <td>5.622631</td>\n",
       "    </tr>\n",
       "    <tr>\n",
       "      <th>max</th>\n",
       "      <td>-2.590645</td>\n",
       "      <td>1.516357</td>\n",
       "      <td>4.005141</td>\n",
       "      <td>-1.974955</td>\n",
       "      <td>-0.098876</td>\n",
       "      <td>-0.570880</td>\n",
       "      <td>-0.856861</td>\n",
       "      <td>1.298815</td>\n",
       "      <td>1.203331</td>\n",
       "      <td>-1.472038</td>\n",
       "      <td>...</td>\n",
       "      <td>-1.176256</td>\n",
       "      <td>2.567535</td>\n",
       "      <td>-1.474756</td>\n",
       "      <td>1.980218</td>\n",
       "      <td>-0.749076</td>\n",
       "      <td>1.410607</td>\n",
       "      <td>-3.551574</td>\n",
       "      <td>-0.280760</td>\n",
       "      <td>-1.319834</td>\n",
       "      <td>6.019783</td>\n",
       "    </tr>\n",
       "  </tbody>\n",
       "</table>\n",
       "<p>8 rows × 512 columns</p>\n",
       "</div>"
      ],
      "text/plain": [
       "                0             1             2             3             4    \\\n",
       "count  19000.000000  19000.000000  19000.000000  19000.000000  19000.000000   \n",
       "mean      -4.175869      1.465191      3.639047     -2.021538     -0.143447   \n",
       "std        1.519850      0.012804      0.077067      0.030863      0.008694   \n",
       "min       -6.955287      1.433473      3.535952     -2.188239     -0.171893   \n",
       "25%       -5.775889      1.453820      3.562084     -2.053017     -0.147061   \n",
       "50%       -4.174394      1.462545      3.663640     -2.028161     -0.144240   \n",
       "75%       -2.636160      1.477198      3.714756     -1.991304     -0.141402   \n",
       "max       -2.590645      1.516357      4.005141     -1.974955     -0.098876   \n",
       "\n",
       "                5             6             7             8             9    \\\n",
       "count  19000.000000  19000.000000  19000.000000  19000.000000  19000.000000   \n",
       "mean      -0.596691     -0.897436      1.170841      1.056277     -1.507891   \n",
       "std        0.022296      0.031131      0.038574      0.039413      0.022198   \n",
       "min       -0.656794     -0.986669      1.122094      0.995337     -1.604147   \n",
       "25%       -0.619467     -0.928668      1.132759      1.017313     -1.530402   \n",
       "50%       -0.586957     -0.891145      1.168198      1.067564     -1.502408   \n",
       "75%       -0.575078     -0.866970      1.208539      1.095886     -1.486846   \n",
       "max       -0.570880     -0.856861      1.298815      1.203331     -1.472038   \n",
       "\n",
       "       ...           502           503           504           505  \\\n",
       "count  ...  19000.000000  19000.000000  19000.000000  19000.000000   \n",
       "mean   ...     -1.223157      2.363068     -1.552863      1.734074   \n",
       "std    ...      0.017362      0.052089      0.063779      0.078551   \n",
       "min    ...     -1.317060      2.300685     -1.767847      1.632893   \n",
       "25%    ...     -1.239714      2.311417     -1.614904      1.655353   \n",
       "50%    ...     -1.215102      2.359761     -1.572263      1.740162   \n",
       "75%    ...     -1.207465      2.413974     -1.488898      1.812429   \n",
       "max    ...     -1.176256      2.567535     -1.474756      1.980218   \n",
       "\n",
       "                506           507           508           509           510  \\\n",
       "count  19000.000000  19000.000000  19000.000000  19000.000000  19000.000000   \n",
       "mean      -0.768135      1.279139     -3.644126     -0.302194     -1.380327   \n",
       "std        0.004543      0.031391      0.077061      0.013036      0.049100   \n",
       "min       -0.798565      1.231048     -3.970799     -0.334410     -1.566259   \n",
       "25%       -0.771094      1.248277     -3.719650     -0.315315     -1.428202   \n",
       "50%       -0.768413      1.281345     -3.664195     -0.300149     -1.394359   \n",
       "75%       -0.765181      1.310938     -3.567447     -0.289776     -1.331000   \n",
       "max       -0.749076      1.410607     -3.551574     -0.280760     -1.319834   \n",
       "\n",
       "                511  \n",
       "count  19000.000000  \n",
       "mean       5.511860  \n",
       "std        0.111168  \n",
       "min        5.374529  \n",
       "25%        5.401608  \n",
       "50%        5.545883  \n",
       "75%        5.622631  \n",
       "max        6.019783  \n",
       "\n",
       "[8 rows x 512 columns]"
      ]
     },
     "execution_count": 43,
     "metadata": {},
     "output_type": "execute_result"
    }
   ],
   "source": [
    "(df_enc.describe())"
   ]
  },
  {
   "cell_type": "code",
   "execution_count": 71,
   "id": "06007d39-35db-4b5c-86b6-c0be867c0473",
   "metadata": {},
   "outputs": [],
   "source": [
    "# Funzione per ottenere i percorsi delle immagini\n",
    "def get_image_paths(folder):\n",
    "    image_paths = []\n",
    "    for root, dirs, files in os.walk(folder):\n",
    "        for filename in files:\n",
    "            if filename.endswith(\".jpg\"):\n",
    "                image_paths.append(os.path.relpath(os.path.join(root, filename)))\n",
    "    return image_paths"
   ]
  },
  {
   "cell_type": "code",
   "execution_count": 72,
   "id": "5e2d20be-e3c2-4fdc-8df0-a24756e90cbc",
   "metadata": {},
   "outputs": [
    {
     "name": "stdout",
     "output_type": "stream",
     "text": [
      "Numero di immagini latenti: 10000\n",
      "Numero di immagini taming: 50000\n"
     ]
    }
   ],
   "source": [
    "current_dir = os.getcwd()\n",
    "fake_image_folder_latent = os.path.join(current_dir, \"dataset\", \"latent_diffusion\", \"latentdiff-t2i_spectrum\")\n",
    "fake_image_folder_taming = os.path.join(current_dir, \"dataset\", \"taming_transformer\", \"tt-ffhq_spectrum\")\n",
    "\n",
    "fake_image_paths_latent = get_image_paths(fake_image_folder_latent)\n",
    "fake_image_paths_taming = get_image_paths(fake_image_folder_taming)\n",
    "\n",
    "print(\"Numero di immagini latenti:\", len(fake_image_paths_latent))\n",
    "print(\"Numero di immagini taming:\", len(fake_image_paths_taming))\n",
    "\n",
    "# Selezionare un numero casuale di immagini\n",
    "num_random_elements = 5\n",
    "taming_random = random.sample(fake_image_paths_taming, num_random_elements)\n",
    "latent_random = random.sample(fake_image_paths_latent, num_random_elements)\n",
    "\n",
    "# Ottenere gli embedding delle immagini selezionate\n",
    "embeddings_new_taming_latent_imgs = []\n",
    "image_paths = []\n",
    "\n",
    "for i in range(num_random_elements):\n",
    "    taming_random_img = io.imread(taming_random[i])\n",
    "    latent_random_img = io.imread(latent_random[i])\n",
    "    taming_random_img_embed = getImageEmbeddings(taming_random_img, model)[0, :]\n",
    "    latent_random_img_embed = getImageEmbeddings(latent_random_img, model)[0, :]\n",
    "    embeddings_new_taming_latent_imgs.append(taming_random_img_embed)\n",
    "    embeddings_new_taming_latent_imgs.append(latent_random_img_embed)\n",
    "    image_paths.append(taming_random[i])\n",
    "    image_paths.append(latent_random[i])"
   ]
  },
  {
   "cell_type": "code",
   "execution_count": 73,
   "id": "3c5b5f13-4857-4a9d-8f93-672c49272c16",
   "metadata": {},
   "outputs": [
    {
     "name": "stdout",
     "output_type": "stream",
     "text": [
      "Nuovo DataFrame con embedding e percorsi delle immagini:\n",
      "          0         1         2         3         4         5         6  \\\n",
      "0 -3.356233  1.446921  3.591544 -1.995107 -0.126355 -0.575863 -0.863358   \n",
      "1 -2.636468  1.451030  3.568177 -2.001540 -0.150061 -0.574117 -0.870176   \n",
      "2 -4.927499  1.478293  3.719474 -2.056493 -0.125753 -0.604712 -0.918662   \n",
      "3 -3.624578  1.453670  3.608620 -2.001750 -0.115323 -0.578427 -0.867558   \n",
      "4 -2.812514  1.441186  3.568936 -1.990345 -0.139565 -0.573231 -0.863465   \n",
      "\n",
      "          7         8         9  ...       503       504       505       506  \\\n",
      "0  1.142526  1.020279 -1.480608  ...  2.324788 -1.514458  1.667363 -0.768465   \n",
      "1  1.129483  1.022078 -1.491516  ...  2.311412 -1.479102  1.664144 -0.762526   \n",
      "2  1.197879  1.097819 -1.525263  ...  2.402505 -1.612927  1.797639 -0.773568   \n",
      "3  1.146399  1.026512 -1.484065  ...  2.332716 -1.527250  1.680610 -0.774822   \n",
      "4  1.133695  1.020882 -1.482651  ...  2.307371 -1.490465  1.659016 -0.762008   \n",
      "\n",
      "        507       508       509       510       511  \\\n",
      "0  1.247116 -3.585187 -0.295899 -1.350392  5.425662   \n",
      "1  1.254860 -3.567099 -0.283711 -1.329834  5.409246   \n",
      "2  1.308962 -3.722981 -0.306926 -1.426384  5.634739   \n",
      "3  1.252387 -3.605937 -0.298106 -1.360742  5.454049   \n",
      "4  1.247615 -3.561916 -0.289536 -1.336635  5.398031   \n",
      "\n",
      "                                              Anchor  \n",
      "0  dataset\\taming_transformer\\tt-ffhq_spectrum\\im...  \n",
      "1  dataset\\latent_diffusion\\latentdiff-t2i_spectr...  \n",
      "2  dataset\\taming_transformer\\tt-ffhq_spectrum\\im...  \n",
      "3  dataset\\latent_diffusion\\latentdiff-t2i_spectr...  \n",
      "4  dataset\\taming_transformer\\tt-ffhq_spectrum\\im...  \n",
      "\n",
      "[5 rows x 513 columns]\n"
     ]
    }
   ],
   "source": [
    "# Creare un DataFrame con gli embedding e i percorsi delle immagini\n",
    "df_latent_taming_new = pd.DataFrame(embeddings_new_taming_latent_imgs)\n",
    "df_latent_taming_new['Anchor'] = image_paths\n",
    "\n",
    "# Verifica del DataFrame creato\n",
    "print(\"Nuovo DataFrame con embedding e percorsi delle immagini:\")\n",
    "print(df_latent_taming_new.head())\n",
    "\n",
    "# Concatenare con il DataFrame esistente\n",
    "df_enc_plus_latent_taming = pd.concat([df_enc, df_latent_taming_new], ignore_index=True)\n",
    "\n",
    "# Salviamo il DataFrame risultante in un CSV\n",
    "df_enc_plus_latent_taming.to_csv('df_new_enc_database.csv', index=False)\n",
    "\n",
    "saved_df = pd.read_csv('df_new_enc_database.csv')"
   ]
  },
  {
   "cell_type": "code",
   "execution_count": 74,
   "id": "947e62e6-0929-4948-9082-8702b5aa7868",
   "metadata": {},
   "outputs": [],
   "source": [
    "# return the closest image in the database given an img_enc\n",
    "def searchInDatabase(img_enc, database):\n",
    "    anc_enc_arr = database.iloc[:, 1:].to_numpy()\n",
    "    anc_img_names = database['Anchor']\n",
    "\n",
    "    distance = []\n",
    "    for i in range(anc_enc_arr.shape[0]):\n",
    "        dist = euclidean_dist(img_enc, anc_enc_arr[i : i+1, :])\n",
    "        distance = np.append(distance, dist)\n",
    "    \n",
    "    closest_idx = np.argsort(distance)\n",
    "\n",
    "    return database['Anchor'][closest_idx[0]]"
   ]
  },
  {
   "cell_type": "markdown",
   "id": "a4fbf479-aa23-4513-a36d-c8338f176856",
   "metadata": {},
   "source": [
    "# Defining test list"
   ]
  },
  {
   "cell_type": "code",
   "execution_count": 83,
   "id": "dd431763-4465-4d76-b0ee-0ee36f5bf636",
   "metadata": {},
   "outputs": [],
   "source": [
    "test = \"test_set_taming_transformer.csv\"\n",
    "test_latent = pd.read_csv(test, header = None)"
   ]
  },
  {
   "cell_type": "markdown",
   "id": "f2fac103-ae1f-488a-ad75-c242c93737f8",
   "metadata": {},
   "source": [
    "## Testing"
   ]
  },
  {
   "cell_type": "code",
   "execution_count": 84,
   "id": "151523b3-3b35-4385-8e4b-944955e4f3e3",
   "metadata": {},
   "outputs": [],
   "source": [
    "database = df_enc_plus_latent_taming\n",
    "(database.describe())\n",
    "y_true = ['fake'] * 500 + ['real'] * 500\n",
    "y_pred = []"
   ]
  },
  {
   "cell_type": "code",
   "execution_count": 85,
   "id": "d475fe4f-af74-49b2-8658-eaf9df6dac04",
   "metadata": {},
   "outputs": [],
   "source": [
    "def test_images(test_df, start_index, end_index, database, model):\n",
    "    for index, row in tqdm(test_df.iloc[start_index:end_index].iterrows(), total=end_index-start_index):\n",
    "        img_name = row[0] # Accesso diretto alla prima (e unica) colonna\n",
    "\n",
    "        # Verifica se il nome del file è valido\n",
    "        if pd.isnull(img_name) or not os.path.isfile(img_name):\n",
    "            print(f\"Invalid image file path at index {index}: {img_name}\")\n",
    "            y_pred.append(\"error\")\n",
    "            continue\n",
    "        \n",
    "        # Leggi e processa l'immagine\n",
    "        img = io.imread(img_name)\n",
    "\n",
    "        # Ottieni gli embeddings dell'immagine\n",
    "        img_enc = getImageEmbeddings(img, model)\n",
    "\n",
    "        # Cerca nel database\n",
    "        closestLabel = searchInDatabase(img_enc, database)\n",
    "       \n",
    "        # Aggiungi la predizione alla lista\n",
    "        if \"coco\" in closestLabel:\n",
    "            y_pred.append(\"real\")\n",
    "        else:\n",
    "            y_pred.append(\"fake\")"
   ]
  },
  {
   "cell_type": "code",
   "execution_count": 86,
   "id": "c8f0808d-3a4b-40b3-9da5-156e06c27dc8",
   "metadata": {},
   "outputs": [
    {
     "name": "stderr",
     "output_type": "stream",
     "text": [
      "100%|██████████████████████████████████████████████████████████████████████████████| 1000/1000 [04:22<00:00,  3.81it/s]\n"
     ]
    }
   ],
   "source": [
    "test_images(test_latent, 0, 1000, database, model)"
   ]
  },
  {
   "cell_type": "code",
   "execution_count": 87,
   "id": "cf5211ed-dc2f-46a8-9e9b-5b1da8f4e251",
   "metadata": {},
   "outputs": [
    {
     "name": "stdout",
     "output_type": "stream",
     "text": [
      "(500,)\n",
      "(500,)\n",
      "(1000,)\n"
     ]
    }
   ],
   "source": [
    "#Creo i vettori di ground truth\n",
    "y_true = np.array(['fake'] * 500)\n",
    "print(y_true.shape)\n",
    "\n",
    "temp = np.array(['real'] * 500)\n",
    "print(temp.shape)\n",
    "\n",
    "y_true = np.concatenate([y_true, temp])\n",
    "print(y_true.shape)\n",
    "\n",
    "#Calcolo la matrice di confusione\n",
    "from sklearn.metrics import confusion_matrix\n",
    "cm = confusion_matrix(y_true, y_pred, labels=[\"real\", \"fake\"])"
   ]
  },
  {
   "cell_type": "code",
   "execution_count": 88,
   "id": "d3f6919e-0506-4f06-9eae-9be47d1d063a",
   "metadata": {},
   "outputs": [
    {
     "data": {
      "image/png": "[encoded data removed]",
      "text/plain": [
       "<Figure size 800x600 with 2 Axes>"
      ]
     },
     "metadata": {},
     "output_type": "display_data"
    }
   ],
   "source": [
    "#Estraggo dalla matrice di confusione i True Negative, False Positive, False Negative, True Positive\n",
    "TN, FP, FN, TP = confusion_matrix(y_true, y_pred, labels=[\"real\", \"fake\"]).ravel()\n",
    "\n",
    "# Plotto la matrice di confusione\n",
    "plt.figure(figsize=(8, 6))\n",
    "sns.heatmap(cm, annot=True, fmt='d', cmap='Blues', xticklabels=[\"real\", \"fake\"], yticklabels=[\"real\", \"fake\"])\n",
    "plt.xlabel('Predicted Labels')\n",
    "plt.ylabel('True Labels')\n",
    "plt.title('Confusion Matrix')\n",
    "# Salvo l'immagine\n",
    "plt.savefig('confusion_matrix_1000(taming_transformer-coco)_new_database.png')\n",
    "plt.show()"
   ]
  },
  {
   "cell_type": "code",
   "execution_count": 89,
   "id": "746a9283-0526-418d-bb15-8f69fd29c349",
   "metadata": {},
   "outputs": [
    {
     "data": {
      "image/png": "[encoded data removed]",
      "text/plain": [
       "<Figure size 1000x600 with 1 Axes>"
      ]
     },
     "metadata": {},
     "output_type": "display_data"
    }
   ],
   "source": [
    "#Calcolo alcune metriche per vedere come si comporta\n",
    "accuracy = round((TP + TN) /(TP + TN + FP + FN), 4) * 100\n",
    "precision = round((TP) / (TP + FP), 4) * 100\n",
    "sensitivy_recall = round((TP) / (TP + FN), 4) * 100\n",
    "specificity = round((TN) / (TN + FP) * 100, 4)\n",
    "F1_score = round((2* precision * sensitivy_recall) / (precision + sensitivy_recall), 2)\n",
    "\n",
    "metrics = {\n",
    "    \"Accuracy\": accuracy,\n",
    "    \"Precision\": precision,\n",
    "    \"Sensitivity/Recall\": sensitivy_recall,\n",
    "    \"Specificity\": specificity,\n",
    "    \"F1_score\": F1_score\n",
    "}\n",
    "\n",
    "# Nomi delle metriche\n",
    "labels = list(metrics.keys())\n",
    "\n",
    "# Valori delle metriche\n",
    "values = list(metrics.values())\n",
    "\n",
    "# Creazione dell'istogramma\n",
    "plt.figure(figsize=(10,6))\n",
    "plt.bar(labels, values, color=['blue', 'green', 'red', 'purple', 'orange'], width=0.5)\n",
    "\n",
    "# Aggiunta delle etichette\n",
    "for i in range(len(labels)):\n",
    "    plt.text(i, values[i], f'{values[i]}%', ha = 'center', va = 'bottom')\n",
    "\n",
    "# Titoli e etichette degli assi\n",
    "plt.title('Metriche')\n",
    "plt.xlabel('Metrica')\n",
    "plt.ylabel('Valore')\n",
    "\n",
    "plt.savefig('Metrics_with_taming_transformer-coco_new_database.png')\n",
    "\n",
    "# Mostra l'istogramma\n",
    "plt.show()"
   ]
  },
  {
   "cell_type": "code",
   "execution_count": 90,
   "id": "57a4506a-1c28-4fa1-ab9e-99224e321b74",
   "metadata": {},
   "outputs": [
    {
     "name": "stdout",
     "output_type": "stream",
     "text": [
      "{'Accuracy': 61.8, 'Precision': 100.0, 'Sensitivity_recall': 23.599999999999998, 'Specificity': 100.0, 'F1_score': 38.19}\n"
     ]
    }
   ],
   "source": [
    "print({\"Accuracy\":accuracy,\"Precision\":precision,\"Sensitivity_recall\":sensitivy_recall, \"Specificity\": specificity, \"F1_score\":F1_score})"
   ]
  },
  {
   "cell_type": "code",
   "execution_count": null,
   "id": "0963af8c-c7cd-46ad-920a-1a3882158e89",
   "metadata": {},
   "outputs": [],
   "source": []
  }
 ],
 "metadata": {
  "kernelspec": {
   "display_name": "Python 3 (ipykernel)",
   "language": "python",
   "name": "python3"
  },
  "language_info": {
   "codemirror_mode": {
    "name": "ipython",
    "version": 3
   },
   "file_extension": ".py",
   "mimetype": "text/x-python",
   "name": "python",
   "nbconvert_exporter": "python",
   "pygments_lexer": "ipython3",
   "version": "3.11.9"
  }
 },
 "nbformat": 4,
 "nbformat_minor": 5
}
