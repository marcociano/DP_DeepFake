{
 "cells": [
  {
   "cell_type": "code",
   "execution_count": 1,
   "id": "b13eac17-2e8f-4c3e-a4aa-f688c100c1ae",
   "metadata": {},
   "outputs": [],
   "source": [
    "import pandas as pd\n",
    "import numpy as np\n",
    "import matplotlib.pyplot as plt\n",
    "import torch\n",
    "import timm\n",
    "import os\n",
    "import torch.nn.functional as F\n",
    "from torch import nn\n",
    "from torch.utils.data import Dataset, DataLoader\n",
    "from skimage import io\n",
    "import seaborn as sns\n",
    "from sklearn.model_selection import train_test_split\n",
    "from tqdm import tqdm\n",
    "import cv2\n",
    "import random"
   ]
  },
  {
   "cell_type": "markdown",
   "id": "25453993-8fd2-476b-87e2-f5d132fda91a",
   "metadata": {},
   "source": [
    "## Cuda\n"
   ]
  },
  {
   "cell_type": "code",
   "execution_count": 2,
   "id": "79d934d3-8519-4bf4-931a-c9fd78ffb283",
   "metadata": {},
   "outputs": [],
   "source": [
    "#Controllo che torch sia installato con CUDA abilitato\n",
    "def check_cuda():\n",
    "    print(torch.version.cuda)\n",
    "    cuda_is_ok = torch.cuda.is_available()\n",
    "    print(f\"CUDA Enabled: {cuda_is_ok}\")"
   ]
  },
  {
   "cell_type": "code",
   "execution_count": 3,
   "id": "f4971006-88ee-414f-9926-145d1c7e94b8",
   "metadata": {},
   "outputs": [
    {
     "name": "stdout",
     "output_type": "stream",
     "text": [
      "11.7\n"
     ]
    }
   ],
   "source": [
    "print(torch.version.cuda)"
   ]
  },
  {
   "cell_type": "markdown",
   "id": "1dcd653f-95d6-4072-8d2b-24cb7036f4d8",
   "metadata": {},
   "source": [
    "## Model parameters\n"
   ]
  },
  {
   "cell_type": "code",
   "execution_count": 50,
   "id": "00527b4d-d57a-40e8-b4ef-212cd499a44f",
   "metadata": {},
   "outputs": [],
   "source": [
    "model_weights = True"
   ]
  },
  {
   "cell_type": "code",
   "execution_count": 5,
   "id": "4b339558-6af2-4750-916c-bcdb35974c29",
   "metadata": {},
   "outputs": [],
   "source": [
    "#Directory per i file di train\n",
    "DATA_DIR = ''\n",
    "\n",
    "#Grandezza del Batch (iperparametro)\n",
    "BATCH_SIZE = 32\n",
    "\n",
    "#Learning Rate (Iperparametro)\n",
    "LR = 0.001\n",
    "\n",
    "#Numero di epoche (Iperparametro)\n",
    "EPOCHS = 80\n",
    "\n",
    "DEVICE = 'cuda'"
   ]
  },
  {
   "cell_type": "markdown",
   "id": "995369b7-baef-4e0e-9515-fc9ca97f6f54",
   "metadata": {},
   "source": [
    "## Dataloader and dataset creation"
   ]
  },
  {
   "cell_type": "code",
   "execution_count": 6,
   "id": "1061cf99-c4d1-476a-bfa8-ba6284d51661",
   "metadata": {},
   "outputs": [
    {
     "name": "stdout",
     "output_type": "stream",
     "text": [
      "Size of train set: 15000\n",
      "Size of valid set: 4000\n",
      "Size of test set: 1000\n"
     ]
    }
   ],
   "source": [
    "# Carica il file csv\n",
    "df_real = pd.read_csv(\"real_image_dataset_coco.csv\")\n",
    "\n",
    "df_fake = pd.read_csv(\"fake_image_dataset_biggan.csv\")\n",
    "\n",
    "train_df_real, valid_df_real = train_test_split(df_real, test_size = 0.20, random_state = 42)\n",
    "train_df_fake, valid_df_fake = train_test_split(df_fake, test_size = 0.20, random_state = 42)\n",
    "\n",
    "test_df_real = train_df_real.sample(500)\n",
    "test_df_fake = train_df_fake.sample(500)\n",
    "\n",
    "train_df_real = train_df_real.drop(test_df_real.index)\n",
    "train_df_fake = train_df_fake.drop(test_df_fake.index)\n",
    "\n",
    "train_df = pd.concat([train_df_real, train_df_fake])\n",
    "valid_df = pd.concat([valid_df_real, valid_df_fake])\n",
    "\n",
    "test_df = pd.concat([test_df_fake,test_df_real])\n",
    "\n",
    "\n",
    "# shuffle\n",
    "train_df= train_df.sample(frac= 1)\n",
    "valid_df= valid_df.sample(frac= 1)\n",
    "\n",
    "# Unisci tutti i dataframe in un unico dataframe finale per il train set\n",
    "final_df = pd.concat([train_df, valid_df])\n",
    "\n",
    "# Salva il dataframe finale di trian in un file CSV\n",
    "final_df.to_csv(\"spectrum_train_dataset.csv\", index=False)\n",
    "df = pd.read_csv(\"spectrum_train_dataset.csv\")\n",
    "\n",
    "\n",
    "# Crea una lista combinata con 500 immagini false seguite da 500 immagini reali\n",
    "combined_images = test_df[\"Anchor\"]\n",
    "\n",
    "# Crea il dataframe del test set con una sola colonna\n",
    "#test_df = pd.DataFrame(combined_images, columns=[''])\n",
    "\n",
    "# Salva il dataframe del test set in un file CSV\n",
    "#test_df.to_csv(\"test_set.csv\", index=False, header=False)\n",
    "\n",
    "print('Size of train set:', len(train_df))\n",
    "print('Size of valid set:', len(valid_df))\n",
    "print('Size of test set:', len(test_df))"
   ]
  },
  {
   "cell_type": "code",
   "execution_count": 7,
   "id": "03d18e77-245e-46d9-bc4b-38042ede388a",
   "metadata": {},
   "outputs": [],
   "source": [
    "# Carico le immagini del file CSV che ho fornito, per settarle in modo corretto e darle in input alla rete neurale\n",
    "class APN_Dataset(Dataset):\n",
    "\n",
    "  def __init__(self, df):\n",
    "    self.df = df\n",
    "\n",
    "  def __len__(self):\n",
    "    return len(self.df)\n",
    "\n",
    "  def __getitem__(self, idx):\n",
    "    row = self.df.iloc[idx]\n",
    "\n",
    "    A_img = io.imread(DATA_DIR + row.Anchor, as_gray= True)\n",
    "    P_img = io.imread(DATA_DIR + row.Positive, as_gray= True)\n",
    "    N_img = io.imread(DATA_DIR + row.Negative, as_gray= True)\n",
    "\n",
    "    \n",
    "    # Aggiungi dimensione per il batch\n",
    "    A_img = np.expand_dims(A_img, 0)\n",
    "    P_img = np.expand_dims(P_img, 0)\n",
    "    N_img = np.expand_dims(N_img, 0)\n",
    "\n",
    "    A_img = torch.from_numpy(A_img)/ 255.0\n",
    "    P_img = torch.from_numpy(P_img)/ 255.0\n",
    "    N_img = torch.from_numpy(N_img)/ 255.0\n",
    "      \n",
    "    #A_img = torch.from_numpy(A_img.astype(np.int32)) / 65536.0\n",
    "    #P_img = torch.from_numpy(P_img.astype(np.int32)) / 65536.0\n",
    "    #N_img = torch.from_numpy(N_img.astype(np.int32)) / 65536.0\n",
    "\n",
    "    return A_img, P_img, N_img"
   ]
  },
  {
   "cell_type": "code",
   "execution_count": 8,
   "id": "155262e9-605e-47ac-b29b-206337ac7847",
   "metadata": {},
   "outputs": [
    {
     "name": "stdout",
     "output_type": "stream",
     "text": [
      "torch.Size([1, 200, 200])\n"
     ]
    }
   ],
   "source": [
    "data = APN_Dataset(train_df)\n",
    "item1, item2, item3 = data.__getitem__(0)\n",
    "print(item1.shape)"
   ]
  },
  {
   "cell_type": "markdown",
   "id": "c47edd68-032d-4893-a36c-127895563e56",
   "metadata": {},
   "source": [
    "Qui di seguito mi stampo il numero che compone l'insieme di dati di train, test e validation"
   ]
  },
  {
   "cell_type": "code",
   "execution_count": 9,
   "id": "e65299e8-9581-4595-a6f5-07e5568b0d46",
   "metadata": {},
   "outputs": [
    {
     "name": "stdout",
     "output_type": "stream",
     "text": [
      "Size of trainset: 15000\n",
      "Size of validset: 4000\n",
      "Size of validset: 1000\n"
     ]
    }
   ],
   "source": [
    "trainset = APN_Dataset(train_df)\n",
    "validset = APN_Dataset(valid_df)\n",
    "testset = APN_Dataset(test_df)\n",
    "\n",
    "print(f\"Size of trainset: {len(trainset)}\")\n",
    "print(f\"Size of validset: {len(validset)}\")\n",
    "print(f\"Size of validset: {len(testset)}\")"
   ]
  },
  {
   "cell_type": "markdown",
   "id": "f0db331c-6d35-4fb3-8ceb-632e59b70a65",
   "metadata": {},
   "source": [
    "Carichiamo i dati di train e validation nella batch"
   ]
  },
  {
   "cell_type": "code",
   "execution_count": 10,
   "id": "fd299359-b3c3-4714-a276-3cd729ef3235",
   "metadata": {},
   "outputs": [],
   "source": [
    "trainloader = DataLoader(trainset, batch_size = BATCH_SIZE, shuffle = True)\n",
    "validloader = DataLoader(validset, batch_size = BATCH_SIZE)\n",
    "testloader = DataLoader(testset, batch_size = 1)"
   ]
  },
  {
   "cell_type": "code",
   "execution_count": 11,
   "id": "240a522f-42d0-4499-ab22-7ddf7e8976e4",
   "metadata": {},
   "outputs": [
    {
     "name": "stdout",
     "output_type": "stream",
     "text": [
      "No. of batches in trainloader : 469\n",
      "No. of batches in validloader : 125\n",
      "No. of batches in testloader : 1000\n"
     ]
    }
   ],
   "source": [
    "print(f\"No. of batches in trainloader : {len(trainloader)}\")\n",
    "print(f\"No. of batches in validloader : {len(validloader)}\")\n",
    "print(f\"No. of batches in testloader : {len(testloader)}\")"
   ]
  },
  {
   "cell_type": "markdown",
   "id": "1158e1df-d8b4-42f9-9f21-0e5328847270",
   "metadata": {},
   "source": [
    "Questa funzione definisce un modello di rete neurale chiamato APN_Model, che carica un'architettura di rete preaddestrata e sostituisce il classificatore finale con un nuovo classificatore personalizzato."
   ]
  },
  {
   "cell_type": "markdown",
   "id": "899a547e-e96a-4794-b334-eff1d447642a",
   "metadata": {},
   "source": [
    "## Model definition"
   ]
  },
  {
   "cell_type": "code",
   "execution_count": 12,
   "id": "29a6a526-fdac-4a44-9de8-d69a057a3369",
   "metadata": {},
   "outputs": [],
   "source": [
    "#Carico il modello di rete neurale\n",
    "class APN_Model(nn.Module):\n",
    "\n",
    "    #Viene definita la size del vettore di embedding\n",
    "  def __init__(self, emb_size = 512):\n",
    "    super(APN_Model, self).__init__()\n",
    "\n",
    "    #QUI CAIRCATE IL MODELLO, IN QUESTO CASO EFFICIENTNET VERSIONE B0 (LA PIù LEGGERA DELLA FAMIGLIA)\n",
    "    self.efficientnet = timm.create_model('tf_efficientnetv2_b0', pretrained = False)\n",
    "    self.efficientnet.classifier = nn.Linear(in_features=self.efficientnet.classifier.in_features, out_features = emb_size)\n",
    "\n",
    "  def forward(self, images):\n",
    "    embeddings = self.efficientnet(images)\n",
    "    return embeddings"
   ]
  },
  {
   "cell_type": "code",
   "execution_count": 13,
   "id": "a2744ff4-084e-4ab3-ba35-1cfb5ece3706",
   "metadata": {},
   "outputs": [],
   "source": [
    "#QUI FATE UNA PICCOLA MODIFICA ALLA RETE PER FARLE AVERE IN INPUT IMMAGINI IN SCALA DI GRIGIO DELLO SPETTRO DI FOURIER\n",
    "model = APN_Model()\n",
    "model.efficientnet.conv_stem = nn.Conv2d(1, 32, 3, 2, 1, bias=False);\n",
    "\n",
    "if model_weights == True :\n",
    "    model.load_state_dict(torch.load('trained_model_on_20000.pt'))\n",
    "\n",
    "model.to(DEVICE);"
   ]
  },
  {
   "cell_type": "markdown",
   "id": "9e23bda1-1a4f-46c6-a29f-e3f9bb988185",
   "metadata": {},
   "source": [
    "## Evaluation functions"
   ]
  },
  {
   "cell_type": "code",
   "execution_count": 14,
   "id": "3a1eea0c-3caa-45d0-a4fd-bbfc9a71669a",
   "metadata": {},
   "outputs": [],
   "source": [
    "#FUNZIONE DI TEST\n",
    "def test_fn(model, dataloader, criterion):\n",
    "  model.train() #ON Dropout\n",
    "  total_loss = 0.0\n",
    "\n",
    "  with torch.no_grad():  \n",
    "    for A, P, N in tqdm(dataloader):\n",
    "        A, P, N = A.to(DEVICE), P.to(DEVICE), N.to(DEVICE)\n",
    "\n",
    "        A_embs = model(A)\n",
    "        P_embs = model(P)\n",
    "        N_embs = model(N)\n",
    "      \n",
    "        loss = criterion(A_embs, P_embs, N_embs)\n",
    "      \n",
    "        total_loss += loss.item()\n",
    "\n",
    "    return total_loss / len(dataloader)"
   ]
  },
  {
   "cell_type": "code",
   "execution_count": 15,
   "id": "7f1e6e71-ad4e-44c3-a53e-10fcbd8fd7be",
   "metadata": {},
   "outputs": [],
   "source": [
    "#FUNZIONE DI TRAINING\n",
    "def train_fn(model, dataloader, optimizer, criterion):\n",
    "  model.train() #ON Dropout\n",
    "  total_loss = 0.0\n",
    "\n",
    "  for A, P, N in tqdm(dataloader):\n",
    "    A, P, N = A.to(DEVICE), P.to(DEVICE), N.to(DEVICE)\n",
    "\n",
    "    A_embs = model(A)\n",
    "    P_embs = model(P)\n",
    "    N_embs = model(N)\n",
    "\n",
    "    loss = criterion(A_embs, P_embs, N_embs)\n",
    "\n",
    "    optimizer.zero_grad()\n",
    "    loss.backward()\n",
    "    optimizer.step()\n",
    "\n",
    "    total_loss += loss.item()\n",
    "\n",
    "  return total_loss / len(dataloader)"
   ]
  },
  {
   "cell_type": "code",
   "execution_count": 16,
   "id": "97248e6d-1321-48d8-a973-28f74e60eb3e",
   "metadata": {},
   "outputs": [],
   "source": [
    "#FUNZIONE DI EVALUATION\n",
    "def eval_fn(model, dataloader, criterion):\n",
    "  model.eval() #OFF Dropout\n",
    "  total_loss = 0.0\n",
    "\n",
    "  with torch.no_grad():\n",
    "    for A, P, N in tqdm(dataloader):\n",
    "      A, P, N = A.to(DEVICE), P.to(DEVICE), N.to(DEVICE)\n",
    "\n",
    "      A_embs = model(A)\n",
    "      P_embs = model(P)\n",
    "      N_embs = model(N)\n",
    "\n",
    "      loss = criterion(A_embs, P_embs, N_embs)\n",
    "\n",
    "      total_loss += loss.item()\n",
    "\n",
    "    return total_loss / len(dataloader)"
   ]
  },
  {
   "cell_type": "code",
   "execution_count": 17,
   "id": "7a71747b-8cc8-4145-8a59-bc8a417580d3",
   "metadata": {},
   "outputs": [],
   "source": [
    "class EarlyStopper:\n",
    "    def __init__(self, patience=1, min_delta=0):\n",
    "        self.patience = patience\n",
    "        self.min_delta = min_delta\n",
    "        self.counter = 0\n",
    "        self.min_validation_loss = float('inf')\n",
    "        self.model = None\n",
    "\n",
    "    def early_stop(self, validation_loss, model_updated):\n",
    "        print(validation_loss)\n",
    "        if validation_loss < self.min_validation_loss:\n",
    "            self.min_validation_loss = validation_loss\n",
    "            self.counter = 0\n",
    "            print(\"New min - model updated\")\n",
    "            self.model = model_updated\n",
    "            torch.save(self.model, 'trained_model_on_20000_prova.pt')\n",
    "        elif validation_loss > (self.min_validation_loss + self.min_delta):\n",
    "            print(f\"Counter updated {self.min_validation_loss + self.min_delta}\")\n",
    "            self.counter += 1\n",
    "            if self.counter >= self.patience:\n",
    "                return True\n",
    "        return False\n",
    "\n",
    "    def get_model(self):\n",
    "        return self.model"
   ]
  },
  {
   "cell_type": "markdown",
   "id": "60fda6b6-2342-4292-b0c2-783e39d4e685",
   "metadata": {},
   "source": [
    "## Training parameters"
   ]
  },
  {
   "cell_type": "code",
   "execution_count": 18,
   "id": "8730717b-a280-4a4e-9dab-a9398d9f1e67",
   "metadata": {},
   "outputs": [],
   "source": [
    "criterion = nn.TripletMarginLoss()\n",
    "optimizer = torch.optim.Adam(model.parameters(), lr = LR)"
   ]
  },
  {
   "cell_type": "code",
   "execution_count": 19,
   "id": "cdc248bf-3b10-436f-84d3-030bde272d22",
   "metadata": {},
   "outputs": [],
   "source": [
    "early_stopper = EarlyStopper(patience=5, min_delta=0.05)\n"
   ]
  },
  {
   "cell_type": "markdown",
   "id": "c2686c4b-2a9e-4760-8a4f-89431e793300",
   "metadata": {},
   "source": [
    "## Training"
   ]
  },
  {
   "cell_type": "code",
   "execution_count": 20,
   "id": "0a2ac07f-cb59-48bd-b6c5-1b2fbb8d3ce5",
   "metadata": {
    "scrolled": true
   },
   "outputs": [
    {
     "name": "stderr",
     "output_type": "stream",
     "text": [
      "100%|████████████████████████████████████████████████████████████████████████████████| 469/469 [02:11<00:00,  3.58it/s]\n",
      "100%|████████████████████████████████████████████████████████████████████████████████| 125/125 [00:26<00:00,  4.65it/s]\n"
     ]
    },
    {
     "name": "stdout",
     "output_type": "stream",
     "text": [
      "0.1340553385913372\n",
      "New min - model updated\n",
      "EPOCHS : 1 train_loss : 0.31855883382197253 valid_loss : 0.1340553385913372\n"
     ]
    },
    {
     "name": "stderr",
     "output_type": "stream",
     "text": [
      "100%|████████████████████████████████████████████████████████████████████████████████| 469/469 [02:10<00:00,  3.60it/s]\n",
      "100%|████████████████████████████████████████████████████████████████████████████████| 125/125 [00:26<00:00,  4.80it/s]\n"
     ]
    },
    {
     "name": "stdout",
     "output_type": "stream",
     "text": [
      "0.2897383239865303\n",
      "Counter updated 0.18405533859133721\n",
      "EPOCHS : 2 train_loss : 0.12312512361069224 valid_loss : 0.2897383239865303\n"
     ]
    },
    {
     "name": "stderr",
     "output_type": "stream",
     "text": [
      "100%|████████████████████████████████████████████████████████████████████████████████| 469/469 [02:09<00:00,  3.61it/s]\n",
      "100%|████████████████████████████████████████████████████████████████████████████████| 125/125 [00:26<00:00,  4.67it/s]\n"
     ]
    },
    {
     "name": "stdout",
     "output_type": "stream",
     "text": [
      "0.11444523565471172\n",
      "New min - model updated\n",
      "EPOCHS : 3 train_loss : 0.08832485046483941 valid_loss : 0.11444523565471172\n"
     ]
    },
    {
     "name": "stderr",
     "output_type": "stream",
     "text": [
      "100%|████████████████████████████████████████████████████████████████████████████████| 469/469 [02:10<00:00,  3.61it/s]\n",
      "100%|████████████████████████████████████████████████████████████████████████████████| 125/125 [00:26<00:00,  4.65it/s]\n"
     ]
    },
    {
     "name": "stdout",
     "output_type": "stream",
     "text": [
      "0.17334241530299185\n",
      "Counter updated 0.16444523565471172\n",
      "EPOCHS : 4 train_loss : 0.18881445244621875 valid_loss : 0.17334241530299185\n"
     ]
    },
    {
     "name": "stderr",
     "output_type": "stream",
     "text": [
      "100%|████████████████████████████████████████████████████████████████████████████████| 469/469 [02:09<00:00,  3.61it/s]\n",
      "100%|████████████████████████████████████████████████████████████████████████████████| 125/125 [00:26<00:00,  4.68it/s]\n"
     ]
    },
    {
     "name": "stdout",
     "output_type": "stream",
     "text": [
      "0.1277117654979229\n",
      "EPOCHS : 5 train_loss : 0.10371626832131256 valid_loss : 0.1277117654979229\n"
     ]
    },
    {
     "name": "stderr",
     "output_type": "stream",
     "text": [
      "100%|████████████████████████████████████████████████████████████████████████████████| 469/469 [02:09<00:00,  3.62it/s]\n",
      "100%|████████████████████████████████████████████████████████████████████████████████| 125/125 [00:26<00:00,  4.67it/s]\n"
     ]
    },
    {
     "name": "stdout",
     "output_type": "stream",
     "text": [
      "0.14351135581731797\n",
      "EPOCHS : 6 train_loss : 0.07934464024169359 valid_loss : 0.14351135581731797\n"
     ]
    },
    {
     "name": "stderr",
     "output_type": "stream",
     "text": [
      "100%|████████████████████████████████████████████████████████████████████████████████| 469/469 [02:09<00:00,  3.61it/s]\n",
      "100%|████████████████████████████████████████████████████████████████████████████████| 125/125 [00:27<00:00,  4.63it/s]\n"
     ]
    },
    {
     "name": "stdout",
     "output_type": "stream",
     "text": [
      "0.2995498452782631\n",
      "Counter updated 0.16444523565471172\n",
      "EPOCHS : 7 train_loss : 0.21067604846728127 valid_loss : 0.2995498452782631\n"
     ]
    },
    {
     "name": "stderr",
     "output_type": "stream",
     "text": [
      "100%|████████████████████████████████████████████████████████████████████████████████| 469/469 [02:09<00:00,  3.61it/s]\n",
      "100%|████████████████████████████████████████████████████████████████████████████████| 125/125 [00:26<00:00,  4.65it/s]\n"
     ]
    },
    {
     "name": "stdout",
     "output_type": "stream",
     "text": [
      "0.1601374643445015\n",
      "EPOCHS : 8 train_loss : 0.13679628486016285 valid_loss : 0.1601374643445015\n"
     ]
    },
    {
     "name": "stderr",
     "output_type": "stream",
     "text": [
      "100%|████████████████████████████████████████████████████████████████████████████████| 469/469 [02:09<00:00,  3.62it/s]\n",
      "100%|████████████████████████████████████████████████████████████████████████████████| 125/125 [00:26<00:00,  4.68it/s]\n"
     ]
    },
    {
     "name": "stdout",
     "output_type": "stream",
     "text": [
      "0.1407304414510727\n",
      "EPOCHS : 9 train_loss : 0.1323199692541666 valid_loss : 0.1407304414510727\n"
     ]
    },
    {
     "name": "stderr",
     "output_type": "stream",
     "text": [
      "100%|████████████████████████████████████████████████████████████████████████████████| 469/469 [02:09<00:00,  3.61it/s]\n",
      "100%|████████████████████████████████████████████████████████████████████████████████| 125/125 [00:27<00:00,  4.62it/s]\n"
     ]
    },
    {
     "name": "stdout",
     "output_type": "stream",
     "text": [
      "0.12843897220492362\n",
      "EPOCHS : 10 train_loss : 0.09581847339153671 valid_loss : 0.12843897220492362\n"
     ]
    },
    {
     "name": "stderr",
     "output_type": "stream",
     "text": [
      "100%|████████████████████████████████████████████████████████████████████████████████| 469/469 [02:10<00:00,  3.59it/s]\n",
      "100%|████████████████████████████████████████████████████████████████████████████████| 125/125 [00:26<00:00,  4.65it/s]\n"
     ]
    },
    {
     "name": "stdout",
     "output_type": "stream",
     "text": [
      "0.17281564496457577\n",
      "Counter updated 0.16444523565471172\n",
      "EPOCHS : 11 train_loss : 0.08075528657401422 valid_loss : 0.17281564496457577\n"
     ]
    },
    {
     "name": "stderr",
     "output_type": "stream",
     "text": [
      "100%|████████████████████████████████████████████████████████████████████████████████| 469/469 [02:09<00:00,  3.61it/s]\n",
      "100%|████████████████████████████████████████████████████████████████████████████████| 125/125 [00:26<00:00,  4.67it/s]\n"
     ]
    },
    {
     "name": "stdout",
     "output_type": "stream",
     "text": [
      "0.10484107194840908\n",
      "New min - model updated\n",
      "EPOCHS : 12 train_loss : 0.13034083842357466 valid_loss : 0.10484107194840908\n"
     ]
    },
    {
     "name": "stderr",
     "output_type": "stream",
     "text": [
      "100%|████████████████████████████████████████████████████████████████████████████████| 469/469 [02:09<00:00,  3.61it/s]\n",
      "100%|████████████████████████████████████████████████████████████████████████████████| 125/125 [00:27<00:00,  4.62it/s]\n"
     ]
    },
    {
     "name": "stdout",
     "output_type": "stream",
     "text": [
      "0.32305458375811574\n",
      "Counter updated 0.15484107194840907\n",
      "EPOCHS : 13 train_loss : 0.07250427380045339 valid_loss : 0.32305458375811574\n"
     ]
    },
    {
     "name": "stderr",
     "output_type": "stream",
     "text": [
      "100%|████████████████████████████████████████████████████████████████████████████████| 469/469 [02:10<00:00,  3.61it/s]\n",
      "100%|████████████████████████████████████████████████████████████████████████████████| 125/125 [00:26<00:00,  4.64it/s]\n"
     ]
    },
    {
     "name": "stdout",
     "output_type": "stream",
     "text": [
      "0.10255787606537342\n",
      "New min - model updated\n",
      "EPOCHS : 14 train_loss : 0.06337741826341223 valid_loss : 0.10255787606537342\n"
     ]
    },
    {
     "name": "stderr",
     "output_type": "stream",
     "text": [
      "100%|████████████████████████████████████████████████████████████████████████████████| 469/469 [02:09<00:00,  3.61it/s]\n",
      "100%|████████████████████████████████████████████████████████████████████████████████| 125/125 [00:26<00:00,  4.64it/s]\n"
     ]
    },
    {
     "name": "stdout",
     "output_type": "stream",
     "text": [
      "0.09987850888073445\n",
      "New min - model updated\n",
      "EPOCHS : 15 train_loss : 0.07818106900670253 valid_loss : 0.09987850888073445\n"
     ]
    },
    {
     "name": "stderr",
     "output_type": "stream",
     "text": [
      "100%|████████████████████████████████████████████████████████████████████████████████| 469/469 [02:10<00:00,  3.61it/s]\n",
      "100%|████████████████████████████████████████████████████████████████████████████████| 125/125 [00:26<00:00,  4.66it/s]\n"
     ]
    },
    {
     "name": "stdout",
     "output_type": "stream",
     "text": [
      "0.10162192571163177\n",
      "EPOCHS : 16 train_loss : 0.0720952148638618 valid_loss : 0.10162192571163177\n"
     ]
    },
    {
     "name": "stderr",
     "output_type": "stream",
     "text": [
      "100%|████████████████████████████████████████████████████████████████████████████████| 469/469 [02:09<00:00,  3.61it/s]\n",
      "100%|████████████████████████████████████████████████████████████████████████████████| 125/125 [00:27<00:00,  4.63it/s]\n"
     ]
    },
    {
     "name": "stdout",
     "output_type": "stream",
     "text": [
      "0.10357453075051308\n",
      "EPOCHS : 17 train_loss : 0.05111392629521488 valid_loss : 0.10357453075051308\n"
     ]
    },
    {
     "name": "stderr",
     "output_type": "stream",
     "text": [
      "100%|████████████████████████████████████████████████████████████████████████████████| 469/469 [02:10<00:00,  3.60it/s]\n",
      "100%|████████████████████████████████████████████████████████████████████████████████| 125/125 [00:26<00:00,  4.64it/s]\n"
     ]
    },
    {
     "name": "stdout",
     "output_type": "stream",
     "text": [
      "0.13409579902887345\n",
      "EPOCHS : 18 train_loss : 0.0629721705033295 valid_loss : 0.13409579902887345\n"
     ]
    },
    {
     "name": "stderr",
     "output_type": "stream",
     "text": [
      "100%|████████████████████████████████████████████████████████████████████████████████| 469/469 [02:10<00:00,  3.61it/s]\n",
      "100%|████████████████████████████████████████████████████████████████████████████████| 125/125 [00:26<00:00,  4.68it/s]\n"
     ]
    },
    {
     "name": "stdout",
     "output_type": "stream",
     "text": [
      "0.3705548633337021\n",
      "Counter updated 0.14987850888073445\n",
      "EPOCHS : 19 train_loss : 0.07198065670250829 valid_loss : 0.3705548633337021\n"
     ]
    },
    {
     "name": "stderr",
     "output_type": "stream",
     "text": [
      "100%|████████████████████████████████████████████████████████████████████████████████| 469/469 [02:10<00:00,  3.58it/s]\n",
      "100%|████████████████████████████████████████████████████████████████████████████████| 125/125 [00:26<00:00,  4.67it/s]\n"
     ]
    },
    {
     "name": "stdout",
     "output_type": "stream",
     "text": [
      "0.08302557182312012\n",
      "New min - model updated\n",
      "EPOCHS : 20 train_loss : 0.05085414246534869 valid_loss : 0.08302557182312012\n"
     ]
    },
    {
     "name": "stderr",
     "output_type": "stream",
     "text": [
      "100%|████████████████████████████████████████████████████████████████████████████████| 469/469 [02:10<00:00,  3.60it/s]\n",
      "100%|████████████████████████████████████████████████████████████████████████████████| 125/125 [00:26<00:00,  4.64it/s]\n"
     ]
    },
    {
     "name": "stdout",
     "output_type": "stream",
     "text": [
      "0.07690008062124253\n",
      "New min - model updated\n",
      "EPOCHS : 21 train_loss : 0.0315033943136173 valid_loss : 0.07690008062124253\n"
     ]
    },
    {
     "name": "stderr",
     "output_type": "stream",
     "text": [
      "100%|████████████████████████████████████████████████████████████████████████████████| 469/469 [02:10<00:00,  3.60it/s]\n",
      "100%|████████████████████████████████████████████████████████████████████████████████| 125/125 [00:27<00:00,  4.62it/s]\n"
     ]
    },
    {
     "name": "stdout",
     "output_type": "stream",
     "text": [
      "0.09482767961919308\n",
      "EPOCHS : 22 train_loss : 0.050043822685157315 valid_loss : 0.09482767961919308\n"
     ]
    },
    {
     "name": "stderr",
     "output_type": "stream",
     "text": [
      "100%|████████████████████████████████████████████████████████████████████████████████| 469/469 [02:10<00:00,  3.60it/s]\n",
      "100%|████████████████████████████████████████████████████████████████████████████████| 125/125 [00:27<00:00,  4.61it/s]\n"
     ]
    },
    {
     "name": "stdout",
     "output_type": "stream",
     "text": [
      "0.10125038482248783\n",
      "EPOCHS : 23 train_loss : 0.033835771980125516 valid_loss : 0.10125038482248783\n"
     ]
    },
    {
     "name": "stderr",
     "output_type": "stream",
     "text": [
      "100%|████████████████████████████████████████████████████████████████████████████████| 469/469 [02:12<00:00,  3.54it/s]\n",
      "100%|████████████████████████████████████████████████████████████████████████████████| 125/125 [00:27<00:00,  4.62it/s]\n"
     ]
    },
    {
     "name": "stdout",
     "output_type": "stream",
     "text": [
      "0.10963965326547623\n",
      "EPOCHS : 24 train_loss : 0.0411534267805342 valid_loss : 0.10963965326547623\n"
     ]
    },
    {
     "name": "stderr",
     "output_type": "stream",
     "text": [
      "100%|████████████████████████████████████████████████████████████████████████████████| 469/469 [02:14<00:00,  3.48it/s]\n",
      "100%|████████████████████████████████████████████████████████████████████████████████| 125/125 [00:27<00:00,  4.61it/s]\n"
     ]
    },
    {
     "name": "stdout",
     "output_type": "stream",
     "text": [
      "0.12706815403699875\n",
      "Counter updated 0.12690008062124253\n",
      "EPOCHS : 25 train_loss : 0.05927381162513802 valid_loss : 0.12706815403699875\n"
     ]
    },
    {
     "name": "stderr",
     "output_type": "stream",
     "text": [
      "100%|████████████████████████████████████████████████████████████████████████████████| 469/469 [02:10<00:00,  3.59it/s]\n",
      "100%|████████████████████████████████████████████████████████████████████████████████| 125/125 [00:26<00:00,  4.64it/s]\n"
     ]
    },
    {
     "name": "stdout",
     "output_type": "stream",
     "text": [
      "0.07528227350115776\n",
      "New min - model updated\n",
      "EPOCHS : 26 train_loss : 0.05341820500648098 valid_loss : 0.07528227350115776\n"
     ]
    },
    {
     "name": "stderr",
     "output_type": "stream",
     "text": [
      "100%|████████████████████████████████████████████████████████████████████████████████| 469/469 [02:10<00:00,  3.60it/s]\n",
      "100%|████████████████████████████████████████████████████████████████████████████████| 125/125 [00:27<00:00,  4.60it/s]\n"
     ]
    },
    {
     "name": "stdout",
     "output_type": "stream",
     "text": [
      "0.08363963523507119\n",
      "EPOCHS : 27 train_loss : 0.033231941419147225 valid_loss : 0.08363963523507119\n"
     ]
    },
    {
     "name": "stderr",
     "output_type": "stream",
     "text": [
      "100%|████████████████████████████████████████████████████████████████████████████████| 469/469 [02:10<00:00,  3.59it/s]\n",
      "100%|████████████████████████████████████████████████████████████████████████████████| 125/125 [00:26<00:00,  4.63it/s]\n"
     ]
    },
    {
     "name": "stdout",
     "output_type": "stream",
     "text": [
      "0.08102936954796314\n",
      "EPOCHS : 28 train_loss : 0.06017601321628099 valid_loss : 0.08102936954796314\n"
     ]
    },
    {
     "name": "stderr",
     "output_type": "stream",
     "text": [
      "100%|████████████████████████████████████████████████████████████████████████████████| 469/469 [02:10<00:00,  3.60it/s]\n",
      "100%|████████████████████████████████████████████████████████████████████████████████| 125/125 [00:27<00:00,  4.55it/s]\n"
     ]
    },
    {
     "name": "stdout",
     "output_type": "stream",
     "text": [
      "0.08973515464365482\n",
      "EPOCHS : 29 train_loss : 0.05189993119697327 valid_loss : 0.08973515464365482\n"
     ]
    },
    {
     "name": "stderr",
     "output_type": "stream",
     "text": [
      "100%|████████████████████████████████████████████████████████████████████████████████| 469/469 [02:11<00:00,  3.58it/s]\n",
      "100%|████████████████████████████████████████████████████████████████████████████████| 125/125 [00:27<00:00,  4.57it/s]\n"
     ]
    },
    {
     "name": "stdout",
     "output_type": "stream",
     "text": [
      "0.07206834492087365\n",
      "New min - model updated\n",
      "EPOCHS : 30 train_loss : 0.036618886583014085 valid_loss : 0.07206834492087365\n"
     ]
    },
    {
     "name": "stderr",
     "output_type": "stream",
     "text": [
      "100%|████████████████████████████████████████████████████████████████████████████████| 469/469 [02:10<00:00,  3.59it/s]\n",
      "100%|████████████████████████████████████████████████████████████████████████████████| 125/125 [00:27<00:00,  4.59it/s]\n"
     ]
    },
    {
     "name": "stdout",
     "output_type": "stream",
     "text": [
      "0.07231908643245696\n",
      "EPOCHS : 31 train_loss : 0.031245872155943915 valid_loss : 0.07231908643245696\n"
     ]
    },
    {
     "name": "stderr",
     "output_type": "stream",
     "text": [
      "100%|████████████████████████████████████████████████████████████████████████████████| 469/469 [02:11<00:00,  3.56it/s]\n",
      "100%|████████████████████████████████████████████████████████████████████████████████| 125/125 [00:27<00:00,  4.58it/s]\n"
     ]
    },
    {
     "name": "stdout",
     "output_type": "stream",
     "text": [
      "0.12499881054461003\n",
      "Counter updated 0.12206834492087365\n",
      "EPOCHS : 32 train_loss : 0.02919900516616002 valid_loss : 0.12499881054461003\n"
     ]
    },
    {
     "name": "stderr",
     "output_type": "stream",
     "text": [
      "100%|████████████████████████████████████████████████████████████████████████████████| 469/469 [02:11<00:00,  3.56it/s]\n",
      "100%|████████████████████████████████████████████████████████████████████████████████| 125/125 [00:26<00:00,  4.68it/s]\n"
     ]
    },
    {
     "name": "stdout",
     "output_type": "stream",
     "text": [
      "0.0904586229622364\n",
      "EPOCHS : 33 train_loss : 0.04274206634745923 valid_loss : 0.0904586229622364\n"
     ]
    },
    {
     "name": "stderr",
     "output_type": "stream",
     "text": [
      "100%|████████████████████████████████████████████████████████████████████████████████| 469/469 [02:11<00:00,  3.58it/s]\n",
      "100%|████████████████████████████████████████████████████████████████████████████████| 125/125 [00:27<00:00,  4.62it/s]\n"
     ]
    },
    {
     "name": "stdout",
     "output_type": "stream",
     "text": [
      "0.11112201398611068\n",
      "EPOCHS : 34 train_loss : 0.027650826588781402 valid_loss : 0.11112201398611068\n"
     ]
    },
    {
     "name": "stderr",
     "output_type": "stream",
     "text": [
      "100%|████████████████████████████████████████████████████████████████████████████████| 469/469 [02:11<00:00,  3.55it/s]\n",
      "100%|████████████████████████████████████████████████████████████████████████████████| 125/125 [00:27<00:00,  4.62it/s]\n"
     ]
    },
    {
     "name": "stdout",
     "output_type": "stream",
     "text": [
      "0.08452859124541283\n",
      "EPOCHS : 35 train_loss : 0.04357993098369031 valid_loss : 0.08452859124541283\n"
     ]
    },
    {
     "name": "stderr",
     "output_type": "stream",
     "text": [
      "100%|████████████████████████████████████████████████████████████████████████████████| 469/469 [02:10<00:00,  3.60it/s]\n",
      "100%|████████████████████████████████████████████████████████████████████████████████| 125/125 [00:26<00:00,  4.65it/s]\n"
     ]
    },
    {
     "name": "stdout",
     "output_type": "stream",
     "text": [
      "0.08314665126800537\n",
      "EPOCHS : 36 train_loss : 0.029521663651378677 valid_loss : 0.08314665126800537\n"
     ]
    },
    {
     "name": "stderr",
     "output_type": "stream",
     "text": [
      "100%|████████████████████████████████████████████████████████████████████████████████| 469/469 [02:11<00:00,  3.57it/s]\n",
      "100%|████████████████████████████████████████████████████████████████████████████████| 125/125 [00:27<00:00,  4.61it/s]\n"
     ]
    },
    {
     "name": "stdout",
     "output_type": "stream",
     "text": [
      "0.07861523960530759\n",
      "EPOCHS : 37 train_loss : 0.025435379994258697 valid_loss : 0.07861523960530759\n"
     ]
    },
    {
     "name": "stderr",
     "output_type": "stream",
     "text": [
      "100%|████████████████████████████████████████████████████████████████████████████████| 469/469 [02:10<00:00,  3.60it/s]\n",
      "100%|████████████████████████████████████████████████████████████████████████████████| 125/125 [00:26<00:00,  4.66it/s]\n"
     ]
    },
    {
     "name": "stdout",
     "output_type": "stream",
     "text": [
      "0.10946391336619854\n",
      "EPOCHS : 38 train_loss : 0.041667809979970265 valid_loss : 0.10946391336619854\n"
     ]
    },
    {
     "name": "stderr",
     "output_type": "stream",
     "text": [
      "100%|████████████████████████████████████████████████████████████████████████████████| 469/469 [02:10<00:00,  3.58it/s]\n",
      "100%|████████████████████████████████████████████████████████████████████████████████| 125/125 [00:27<00:00,  4.59it/s]\n"
     ]
    },
    {
     "name": "stdout",
     "output_type": "stream",
     "text": [
      "0.07757358533143997\n",
      "EPOCHS : 39 train_loss : 0.031342126933464616 valid_loss : 0.07757358533143997\n"
     ]
    },
    {
     "name": "stderr",
     "output_type": "stream",
     "text": [
      "100%|████████████████████████████████████████████████████████████████████████████████| 469/469 [02:10<00:00,  3.60it/s]\n",
      "100%|████████████████████████████████████████████████████████████████████████████████| 125/125 [00:27<00:00,  4.59it/s]\n"
     ]
    },
    {
     "name": "stdout",
     "output_type": "stream",
     "text": [
      "0.07775934863090515\n",
      "EPOCHS : 40 train_loss : 0.03566612676580323 valid_loss : 0.07775934863090515\n"
     ]
    },
    {
     "name": "stderr",
     "output_type": "stream",
     "text": [
      "100%|████████████████████████████████████████████████████████████████████████████████| 469/469 [02:11<00:00,  3.56it/s]\n",
      "100%|████████████████████████████████████████████████████████████████████████████████| 125/125 [00:26<00:00,  4.64it/s]\n"
     ]
    },
    {
     "name": "stdout",
     "output_type": "stream",
     "text": [
      "0.06454465064406395\n",
      "New min - model updated\n",
      "EPOCHS : 41 train_loss : 0.024560741675116106 valid_loss : 0.06454465064406395\n"
     ]
    },
    {
     "name": "stderr",
     "output_type": "stream",
     "text": [
      "100%|████████████████████████████████████████████████████████████████████████████████| 469/469 [02:10<00:00,  3.58it/s]\n",
      "100%|████████████████████████████████████████████████████████████████████████████████| 125/125 [00:27<00:00,  4.55it/s]\n"
     ]
    },
    {
     "name": "stdout",
     "output_type": "stream",
     "text": [
      "0.07683648696541787\n",
      "EPOCHS : 42 train_loss : 0.032621384294493114 valid_loss : 0.07683648696541787\n"
     ]
    },
    {
     "name": "stderr",
     "output_type": "stream",
     "text": [
      "100%|████████████████████████████████████████████████████████████████████████████████| 469/469 [02:10<00:00,  3.60it/s]\n",
      "100%|████████████████████████████████████████████████████████████████████████████████| 125/125 [00:26<00:00,  4.63it/s]\n"
     ]
    },
    {
     "name": "stdout",
     "output_type": "stream",
     "text": [
      "0.06241382551193237\n",
      "New min - model updated\n",
      "EPOCHS : 43 train_loss : 0.020311231115288826 valid_loss : 0.06241382551193237\n"
     ]
    },
    {
     "name": "stderr",
     "output_type": "stream",
     "text": [
      "100%|████████████████████████████████████████████████████████████████████████████████| 469/469 [02:10<00:00,  3.60it/s]\n",
      "100%|████████████████████████████████████████████████████████████████████████████████| 125/125 [00:27<00:00,  4.62it/s]\n"
     ]
    },
    {
     "name": "stdout",
     "output_type": "stream",
     "text": [
      "0.09909108082950115\n",
      "EPOCHS : 44 train_loss : 0.021142698383566413 valid_loss : 0.09909108082950115\n"
     ]
    },
    {
     "name": "stderr",
     "output_type": "stream",
     "text": [
      "100%|████████████████████████████████████████████████████████████████████████████████| 469/469 [02:10<00:00,  3.60it/s]\n",
      "100%|████████████████████████████████████████████████████████████████████████████████| 125/125 [00:27<00:00,  4.63it/s]\n"
     ]
    },
    {
     "name": "stdout",
     "output_type": "stream",
     "text": [
      "0.0711267009973526\n",
      "EPOCHS : 45 train_loss : 0.02174325482343941 valid_loss : 0.0711267009973526\n"
     ]
    },
    {
     "name": "stderr",
     "output_type": "stream",
     "text": [
      "100%|████████████████████████████████████████████████████████████████████████████████| 469/469 [02:10<00:00,  3.60it/s]\n",
      "100%|████████████████████████████████████████████████████████████████████████████████| 125/125 [00:27<00:00,  4.57it/s]\n"
     ]
    },
    {
     "name": "stdout",
     "output_type": "stream",
     "text": [
      "0.07030107194185257\n",
      "EPOCHS : 46 train_loss : 0.024499754586231225 valid_loss : 0.07030107194185257\n"
     ]
    },
    {
     "name": "stderr",
     "output_type": "stream",
     "text": [
      "100%|████████████████████████████████████████████████████████████████████████████████| 469/469 [02:12<00:00,  3.53it/s]\n",
      "100%|████████████████████████████████████████████████████████████████████████████████| 125/125 [00:26<00:00,  4.64it/s]\n"
     ]
    },
    {
     "name": "stdout",
     "output_type": "stream",
     "text": [
      "0.07692891351878643\n",
      "EPOCHS : 47 train_loss : 0.024767399696049405 valid_loss : 0.07692891351878643\n"
     ]
    },
    {
     "name": "stderr",
     "output_type": "stream",
     "text": [
      "100%|████████████████████████████████████████████████████████████████████████████████| 469/469 [02:10<00:00,  3.59it/s]\n",
      "100%|████████████████████████████████████████████████████████████████████████████████| 125/125 [00:27<00:00,  4.59it/s]\n"
     ]
    },
    {
     "name": "stdout",
     "output_type": "stream",
     "text": [
      "0.06638669541478157\n",
      "EPOCHS : 48 train_loss : 0.026479494430299507 valid_loss : 0.06638669541478157\n"
     ]
    },
    {
     "name": "stderr",
     "output_type": "stream",
     "text": [
      "100%|████████████████████████████████████████████████████████████████████████████████| 469/469 [02:09<00:00,  3.61it/s]\n",
      "100%|████████████████████████████████████████████████████████████████████████████████| 125/125 [00:27<00:00,  4.63it/s]\n"
     ]
    },
    {
     "name": "stdout",
     "output_type": "stream",
     "text": [
      "0.06519445997476578\n",
      "EPOCHS : 49 train_loss : 0.017220664964015805 valid_loss : 0.06519445997476578\n"
     ]
    },
    {
     "name": "stderr",
     "output_type": "stream",
     "text": [
      "100%|████████████████████████████████████████████████████████████████████████████████| 469/469 [02:11<00:00,  3.58it/s]\n",
      "100%|████████████████████████████████████████████████████████████████████████████████| 125/125 [00:27<00:00,  4.62it/s]\n"
     ]
    },
    {
     "name": "stdout",
     "output_type": "stream",
     "text": [
      "0.06230898430943489\n",
      "New min - model updated\n",
      "EPOCHS : 50 train_loss : 0.024600524491052638 valid_loss : 0.06230898430943489\n"
     ]
    },
    {
     "name": "stderr",
     "output_type": "stream",
     "text": [
      "100%|████████████████████████████████████████████████████████████████████████████████| 469/469 [02:10<00:00,  3.59it/s]\n",
      "100%|████████████████████████████████████████████████████████████████████████████████| 125/125 [00:27<00:00,  4.63it/s]\n"
     ]
    },
    {
     "name": "stdout",
     "output_type": "stream",
     "text": [
      "0.06707179419696331\n",
      "EPOCHS : 51 train_loss : 0.02328241125607033 valid_loss : 0.06707179419696331\n"
     ]
    },
    {
     "name": "stderr",
     "output_type": "stream",
     "text": [
      "100%|████████████████████████████████████████████████████████████████████████████████| 469/469 [02:10<00:00,  3.60it/s]\n",
      "100%|████████████████████████████████████████████████████████████████████████████████| 125/125 [00:27<00:00,  4.62it/s]\n"
     ]
    },
    {
     "name": "stdout",
     "output_type": "stream",
     "text": [
      "0.06756258891522884\n",
      "EPOCHS : 52 train_loss : 0.02150137104522953 valid_loss : 0.06756258891522884\n"
     ]
    },
    {
     "name": "stderr",
     "output_type": "stream",
     "text": [
      "100%|████████████████████████████████████████████████████████████████████████████████| 469/469 [02:10<00:00,  3.59it/s]\n",
      "100%|████████████████████████████████████████████████████████████████████████████████| 125/125 [00:27<00:00,  4.60it/s]\n"
     ]
    },
    {
     "name": "stdout",
     "output_type": "stream",
     "text": [
      "0.05857872715592384\n",
      "New min - model updated\n",
      "EPOCHS : 53 train_loss : 0.01689440638684769 valid_loss : 0.05857872715592384\n"
     ]
    },
    {
     "name": "stderr",
     "output_type": "stream",
     "text": [
      "100%|████████████████████████████████████████████████████████████████████████████████| 469/469 [02:11<00:00,  3.58it/s]\n",
      "100%|████████████████████████████████████████████████████████████████████████████████| 125/125 [00:26<00:00,  4.67it/s]\n"
     ]
    },
    {
     "name": "stdout",
     "output_type": "stream",
     "text": [
      "0.08675389158725738\n",
      "EPOCHS : 54 train_loss : 0.014611994200296748 valid_loss : 0.08675389158725738\n"
     ]
    },
    {
     "name": "stderr",
     "output_type": "stream",
     "text": [
      "100%|████████████████████████████████████████████████████████████████████████████████| 469/469 [02:11<00:00,  3.58it/s]\n",
      "100%|████████████████████████████████████████████████████████████████████████████████| 125/125 [00:26<00:00,  4.64it/s]\n"
     ]
    },
    {
     "name": "stdout",
     "output_type": "stream",
     "text": [
      "0.14363978996872903\n",
      "Counter updated 0.10857872715592384\n",
      "EPOCHS : 55 train_loss : 0.020269033445446477 valid_loss : 0.14363978996872903\n"
     ]
    },
    {
     "name": "stderr",
     "output_type": "stream",
     "text": [
      "100%|████████████████████████████████████████████████████████████████████████████████| 469/469 [02:10<00:00,  3.59it/s]\n",
      "100%|████████████████████████████████████████████████████████████████████████████████| 125/125 [00:26<00:00,  4.66it/s]\n"
     ]
    },
    {
     "name": "stdout",
     "output_type": "stream",
     "text": [
      "0.0654733310341835\n",
      "EPOCHS : 56 train_loss : 0.016192996783106567 valid_loss : 0.0654733310341835\n"
     ]
    },
    {
     "name": "stderr",
     "output_type": "stream",
     "text": [
      "100%|████████████████████████████████████████████████████████████████████████████████| 469/469 [02:08<00:00,  3.64it/s]\n",
      "100%|████████████████████████████████████████████████████████████████████████████████| 125/125 [00:26<00:00,  4.72it/s]\n"
     ]
    },
    {
     "name": "stdout",
     "output_type": "stream",
     "text": [
      "0.06354509453475475\n",
      "EPOCHS : 57 train_loss : 0.029423245044151093 valid_loss : 0.06354509453475475\n"
     ]
    },
    {
     "name": "stderr",
     "output_type": "stream",
     "text": [
      "100%|████████████████████████████████████████████████████████████████████████████████| 469/469 [02:10<00:00,  3.60it/s]\n",
      "100%|████████████████████████████████████████████████████████████████████████████████| 125/125 [00:27<00:00,  4.61it/s]\n"
     ]
    },
    {
     "name": "stdout",
     "output_type": "stream",
     "text": [
      "0.08454773117601871\n",
      "EPOCHS : 58 train_loss : 0.010930916790896134 valid_loss : 0.08454773117601871\n"
     ]
    },
    {
     "name": "stderr",
     "output_type": "stream",
     "text": [
      "100%|████████████████████████████████████████████████████████████████████████████████| 469/469 [02:10<00:00,  3.60it/s]\n",
      "100%|████████████████████████████████████████████████████████████████████████████████| 125/125 [00:27<00:00,  4.60it/s]\n"
     ]
    },
    {
     "name": "stdout",
     "output_type": "stream",
     "text": [
      "0.10737402379512787\n",
      "EPOCHS : 59 train_loss : 0.015100535049017812 valid_loss : 0.10737402379512787\n"
     ]
    },
    {
     "name": "stderr",
     "output_type": "stream",
     "text": [
      "100%|████████████████████████████████████████████████████████████████████████████████| 469/469 [02:15<00:00,  3.46it/s]\n",
      "100%|████████████████████████████████████████████████████████████████████████████████| 125/125 [00:26<00:00,  4.67it/s]\n"
     ]
    },
    {
     "name": "stdout",
     "output_type": "stream",
     "text": [
      "0.06201913176476955\n",
      "EPOCHS : 60 train_loss : 0.017579292072289025 valid_loss : 0.06201913176476955\n"
     ]
    },
    {
     "name": "stderr",
     "output_type": "stream",
     "text": [
      "100%|████████████████████████████████████████████████████████████████████████████████| 469/469 [02:10<00:00,  3.60it/s]\n",
      "100%|████████████████████████████████████████████████████████████████████████████████| 125/125 [00:26<00:00,  4.65it/s]\n"
     ]
    },
    {
     "name": "stdout",
     "output_type": "stream",
     "text": [
      "0.06948458622395992\n",
      "EPOCHS : 61 train_loss : 0.015278800293358404 valid_loss : 0.06948458622395992\n"
     ]
    },
    {
     "name": "stderr",
     "output_type": "stream",
     "text": [
      "100%|████████████████████████████████████████████████████████████████████████████████| 469/469 [02:09<00:00,  3.61it/s]\n",
      "100%|████████████████████████████████████████████████████████████████████████████████| 125/125 [00:26<00:00,  4.65it/s]\n"
     ]
    },
    {
     "name": "stdout",
     "output_type": "stream",
     "text": [
      "0.06314991357922554\n",
      "EPOCHS : 62 train_loss : 0.009014356186363235 valid_loss : 0.06314991357922554\n"
     ]
    },
    {
     "name": "stderr",
     "output_type": "stream",
     "text": [
      "100%|████████████████████████████████████████████████████████████████████████████████| 469/469 [02:10<00:00,  3.61it/s]\n",
      "100%|████████████████████████████████████████████████████████████████████████████████| 125/125 [00:26<00:00,  4.73it/s]\n"
     ]
    },
    {
     "name": "stdout",
     "output_type": "stream",
     "text": [
      "0.05338559904694557\n",
      "New min - model updated\n",
      "EPOCHS : 63 train_loss : 0.010207318087249423 valid_loss : 0.05338559904694557\n"
     ]
    },
    {
     "name": "stderr",
     "output_type": "stream",
     "text": [
      "100%|████████████████████████████████████████████████████████████████████████████████| 469/469 [02:11<00:00,  3.58it/s]\n",
      "100%|████████████████████████████████████████████████████████████████████████████████| 125/125 [00:26<00:00,  4.66it/s]\n"
     ]
    },
    {
     "name": "stdout",
     "output_type": "stream",
     "text": [
      "0.07831750948727131\n",
      "EPOCHS : 64 train_loss : 0.02225700837335607 valid_loss : 0.07831750948727131\n"
     ]
    },
    {
     "name": "stderr",
     "output_type": "stream",
     "text": [
      "100%|████████████████████████████████████████████████████████████████████████████████| 469/469 [02:10<00:00,  3.58it/s]\n",
      "100%|████████████████████████████████████████████████████████████████████████████████| 125/125 [00:26<00:00,  4.64it/s]\n"
     ]
    },
    {
     "name": "stdout",
     "output_type": "stream",
     "text": [
      "0.05182488898932934\n",
      "New min - model updated\n",
      "EPOCHS : 65 train_loss : 0.011130768352988433 valid_loss : 0.05182488898932934\n"
     ]
    },
    {
     "name": "stderr",
     "output_type": "stream",
     "text": [
      "100%|████████████████████████████████████████████████████████████████████████████████| 469/469 [02:10<00:00,  3.58it/s]\n",
      "100%|████████████████████████████████████████████████████████████████████████████████| 125/125 [00:27<00:00,  4.60it/s]\n"
     ]
    },
    {
     "name": "stdout",
     "output_type": "stream",
     "text": [
      "0.05856528612971306\n",
      "EPOCHS : 66 train_loss : 0.024431451035143215 valid_loss : 0.05856528612971306\n"
     ]
    },
    {
     "name": "stderr",
     "output_type": "stream",
     "text": [
      "100%|████████████████████████████████████████████████████████████████████████████████| 469/469 [02:10<00:00,  3.60it/s]\n",
      "100%|████████████████████████████████████████████████████████████████████████████████| 125/125 [00:26<00:00,  4.65it/s]\n"
     ]
    },
    {
     "name": "stdout",
     "output_type": "stream",
     "text": [
      "0.18809890806674956\n",
      "Counter updated 0.10182488898932934\n",
      "EPOCHS : 67 train_loss : 0.008848323171009132 valid_loss : 0.18809890806674956\n"
     ]
    },
    {
     "name": "stderr",
     "output_type": "stream",
     "text": [
      "100%|████████████████████████████████████████████████████████████████████████████████| 469/469 [02:13<00:00,  3.53it/s]\n",
      "100%|████████████████████████████████████████████████████████████████████████████████| 125/125 [00:26<00:00,  4.64it/s]\n"
     ]
    },
    {
     "name": "stdout",
     "output_type": "stream",
     "text": [
      "0.06871202331781387\n",
      "EPOCHS : 68 train_loss : 0.013585055926079944 valid_loss : 0.06871202331781387\n"
     ]
    },
    {
     "name": "stderr",
     "output_type": "stream",
     "text": [
      "100%|████████████████████████████████████████████████████████████████████████████████| 469/469 [02:11<00:00,  3.57it/s]\n",
      "100%|████████████████████████████████████████████████████████████████████████████████| 125/125 [00:27<00:00,  4.61it/s]\n"
     ]
    },
    {
     "name": "stdout",
     "output_type": "stream",
     "text": [
      "0.07049415078759193\n",
      "EPOCHS : 69 train_loss : 0.020980556334640934 valid_loss : 0.07049415078759193\n"
     ]
    },
    {
     "name": "stderr",
     "output_type": "stream",
     "text": [
      "100%|████████████████████████████████████████████████████████████████████████████████| 469/469 [02:33<00:00,  3.06it/s]\n",
      "100%|████████████████████████████████████████████████████████████████████████████████| 125/125 [00:26<00:00,  4.68it/s]\n"
     ]
    },
    {
     "name": "stdout",
     "output_type": "stream",
     "text": [
      "0.04883121459186077\n",
      "New min - model updated\n",
      "EPOCHS : 70 train_loss : 0.01408309297663952 valid_loss : 0.04883121459186077\n"
     ]
    },
    {
     "name": "stderr",
     "output_type": "stream",
     "text": [
      "100%|████████████████████████████████████████████████████████████████████████████████| 469/469 [02:16<00:00,  3.45it/s]\n",
      "100%|████████████████████████████████████████████████████████████████████████████████| 125/125 [00:27<00:00,  4.56it/s]\n"
     ]
    },
    {
     "name": "stdout",
     "output_type": "stream",
     "text": [
      "0.07563980442285538\n",
      "EPOCHS : 71 train_loss : 0.00866968377725656 valid_loss : 0.07563980442285538\n"
     ]
    },
    {
     "name": "stderr",
     "output_type": "stream",
     "text": [
      "100%|████████████████████████████████████████████████████████████████████████████████| 469/469 [02:11<00:00,  3.56it/s]\n",
      "100%|████████████████████████████████████████████████████████████████████████████████| 125/125 [00:27<00:00,  4.55it/s]\n"
     ]
    },
    {
     "name": "stdout",
     "output_type": "stream",
     "text": [
      "0.06887598769366741\n",
      "EPOCHS : 72 train_loss : 0.016041858435503202 valid_loss : 0.06887598769366741\n"
     ]
    },
    {
     "name": "stderr",
     "output_type": "stream",
     "text": [
      "100%|████████████████████████████████████████████████████████████████████████████████| 469/469 [02:11<00:00,  3.56it/s]\n",
      "100%|████████████████████████████████████████████████████████████████████████████████| 125/125 [00:27<00:00,  4.59it/s]\n"
     ]
    },
    {
     "name": "stdout",
     "output_type": "stream",
     "text": [
      "0.05098319609463215\n",
      "EPOCHS : 73 train_loss : 0.011286609502298746 valid_loss : 0.05098319609463215\n"
     ]
    },
    {
     "name": "stderr",
     "output_type": "stream",
     "text": [
      "100%|████████████████████████████████████████████████████████████████████████████████| 469/469 [02:11<00:00,  3.57it/s]\n",
      "100%|████████████████████████████████████████████████████████████████████████████████| 125/125 [00:27<00:00,  4.54it/s]\n"
     ]
    },
    {
     "name": "stdout",
     "output_type": "stream",
     "text": [
      "0.06597486914694309\n",
      "EPOCHS : 74 train_loss : 0.0141658902501882 valid_loss : 0.06597486914694309\n"
     ]
    },
    {
     "name": "stderr",
     "output_type": "stream",
     "text": [
      "100%|████████████████████████████████████████████████████████████████████████████████| 469/469 [02:11<00:00,  3.56it/s]\n",
      "100%|████████████████████████████████████████████████████████████████████████████████| 125/125 [00:27<00:00,  4.58it/s]\n"
     ]
    },
    {
     "name": "stdout",
     "output_type": "stream",
     "text": [
      "0.07720879825949668\n",
      "EPOCHS : 75 train_loss : 0.009467734623628894 valid_loss : 0.07720879825949668\n"
     ]
    },
    {
     "name": "stderr",
     "output_type": "stream",
     "text": [
      "100%|████████████████████████████████████████████████████████████████████████████████| 469/469 [02:11<00:00,  3.56it/s]\n",
      "100%|████████████████████████████████████████████████████████████████████████████████| 125/125 [00:27<00:00,  4.59it/s]\n"
     ]
    },
    {
     "name": "stdout",
     "output_type": "stream",
     "text": [
      "0.06040478335320949\n",
      "EPOCHS : 76 train_loss : 0.005057319538044268 valid_loss : 0.06040478335320949\n"
     ]
    },
    {
     "name": "stderr",
     "output_type": "stream",
     "text": [
      "100%|████████████████████████████████████████████████████████████████████████████████| 469/469 [02:11<00:00,  3.56it/s]\n",
      "100%|████████████████████████████████████████████████████████████████████████████████| 125/125 [00:27<00:00,  4.57it/s]\n"
     ]
    },
    {
     "name": "stdout",
     "output_type": "stream",
     "text": [
      "0.09008059978485107\n",
      "EPOCHS : 77 train_loss : 0.009420521215779949 valid_loss : 0.09008059978485107\n"
     ]
    },
    {
     "name": "stderr",
     "output_type": "stream",
     "text": [
      "100%|████████████████████████████████████████████████████████████████████████████████| 469/469 [02:11<00:00,  3.57it/s]\n",
      "100%|████████████████████████████████████████████████████████████████████████████████| 125/125 [00:27<00:00,  4.56it/s]\n"
     ]
    },
    {
     "name": "stdout",
     "output_type": "stream",
     "text": [
      "0.046759755283594134\n",
      "New min - model updated\n",
      "EPOCHS : 78 train_loss : 0.007472954793716036 valid_loss : 0.046759755283594134\n"
     ]
    },
    {
     "name": "stderr",
     "output_type": "stream",
     "text": [
      "100%|████████████████████████████████████████████████████████████████████████████████| 469/469 [02:11<00:00,  3.56it/s]\n",
      "100%|████████████████████████████████████████████████████████████████████████████████| 125/125 [00:27<00:00,  4.61it/s]\n"
     ]
    },
    {
     "name": "stdout",
     "output_type": "stream",
     "text": [
      "0.06347295218706131\n",
      "EPOCHS : 79 train_loss : 0.016241223215739103 valid_loss : 0.06347295218706131\n"
     ]
    },
    {
     "name": "stderr",
     "output_type": "stream",
     "text": [
      "100%|████████████████████████████████████████████████████████████████████████████████| 469/469 [02:10<00:00,  3.60it/s]\n",
      "100%|████████████████████████████████████████████████████████████████████████████████| 125/125 [00:27<00:00,  4.62it/s]"
     ]
    },
    {
     "name": "stdout",
     "output_type": "stream",
     "text": [
      "0.07025223308801651\n",
      "EPOCHS : 80 train_loss : 0.009953708131747967 valid_loss : 0.07025223308801651\n"
     ]
    },
    {
     "name": "stderr",
     "output_type": "stream",
     "text": [
      "\n"
     ]
    }
   ],
   "source": [
    "#Training\n",
    "if model_weights == False :\n",
    "    best_valid_loss = np.Inf\n",
    "    training_loss = []\n",
    "    validation_loss = []\n",
    "    for i in range(EPOCHS):\n",
    "      train_loss = train_fn(model, trainloader, optimizer, criterion)\n",
    "      valid_loss = eval_fn(model, validloader, criterion)\n",
    "      training_loss.append(train_loss)\n",
    "      validation_loss.append(valid_loss)\n",
    "      if early_stopper.early_stop(valid_loss, model.state_dict()):             \n",
    "          break\n",
    "          \n",
    "      print(f\"EPOCHS : {i+1} train_loss : {train_loss} valid_loss : {valid_loss}\")\n",
    "\n",
    "torch.save(early_stopper.get_model(), 'trained_model_on_20000_prova.pt')\n"
   ]
  },
  {
   "cell_type": "code",
   "execution_count": 21,
   "id": "b5f298eb-9e92-41c4-b43d-df7444372761",
   "metadata": {},
   "outputs": [
    {
     "data": {
      "image/png": "[encoded data removed]",
      "text/plain": [
       "<Figure size 1000x600 with 2 Axes>"
      ]
     },
     "metadata": {},
     "output_type": "display_data"
    }
   ],
   "source": [
    "#Salvataggio plottato dei dati\n",
    "if(model_weights == False):    \n",
    "    fig, axes = plt.subplots(2, 1, sharex= True, figsize=(10, 6))\n",
    "    axes[0].plot(training_loss)\n",
    "    axes[0].set_title('Training Loss - Triplet margin loss')\n",
    "    axes[1].plot(validation_loss)\n",
    "    axes[1].set_title('Validation Loss - Triplet margin loss')\n",
    "    plt.savefig('training_data_20000(biggan)-80-epochs.png')\n",
    "    plt.show()"
   ]
  },
  {
   "cell_type": "markdown",
   "id": "2ab00b09-2aa8-4cee-9159-46172537cbae",
   "metadata": {},
   "source": [
    "## Databse training embedded"
   ]
  },
  {
   "cell_type": "code",
   "execution_count": 22,
   "id": "34b5d02a-84f4-43ad-8aee-e69f83b185c9",
   "metadata": {},
   "outputs": [],
   "source": [
    "#QUESTA E' LA FUNZIONE PER GENERARE I VETTORI DI ENCODING\n",
    "# concatenating images name and relative encodings\n",
    "def get_encoding_csv(model, anc_img_names, dirFolder):\n",
    "  anc_img_names_arr = np.array(anc_img_names)\n",
    "  encodings = []\n",
    "\n",
    "  model.eval()\n",
    "\n",
    "  with torch.no_grad():\n",
    "    for i in tqdm(anc_img_names_arr):\n",
    "      A = io.imread(dirFolder + i)\n",
    "      A = np.expand_dims(A, 0)\n",
    "      A = torch.from_numpy(A.astype(np.int32)) / 255.0\n",
    "      A = A.to(DEVICE)\n",
    "      A_enc = model(A.unsqueeze(0))\n",
    "      encodings.append(A_enc.squeeze().cpu().detach().numpy())\n",
    "\n",
    "    encodings = np.array(encodings)\n",
    "    encodings = pd.DataFrame(encodings)\n",
    "    df_enc = pd.concat([anc_img_names, encodings], axis = 1)\n",
    "\n",
    "    return df_enc"
   ]
  },
  {
   "cell_type": "code",
   "execution_count": 23,
   "id": "5f80498d-2680-4a9c-8f79-409253582b6a",
   "metadata": {},
   "outputs": [
    {
     "name": "stderr",
     "output_type": "stream",
     "text": [
      "100%|████████████████████████████████████████████████████████████████████████████| 19000/19000 [03:33<00:00, 89.14it/s]\n"
     ]
    }
   ],
   "source": [
    "\n",
    "\n",
    "#QUI IL DATABASE COME CSV IN MODO TALE DA NON DOVER FARE QUESTA OPERAZIONE OGNI VOLTA\n",
    "#OVVIAMENTE, SE DEVO FARE UN NUOVO TRAINING DEVO ANCHE RICREARE GLI ENCODINGS\n",
    "if(model_weights == False):\n",
    "    df_enc.to_csv('database_new.csv', index = False)\n",
    "\n",
    "    df_enc = pd.read_csv('database_new.csv')\n",
    "    df_enc.head()   "
   ]
  },
  {
   "cell_type": "code",
   "execution_count": 51,
   "id": "502cef39-c97b-43db-aaa6-7e461ce4fce2",
   "metadata": {},
   "outputs": [
    {
     "name": "stderr",
     "output_type": "stream",
     "text": [
      "100%|████████████████████████████████████████████████████████████████████████████| 19000/19000 [03:38<00:00, 86.87it/s]\n"
     ]
    }
   ],
   "source": [
    "#QUI CREO IL DATABASE DI FEATURE VECTORS DEL TRAINING SET\n",
    "df_enc = get_encoding_csv(model, df['Anchor'], DATA_DIR)"
   ]
  },
  {
   "cell_type": "markdown",
   "id": "b0cbd74b-6013-47ba-a04d-a49d240103df",
   "metadata": {},
   "source": [
    "## Distances, Get image embeddings and searching in databse"
   ]
  },
  {
   "cell_type": "code",
   "execution_count": 52,
   "id": "266ff1c7-5028-4e29-bd61-c6cd6be716e5",
   "metadata": {},
   "outputs": [],
   "source": [
    "def euclidean_dist(img_enc, anc_enc_arr):\n",
    "    dist = np.sqrt(np.dot(img_enc-anc_enc_arr, (img_enc- anc_enc_arr).T))\n",
    "    #dist = np.dot(img_enc-anc_enc_arr, (img_enc- anc_enc_arr).T)\n",
    "    #dist = np.sqrt(dist)\n",
    "    return dist"
   ]
  },
  {
   "cell_type": "code",
   "execution_count": 53,
   "id": "530af24f-2baa-4e9b-8192-a9a5191ef6aa",
   "metadata": {},
   "outputs": [],
   "source": [
    "# return the embedding of the image\n",
    "def getImageEmbeddings(img, model):\n",
    "\n",
    "    img = np.expand_dims(img, 0)\n",
    "    img = torch.from_numpy(img) / 255\n",
    "    model.eval();\n",
    "\n",
    "    with torch.no_grad():\n",
    "        img = img.to(DEVICE)\n",
    "        img_enc = model(img.unsqueeze(0))\n",
    "        img_enc = img_enc.detach().cpu().numpy()\n",
    "        img_enc = np.array(img_enc)\n",
    "\n",
    "    return img_enc"
   ]
  },
  {
   "cell_type": "markdown",
   "id": "a47661ea-b0cf-411d-9983-0a58c431f5d2",
   "metadata": {},
   "source": [
    "## Adding 5 Latent Diffusion, 5 Taming Transformer"
   ]
  },
  {
   "cell_type": "code",
   "execution_count": 54,
   "id": "6dea2180-3708-421f-9726-81cc7a766db4",
   "metadata": {},
   "outputs": [
    {
     "data": {
      "text/html": [
       "<div>\n",
       "<style scoped>\n",
       "    .dataframe tbody tr th:only-of-type {\n",
       "        vertical-align: middle;\n",
       "    }\n",
       "\n",
       "    .dataframe tbody tr th {\n",
       "        vertical-align: top;\n",
       "    }\n",
       "\n",
       "    .dataframe thead th {\n",
       "        text-align: right;\n",
       "    }\n",
       "</style>\n",
       "<table border=\"1\" class=\"dataframe\">\n",
       "  <thead>\n",
       "    <tr style=\"text-align: right;\">\n",
       "      <th></th>\n",
       "      <th>0</th>\n",
       "      <th>1</th>\n",
       "      <th>2</th>\n",
       "      <th>3</th>\n",
       "      <th>4</th>\n",
       "      <th>5</th>\n",
       "      <th>6</th>\n",
       "      <th>7</th>\n",
       "      <th>8</th>\n",
       "      <th>9</th>\n",
       "      <th>...</th>\n",
       "      <th>502</th>\n",
       "      <th>503</th>\n",
       "      <th>504</th>\n",
       "      <th>505</th>\n",
       "      <th>506</th>\n",
       "      <th>507</th>\n",
       "      <th>508</th>\n",
       "      <th>509</th>\n",
       "      <th>510</th>\n",
       "      <th>511</th>\n",
       "    </tr>\n",
       "  </thead>\n",
       "  <tbody>\n",
       "    <tr>\n",
       "      <th>count</th>\n",
       "      <td>19000.000000</td>\n",
       "      <td>19000.000000</td>\n",
       "      <td>19000.000000</td>\n",
       "      <td>19000.000000</td>\n",
       "      <td>19000.000000</td>\n",
       "      <td>19000.000000</td>\n",
       "      <td>19000.000000</td>\n",
       "      <td>19000.000000</td>\n",
       "      <td>19000.000000</td>\n",
       "      <td>19000.000000</td>\n",
       "      <td>...</td>\n",
       "      <td>19000.000000</td>\n",
       "      <td>19000.000000</td>\n",
       "      <td>19000.000000</td>\n",
       "      <td>19000.000000</td>\n",
       "      <td>19000.000000</td>\n",
       "      <td>19000.000000</td>\n",
       "      <td>19000.000000</td>\n",
       "      <td>19000.000000</td>\n",
       "      <td>19000.000000</td>\n",
       "      <td>19000.000000</td>\n",
       "    </tr>\n",
       "    <tr>\n",
       "      <th>mean</th>\n",
       "      <td>-0.542810</td>\n",
       "      <td>-1.575520</td>\n",
       "      <td>-0.019506</td>\n",
       "      <td>-2.165428</td>\n",
       "      <td>3.065102</td>\n",
       "      <td>-0.683643</td>\n",
       "      <td>1.923489</td>\n",
       "      <td>12.451963</td>\n",
       "      <td>0.861686</td>\n",
       "      <td>-1.125570</td>\n",
       "      <td>...</td>\n",
       "      <td>-1.186313</td>\n",
       "      <td>1.701711</td>\n",
       "      <td>3.275336</td>\n",
       "      <td>1.342871</td>\n",
       "      <td>0.753270</td>\n",
       "      <td>0.802875</td>\n",
       "      <td>-0.799774</td>\n",
       "      <td>-0.391264</td>\n",
       "      <td>-0.380628</td>\n",
       "      <td>0.837302</td>\n",
       "    </tr>\n",
       "    <tr>\n",
       "      <th>std</th>\n",
       "      <td>0.019973</td>\n",
       "      <td>0.026147</td>\n",
       "      <td>0.026618</td>\n",
       "      <td>0.011133</td>\n",
       "      <td>0.027200</td>\n",
       "      <td>0.002836</td>\n",
       "      <td>0.023615</td>\n",
       "      <td>0.111589</td>\n",
       "      <td>0.035872</td>\n",
       "      <td>0.022486</td>\n",
       "      <td>...</td>\n",
       "      <td>0.025284</td>\n",
       "      <td>0.012129</td>\n",
       "      <td>0.021018</td>\n",
       "      <td>0.029484</td>\n",
       "      <td>0.033997</td>\n",
       "      <td>0.002423</td>\n",
       "      <td>0.026374</td>\n",
       "      <td>0.028335</td>\n",
       "      <td>0.023268</td>\n",
       "      <td>0.009563</td>\n",
       "    </tr>\n",
       "    <tr>\n",
       "      <th>min</th>\n",
       "      <td>-0.620046</td>\n",
       "      <td>-1.672716</td>\n",
       "      <td>-0.063890</td>\n",
       "      <td>-2.229414</td>\n",
       "      <td>3.026274</td>\n",
       "      <td>-0.695835</td>\n",
       "      <td>1.882264</td>\n",
       "      <td>12.279205</td>\n",
       "      <td>0.804430</td>\n",
       "      <td>-1.208324</td>\n",
       "      <td>...</td>\n",
       "      <td>-1.271643</td>\n",
       "      <td>1.683533</td>\n",
       "      <td>3.240071</td>\n",
       "      <td>1.298441</td>\n",
       "      <td>0.700827</td>\n",
       "      <td>0.797252</td>\n",
       "      <td>-0.888568</td>\n",
       "      <td>-0.494642</td>\n",
       "      <td>-0.452386</td>\n",
       "      <td>0.799033</td>\n",
       "    </tr>\n",
       "    <tr>\n",
       "      <th>25%</th>\n",
       "      <td>-0.560186</td>\n",
       "      <td>-1.599325</td>\n",
       "      <td>-0.046782</td>\n",
       "      <td>-2.173331</td>\n",
       "      <td>3.037524</td>\n",
       "      <td>-0.685608</td>\n",
       "      <td>1.899164</td>\n",
       "      <td>12.337353</td>\n",
       "      <td>0.824762</td>\n",
       "      <td>-1.144953</td>\n",
       "      <td>...</td>\n",
       "      <td>-1.208766</td>\n",
       "      <td>1.689154</td>\n",
       "      <td>3.254811</td>\n",
       "      <td>1.312205</td>\n",
       "      <td>0.717581</td>\n",
       "      <td>0.801172</td>\n",
       "      <td>-0.823278</td>\n",
       "      <td>-0.417414</td>\n",
       "      <td>-0.401700</td>\n",
       "      <td>0.829356</td>\n",
       "    </tr>\n",
       "    <tr>\n",
       "      <th>50%</th>\n",
       "      <td>-0.546994</td>\n",
       "      <td>-1.586337</td>\n",
       "      <td>-0.015304</td>\n",
       "      <td>-2.164783</td>\n",
       "      <td>3.076531</td>\n",
       "      <td>-0.682621</td>\n",
       "      <td>1.932994</td>\n",
       "      <td>12.513896</td>\n",
       "      <td>0.870638</td>\n",
       "      <td>-1.130891</td>\n",
       "      <td>...</td>\n",
       "      <td>-1.197251</td>\n",
       "      <td>1.706341</td>\n",
       "      <td>3.279932</td>\n",
       "      <td>1.352881</td>\n",
       "      <td>0.765754</td>\n",
       "      <td>0.801915</td>\n",
       "      <td>-0.810826</td>\n",
       "      <td>-0.398621</td>\n",
       "      <td>-0.389929</td>\n",
       "      <td>0.838301</td>\n",
       "    </tr>\n",
       "    <tr>\n",
       "      <th>75%</th>\n",
       "      <td>-0.522442</td>\n",
       "      <td>-1.548072</td>\n",
       "      <td>0.004436</td>\n",
       "      <td>-2.155414</td>\n",
       "      <td>3.087053</td>\n",
       "      <td>-0.681562</td>\n",
       "      <td>1.945602</td>\n",
       "      <td>12.545722</td>\n",
       "      <td>0.892940</td>\n",
       "      <td>-1.102669</td>\n",
       "      <td>...</td>\n",
       "      <td>-1.159949</td>\n",
       "      <td>1.713042</td>\n",
       "      <td>3.293870</td>\n",
       "      <td>1.369392</td>\n",
       "      <td>0.784301</td>\n",
       "      <td>0.804679</td>\n",
       "      <td>-0.772270</td>\n",
       "      <td>-0.361661</td>\n",
       "      <td>-0.356339</td>\n",
       "      <td>0.846342</td>\n",
       "    </tr>\n",
       "    <tr>\n",
       "      <th>max</th>\n",
       "      <td>-0.511632</td>\n",
       "      <td>-1.537562</td>\n",
       "      <td>0.084742</td>\n",
       "      <td>-2.147961</td>\n",
       "      <td>3.175776</td>\n",
       "      <td>-0.676558</td>\n",
       "      <td>2.013862</td>\n",
       "      <td>12.904867</td>\n",
       "      <td>1.009398</td>\n",
       "      <td>-1.093386</td>\n",
       "      <td>...</td>\n",
       "      <td>-1.150510</td>\n",
       "      <td>1.746411</td>\n",
       "      <td>3.369182</td>\n",
       "      <td>1.447562</td>\n",
       "      <td>0.875054</td>\n",
       "      <td>0.811540</td>\n",
       "      <td>-0.761541</td>\n",
       "      <td>-0.346293</td>\n",
       "      <td>-0.347416</td>\n",
       "      <td>0.855027</td>\n",
       "    </tr>\n",
       "  </tbody>\n",
       "</table>\n",
       "<p>8 rows × 512 columns</p>\n",
       "</div>"
      ],
      "text/plain": [
       "                0             1             2             3             4    \\\n",
       "count  19000.000000  19000.000000  19000.000000  19000.000000  19000.000000   \n",
       "mean      -0.542810     -1.575520     -0.019506     -2.165428      3.065102   \n",
       "std        0.019973      0.026147      0.026618      0.011133      0.027200   \n",
       "min       -0.620046     -1.672716     -0.063890     -2.229414      3.026274   \n",
       "25%       -0.560186     -1.599325     -0.046782     -2.173331      3.037524   \n",
       "50%       -0.546994     -1.586337     -0.015304     -2.164783      3.076531   \n",
       "75%       -0.522442     -1.548072      0.004436     -2.155414      3.087053   \n",
       "max       -0.511632     -1.537562      0.084742     -2.147961      3.175776   \n",
       "\n",
       "                5             6             7             8             9    \\\n",
       "count  19000.000000  19000.000000  19000.000000  19000.000000  19000.000000   \n",
       "mean      -0.683643      1.923489     12.451963      0.861686     -1.125570   \n",
       "std        0.002836      0.023615      0.111589      0.035872      0.022486   \n",
       "min       -0.695835      1.882264     12.279205      0.804430     -1.208324   \n",
       "25%       -0.685608      1.899164     12.337353      0.824762     -1.144953   \n",
       "50%       -0.682621      1.932994     12.513896      0.870638     -1.130891   \n",
       "75%       -0.681562      1.945602     12.545722      0.892940     -1.102669   \n",
       "max       -0.676558      2.013862     12.904867      1.009398     -1.093386   \n",
       "\n",
       "       ...           502           503           504           505  \\\n",
       "count  ...  19000.000000  19000.000000  19000.000000  19000.000000   \n",
       "mean   ...     -1.186313      1.701711      3.275336      1.342871   \n",
       "std    ...      0.025284      0.012129      0.021018      0.029484   \n",
       "min    ...     -1.271643      1.683533      3.240071      1.298441   \n",
       "25%    ...     -1.208766      1.689154      3.254811      1.312205   \n",
       "50%    ...     -1.197251      1.706341      3.279932      1.352881   \n",
       "75%    ...     -1.159949      1.713042      3.293870      1.369392   \n",
       "max    ...     -1.150510      1.746411      3.369182      1.447562   \n",
       "\n",
       "                506           507           508           509           510  \\\n",
       "count  19000.000000  19000.000000  19000.000000  19000.000000  19000.000000   \n",
       "mean       0.753270      0.802875     -0.799774     -0.391264     -0.380628   \n",
       "std        0.033997      0.002423      0.026374      0.028335      0.023268   \n",
       "min        0.700827      0.797252     -0.888568     -0.494642     -0.452386   \n",
       "25%        0.717581      0.801172     -0.823278     -0.417414     -0.401700   \n",
       "50%        0.765754      0.801915     -0.810826     -0.398621     -0.389929   \n",
       "75%        0.784301      0.804679     -0.772270     -0.361661     -0.356339   \n",
       "max        0.875054      0.811540     -0.761541     -0.346293     -0.347416   \n",
       "\n",
       "                511  \n",
       "count  19000.000000  \n",
       "mean       0.837302  \n",
       "std        0.009563  \n",
       "min        0.799033  \n",
       "25%        0.829356  \n",
       "50%        0.838301  \n",
       "75%        0.846342  \n",
       "max        0.855027  \n",
       "\n",
       "[8 rows x 512 columns]"
      ]
     },
     "execution_count": 54,
     "metadata": {},
     "output_type": "execute_result"
    }
   ],
   "source": [
    "(df_enc.describe())"
   ]
  },
  {
   "cell_type": "code",
   "execution_count": 55,
   "id": "06007d39-35db-4b5c-86b6-c0be867c0473",
   "metadata": {},
   "outputs": [],
   "source": [
    "current_dir = os.getcwd()\n",
    "fake_image_folder_latent = os.path.join(current_dir, \"dataset\", \"latent_diffusion\", \"latentdiff-t2i_spectrum\")\n",
    "fake_image_folder_taming = os.path.join(current_dir, \"dataset\", \"taming_transformer\", \"tt-ffhq_spectrum\") "
   ]
  },
  {
   "cell_type": "code",
   "execution_count": 56,
   "id": "5e2d20be-e3c2-4fdc-8df0-a24756e90cbc",
   "metadata": {},
   "outputs": [
    {
     "name": "stdout",
     "output_type": "stream",
     "text": [
      "10000\n",
      "50000\n",
      "['dataset\\\\taming_transformer\\\\tt-ffhq_spectrum\\\\img014654.jpg', 'dataset\\\\taming_transformer\\\\tt-ffhq_spectrum\\\\img001460.jpg', 'dataset\\\\taming_transformer\\\\tt-ffhq_spectrum\\\\img037732.jpg', 'dataset\\\\taming_transformer\\\\tt-ffhq_spectrum\\\\img023665.jpg', 'dataset\\\\taming_transformer\\\\tt-ffhq_spectrum\\\\img021060.jpg']\n",
      "['dataset\\\\latent_diffusion\\\\latentdiff-t2i_spectrum\\\\img008385.jpg', 'dataset\\\\latent_diffusion\\\\latentdiff-t2i_spectrum\\\\img007333.jpg', 'dataset\\\\latent_diffusion\\\\latentdiff-t2i_spectrum\\\\img006790.jpg', 'dataset\\\\latent_diffusion\\\\latentdiff-t2i_spectrum\\\\img009864.jpg', 'dataset\\\\latent_diffusion\\\\latentdiff-t2i_spectrum\\\\img007202.jpg']\n",
      "512\n"
     ]
    }
   ],
   "source": [
    "# Ottieniamo i percorsi relativi per le immagini fake+\n",
    "fake_image_paths_latent = []\n",
    "for root, dirs, files in os.walk(fake_image_folder_latent):\n",
    "    for filename in files:\n",
    "        if filename.endswith(\".jpg\"):\n",
    "            fake_image_paths_latent.append(os.path.relpath(os.path.join(root, filename)))\n",
    "\n",
    "# Ottieniamo i percorsi relativi per le immagini fake+\n",
    "fake_image_paths_taming = []\n",
    "for root, dirs, files in os.walk(fake_image_folder_taming):\n",
    "    for filename in files:\n",
    "        if filename.endswith(\".jpg\"):\n",
    "            fake_image_paths_taming.append(os.path.relpath(os.path.join(root, filename)))\n",
    "\n",
    "print(len(fake_image_paths_latent))\n",
    "print(len(fake_image_paths_taming))\n",
    "\n",
    "num_random_elemnt = 5\n",
    "\n",
    "taming_random = random.sample(fake_image_paths_taming,num_random_elemnt)\n",
    "latent_random = random.sample(fake_image_paths_latent,num_random_elemnt)\n",
    "\n",
    "print(taming_random)\n",
    "print(latent_random)\n",
    "\n",
    "\n",
    "embeddings_new_taming_latent_imgs = []\n",
    "\n",
    "for i in range(num_random_elemnt):\n",
    "    taming_random_img = io.imread(taming_random[i])\n",
    "    latent_random_img = io.imread(latent_random[i])\n",
    "    taming_random_img_embed = getImageEmbeddings(taming_random_img, model)[0,:]\n",
    "    latent_random_img_embed = getImageEmbeddings(latent_random_img, model)[0,:]\n",
    "    embeddings_new_taming_latent_imgs.append(taming_random_img_embed)\n",
    "    embeddings_new_taming_latent_imgs.append(latent_random_img_embed)\n",
    "\n",
    "\n",
    "print(len(embeddings_new_taming_latent_imgs[0]))\n",
    "    \n"
   ]
  },
  {
   "cell_type": "code",
   "execution_count": 118,
   "id": "d72b902d-95af-4b27-aa0e-ee4fe7f332df",
   "metadata": {},
   "outputs": [
    {
     "name": "stdout",
     "output_type": "stream",
     "text": [
      "19010\n"
     ]
    },
    {
     "data": {
      "text/html": [
       "<div>\n",
       "<style scoped>\n",
       "    .dataframe tbody tr th:only-of-type {\n",
       "        vertical-align: middle;\n",
       "    }\n",
       "\n",
       "    .dataframe tbody tr th {\n",
       "        vertical-align: top;\n",
       "    }\n",
       "\n",
       "    .dataframe thead th {\n",
       "        text-align: right;\n",
       "    }\n",
       "</style>\n",
       "<table border=\"1\" class=\"dataframe\">\n",
       "  <thead>\n",
       "    <tr style=\"text-align: right;\">\n",
       "      <th></th>\n",
       "      <th>0</th>\n",
       "      <th>1</th>\n",
       "      <th>2</th>\n",
       "      <th>3</th>\n",
       "      <th>4</th>\n",
       "      <th>5</th>\n",
       "      <th>6</th>\n",
       "      <th>7</th>\n",
       "      <th>8</th>\n",
       "      <th>9</th>\n",
       "      <th>...</th>\n",
       "      <th>502</th>\n",
       "      <th>503</th>\n",
       "      <th>504</th>\n",
       "      <th>505</th>\n",
       "      <th>506</th>\n",
       "      <th>507</th>\n",
       "      <th>508</th>\n",
       "      <th>509</th>\n",
       "      <th>510</th>\n",
       "      <th>511</th>\n",
       "    </tr>\n",
       "  </thead>\n",
       "  <tbody>\n",
       "    <tr>\n",
       "      <th>count</th>\n",
       "      <td>19010.000000</td>\n",
       "      <td>19010.000000</td>\n",
       "      <td>19010.000000</td>\n",
       "      <td>19010.000000</td>\n",
       "      <td>19010.000000</td>\n",
       "      <td>19010.000000</td>\n",
       "      <td>19010.000000</td>\n",
       "      <td>19010.000000</td>\n",
       "      <td>19010.000000</td>\n",
       "      <td>19010.000000</td>\n",
       "      <td>...</td>\n",
       "      <td>19010.000000</td>\n",
       "      <td>19010.000000</td>\n",
       "      <td>19010.000000</td>\n",
       "      <td>19010.000000</td>\n",
       "      <td>19010.000000</td>\n",
       "      <td>19010.000000</td>\n",
       "      <td>19010.000000</td>\n",
       "      <td>19010.000000</td>\n",
       "      <td>19010.000000</td>\n",
       "      <td>19010.000000</td>\n",
       "    </tr>\n",
       "    <tr>\n",
       "      <th>mean</th>\n",
       "      <td>-0.542805</td>\n",
       "      <td>-1.575513</td>\n",
       "      <td>-0.019512</td>\n",
       "      <td>-2.165426</td>\n",
       "      <td>3.065095</td>\n",
       "      <td>-0.683642</td>\n",
       "      <td>1.923481</td>\n",
       "      <td>12.451929</td>\n",
       "      <td>0.861679</td>\n",
       "      <td>-1.125565</td>\n",
       "      <td>...</td>\n",
       "      <td>-1.186306</td>\n",
       "      <td>1.701707</td>\n",
       "      <td>3.275328</td>\n",
       "      <td>1.342864</td>\n",
       "      <td>0.753261</td>\n",
       "      <td>0.802874</td>\n",
       "      <td>-0.799767</td>\n",
       "      <td>-0.391257</td>\n",
       "      <td>-0.380621</td>\n",
       "      <td>0.837304</td>\n",
       "    </tr>\n",
       "    <tr>\n",
       "      <th>std</th>\n",
       "      <td>0.019972</td>\n",
       "      <td>0.026146</td>\n",
       "      <td>0.026615</td>\n",
       "      <td>0.011133</td>\n",
       "      <td>0.027199</td>\n",
       "      <td>0.002836</td>\n",
       "      <td>0.023613</td>\n",
       "      <td>0.111583</td>\n",
       "      <td>0.035869</td>\n",
       "      <td>0.022485</td>\n",
       "      <td>...</td>\n",
       "      <td>0.025282</td>\n",
       "      <td>0.012128</td>\n",
       "      <td>0.021017</td>\n",
       "      <td>0.029482</td>\n",
       "      <td>0.033994</td>\n",
       "      <td>0.002423</td>\n",
       "      <td>0.026372</td>\n",
       "      <td>0.028333</td>\n",
       "      <td>0.023267</td>\n",
       "      <td>0.009562</td>\n",
       "    </tr>\n",
       "    <tr>\n",
       "      <th>min</th>\n",
       "      <td>-0.620046</td>\n",
       "      <td>-1.672716</td>\n",
       "      <td>-0.063890</td>\n",
       "      <td>-2.229414</td>\n",
       "      <td>3.026274</td>\n",
       "      <td>-0.695835</td>\n",
       "      <td>1.882264</td>\n",
       "      <td>12.279205</td>\n",
       "      <td>0.804430</td>\n",
       "      <td>-1.208324</td>\n",
       "      <td>...</td>\n",
       "      <td>-1.271643</td>\n",
       "      <td>1.683533</td>\n",
       "      <td>3.240071</td>\n",
       "      <td>1.298441</td>\n",
       "      <td>0.700827</td>\n",
       "      <td>0.797252</td>\n",
       "      <td>-0.888568</td>\n",
       "      <td>-0.494642</td>\n",
       "      <td>-0.452386</td>\n",
       "      <td>0.799033</td>\n",
       "    </tr>\n",
       "    <tr>\n",
       "      <th>25%</th>\n",
       "      <td>-0.560185</td>\n",
       "      <td>-1.599325</td>\n",
       "      <td>-0.046781</td>\n",
       "      <td>-2.173327</td>\n",
       "      <td>3.037526</td>\n",
       "      <td>-0.685607</td>\n",
       "      <td>1.899164</td>\n",
       "      <td>12.337356</td>\n",
       "      <td>0.824766</td>\n",
       "      <td>-1.144951</td>\n",
       "      <td>...</td>\n",
       "      <td>-1.208765</td>\n",
       "      <td>1.689154</td>\n",
       "      <td>3.254811</td>\n",
       "      <td>1.312206</td>\n",
       "      <td>0.717582</td>\n",
       "      <td>0.801171</td>\n",
       "      <td>-0.823276</td>\n",
       "      <td>-0.417413</td>\n",
       "      <td>-0.401699</td>\n",
       "      <td>0.829358</td>\n",
       "    </tr>\n",
       "    <tr>\n",
       "      <th>50%</th>\n",
       "      <td>-0.546960</td>\n",
       "      <td>-1.586299</td>\n",
       "      <td>-0.015370</td>\n",
       "      <td>-2.164765</td>\n",
       "      <td>3.076513</td>\n",
       "      <td>-0.682618</td>\n",
       "      <td>1.932865</td>\n",
       "      <td>12.513860</td>\n",
       "      <td>0.870625</td>\n",
       "      <td>-1.130830</td>\n",
       "      <td>...</td>\n",
       "      <td>-1.197246</td>\n",
       "      <td>1.706299</td>\n",
       "      <td>3.279881</td>\n",
       "      <td>1.352823</td>\n",
       "      <td>0.765749</td>\n",
       "      <td>0.801914</td>\n",
       "      <td>-0.810814</td>\n",
       "      <td>-0.398554</td>\n",
       "      <td>-0.389909</td>\n",
       "      <td>0.838307</td>\n",
       "    </tr>\n",
       "    <tr>\n",
       "      <th>75%</th>\n",
       "      <td>-0.522445</td>\n",
       "      <td>-1.548077</td>\n",
       "      <td>0.004434</td>\n",
       "      <td>-2.155414</td>\n",
       "      <td>3.087051</td>\n",
       "      <td>-0.681562</td>\n",
       "      <td>1.945599</td>\n",
       "      <td>12.545720</td>\n",
       "      <td>0.892940</td>\n",
       "      <td>-1.102671</td>\n",
       "      <td>...</td>\n",
       "      <td>-1.159950</td>\n",
       "      <td>1.713042</td>\n",
       "      <td>3.293867</td>\n",
       "      <td>1.369385</td>\n",
       "      <td>0.784300</td>\n",
       "      <td>0.804676</td>\n",
       "      <td>-0.772273</td>\n",
       "      <td>-0.361661</td>\n",
       "      <td>-0.356340</td>\n",
       "      <td>0.846341</td>\n",
       "    </tr>\n",
       "    <tr>\n",
       "      <th>max</th>\n",
       "      <td>-0.511632</td>\n",
       "      <td>-1.537562</td>\n",
       "      <td>0.084742</td>\n",
       "      <td>-2.147961</td>\n",
       "      <td>3.175776</td>\n",
       "      <td>-0.676558</td>\n",
       "      <td>2.013862</td>\n",
       "      <td>12.904867</td>\n",
       "      <td>1.009398</td>\n",
       "      <td>-1.093386</td>\n",
       "      <td>...</td>\n",
       "      <td>-1.150510</td>\n",
       "      <td>1.746411</td>\n",
       "      <td>3.369182</td>\n",
       "      <td>1.447562</td>\n",
       "      <td>0.875054</td>\n",
       "      <td>0.811540</td>\n",
       "      <td>-0.761541</td>\n",
       "      <td>-0.346293</td>\n",
       "      <td>-0.347416</td>\n",
       "      <td>0.855027</td>\n",
       "    </tr>\n",
       "  </tbody>\n",
       "</table>\n",
       "<p>8 rows × 512 columns</p>\n",
       "</div>"
      ],
      "text/plain": [
       "                0             1             2             3             4    \\\n",
       "count  19010.000000  19010.000000  19010.000000  19010.000000  19010.000000   \n",
       "mean      -0.542805     -1.575513     -0.019512     -2.165426      3.065095   \n",
       "std        0.019972      0.026146      0.026615      0.011133      0.027199   \n",
       "min       -0.620046     -1.672716     -0.063890     -2.229414      3.026274   \n",
       "25%       -0.560185     -1.599325     -0.046781     -2.173327      3.037526   \n",
       "50%       -0.546960     -1.586299     -0.015370     -2.164765      3.076513   \n",
       "75%       -0.522445     -1.548077      0.004434     -2.155414      3.087051   \n",
       "max       -0.511632     -1.537562      0.084742     -2.147961      3.175776   \n",
       "\n",
       "                5             6             7             8             9    \\\n",
       "count  19010.000000  19010.000000  19010.000000  19010.000000  19010.000000   \n",
       "mean      -0.683642      1.923481     12.451929      0.861679     -1.125565   \n",
       "std        0.002836      0.023613      0.111583      0.035869      0.022485   \n",
       "min       -0.695835      1.882264     12.279205      0.804430     -1.208324   \n",
       "25%       -0.685607      1.899164     12.337356      0.824766     -1.144951   \n",
       "50%       -0.682618      1.932865     12.513860      0.870625     -1.130830   \n",
       "75%       -0.681562      1.945599     12.545720      0.892940     -1.102671   \n",
       "max       -0.676558      2.013862     12.904867      1.009398     -1.093386   \n",
       "\n",
       "       ...           502           503           504           505  \\\n",
       "count  ...  19010.000000  19010.000000  19010.000000  19010.000000   \n",
       "mean   ...     -1.186306      1.701707      3.275328      1.342864   \n",
       "std    ...      0.025282      0.012128      0.021017      0.029482   \n",
       "min    ...     -1.271643      1.683533      3.240071      1.298441   \n",
       "25%    ...     -1.208765      1.689154      3.254811      1.312206   \n",
       "50%    ...     -1.197246      1.706299      3.279881      1.352823   \n",
       "75%    ...     -1.159950      1.713042      3.293867      1.369385   \n",
       "max    ...     -1.150510      1.746411      3.369182      1.447562   \n",
       "\n",
       "                506           507           508           509           510  \\\n",
       "count  19010.000000  19010.000000  19010.000000  19010.000000  19010.000000   \n",
       "mean       0.753261      0.802874     -0.799767     -0.391257     -0.380621   \n",
       "std        0.033994      0.002423      0.026372      0.028333      0.023267   \n",
       "min        0.700827      0.797252     -0.888568     -0.494642     -0.452386   \n",
       "25%        0.717582      0.801171     -0.823276     -0.417413     -0.401699   \n",
       "50%        0.765749      0.801914     -0.810814     -0.398554     -0.389909   \n",
       "75%        0.784300      0.804676     -0.772273     -0.361661     -0.356340   \n",
       "max        0.875054      0.811540     -0.761541     -0.346293     -0.347416   \n",
       "\n",
       "                511  \n",
       "count  19010.000000  \n",
       "mean       0.837304  \n",
       "std        0.009562  \n",
       "min        0.799033  \n",
       "25%        0.829358  \n",
       "50%        0.838307  \n",
       "75%        0.846341  \n",
       "max        0.855027  \n",
       "\n",
       "[8 rows x 512 columns]"
      ]
     },
     "execution_count": 118,
     "metadata": {},
     "output_type": "execute_result"
    }
   ],
   "source": [
    "df_latent_taming_new = pd.DataFrame(embeddings_new_taming_latent_imgs)\n",
    "df_latent_taming_new.describe()\n",
    "\n",
    "df_enc_plus_latent_taming = pd.concat([df_enc, df_latent_taming_new], ignore_index=True)\n",
    "print(len(df_enc_plus_latent_taming))\n",
    "(df_enc_plus_latent_taming.describe())"
   ]
  },
  {
   "cell_type": "code",
   "execution_count": 105,
   "id": "947e62e6-0929-4948-9082-8702b5aa7868",
   "metadata": {},
   "outputs": [],
   "source": [
    "# return the closest image in the database given an img_enc\n",
    "def searchInDatabase(img_enc, database):\n",
    "    anc_enc_arr = database.iloc[:, 1:].to_numpy()\n",
    "    anc_img_names = database['Anchor']\n",
    "\n",
    "    distance = []\n",
    "    for i in range(anc_enc_arr.shape[0]):\n",
    "        dist = euclidean_dist(img_enc, anc_enc_arr[i : i+1, :])\n",
    "        distance = np.append(distance, dist)\n",
    "    \n",
    "    closest_idx = np.argsort(distance)\n",
    "\n",
    "    return database['Anchor'][closest_idx[0]]"
   ]
  },
  {
   "cell_type": "markdown",
   "id": "a4fbf479-aa23-4513-a36d-c8338f176856",
   "metadata": {},
   "source": [
    "# Defining test list"
   ]
  },
  {
   "cell_type": "code",
   "execution_count": 106,
   "id": "7e6b1c4e-d9c8-4423-b0c8-2b45b8ee44ab",
   "metadata": {},
   "outputs": [],
   "source": [
    "df_enc_plus_latent_taming.to_csv(\"df_new_enc_database.csv\", index = False)"
   ]
  },
  {
   "cell_type": "code",
   "execution_count": 107,
   "id": "f933c291-9b48-4d17-a4f3-0e7f15258a4e",
   "metadata": {},
   "outputs": [],
   "source": [
    "#DataTestReal = 'test_set_taming_transformer.csv'\n",
    "#test_df = pd.DataFrame(combined_images, columns = [''])"
   ]
  },
  {
   "cell_type": "code",
   "execution_count": 112,
   "id": "dd431763-4465-4d76-b0ee-0ee36f5bf636",
   "metadata": {},
   "outputs": [],
   "source": [
    "test = \"test_set_latentDiff.csv\"\n",
    "test_latent = pd.read_csv(test, header = None)"
   ]
  },
  {
   "cell_type": "markdown",
   "id": "f2fac103-ae1f-488a-ad75-c242c93737f8",
   "metadata": {},
   "source": [
    "## Testing"
   ]
  },
  {
   "cell_type": "code",
   "execution_count": 113,
   "id": "151523b3-3b35-4385-8e4b-944955e4f3e3",
   "metadata": {},
   "outputs": [],
   "source": [
    "database = df_enc_plus_latent_taming\n",
    "(database.describe())\n",
    "y_true = ['fake'] * 500 + ['real'] * 500\n",
    "y_pred = []"
   ]
  },
  {
   "cell_type": "code",
   "execution_count": 114,
   "id": "d475fe4f-af74-49b2-8658-eaf9df6dac04",
   "metadata": {},
   "outputs": [],
   "source": [
    "def test_images(test_df, start_index, end_index, database, model):\n",
    "    for index, row in tqdm(test_df.iloc[start_index:end_index].iterrows(), total=end_index-start_index):\n",
    "        img_name = row[0] # Accesso diretto alla prima (e unica) colonna\n",
    "\n",
    "        # Verifica se il nome del file è valido\n",
    "        if pd.isnull(img_name) or not os.path.isfile(img_name):\n",
    "            print(f\"Invalid image file path at index {index}: {img_name}\")\n",
    "            y_pred.append(\"error\")\n",
    "            continue\n",
    "        \n",
    "        # Leggi e processa l'immagine\n",
    "        img = io.imread(img_name)\n",
    "\n",
    "        # Ottieni gli embeddings dell'immagine\n",
    "        img_enc = getImageEmbeddings(img, model)\n",
    "\n",
    "        # Cerca nel database\n",
    "        closestLabel = searchInDatabase(img_enc, database)\n",
    "       \n",
    "        # Aggiungi la predizione alla lista\n",
    "        if \"coco\" in closestLabel:\n",
    "            y_pred.append(\"real\")\n",
    "        else:\n",
    "            y_pred.append(\"fake\")"
   ]
  },
  {
   "cell_type": "code",
   "execution_count": 115,
   "id": "c8f0808d-3a4b-40b3-9da5-156e06c27dc8",
   "metadata": {},
   "outputs": [
    {
     "name": "stderr",
     "output_type": "stream",
     "text": [
      "  2%|█▉                                                                              | 24/1000 [00:06<04:29,  3.62it/s]\n"
     ]
    },
    {
     "ename": "TypeError",
     "evalue": "argument of type 'float' is not iterable",
     "output_type": "error",
     "traceback": [
      "\u001b[1;31m---------------------------------------------------------------------------\u001b[0m",
      "\u001b[1;31mTypeError\u001b[0m                                 Traceback (most recent call last)",
      "Cell \u001b[1;32mIn[115], line 1\u001b[0m\n\u001b[1;32m----> 1\u001b[0m \u001b[43mtest_images\u001b[49m\u001b[43m(\u001b[49m\u001b[43mtest_latent\u001b[49m\u001b[43m,\u001b[49m\u001b[43m \u001b[49m\u001b[38;5;241;43m0\u001b[39;49m\u001b[43m,\u001b[49m\u001b[43m \u001b[49m\u001b[38;5;241;43m1000\u001b[39;49m\u001b[43m,\u001b[49m\u001b[43m \u001b[49m\u001b[43mdatabase\u001b[49m\u001b[43m,\u001b[49m\u001b[43m \u001b[49m\u001b[43mmodel\u001b[49m\u001b[43m)\u001b[49m\n",
      "Cell \u001b[1;32mIn[114], line 21\u001b[0m, in \u001b[0;36mtest_images\u001b[1;34m(test_df, start_index, end_index, database, model)\u001b[0m\n\u001b[0;32m     18\u001b[0m closestLabel \u001b[38;5;241m=\u001b[39m searchInDatabase(img_enc, database)\n\u001b[0;32m     20\u001b[0m \u001b[38;5;66;03m# Aggiungi la predizione alla lista\u001b[39;00m\n\u001b[1;32m---> 21\u001b[0m \u001b[38;5;28;01mif\u001b[39;00m \u001b[38;5;124;43m\"\u001b[39;49m\u001b[38;5;124;43mcoco\u001b[39;49m\u001b[38;5;124;43m\"\u001b[39;49m\u001b[43m \u001b[49m\u001b[38;5;129;43;01min\u001b[39;49;00m\u001b[43m \u001b[49m\u001b[43mclosestLabel\u001b[49m:\n\u001b[0;32m     22\u001b[0m     y_pred\u001b[38;5;241m.\u001b[39mappend(\u001b[38;5;124m\"\u001b[39m\u001b[38;5;124mreal\u001b[39m\u001b[38;5;124m\"\u001b[39m)\n\u001b[0;32m     23\u001b[0m \u001b[38;5;28;01melse\u001b[39;00m:\n",
      "\u001b[1;31mTypeError\u001b[0m: argument of type 'float' is not iterable"
     ]
    }
   ],
   "source": [
    "test_images(test_latent, 0, 1000, database, model)"
   ]
  },
  {
   "cell_type": "code",
   "execution_count": 96,
   "id": "cf5211ed-dc2f-46a8-9e9b-5b1da8f4e251",
   "metadata": {},
   "outputs": [
    {
     "name": "stdout",
     "output_type": "stream",
     "text": [
      "(500,)\n",
      "(500,)\n",
      "(1000,)\n"
     ]
    }
   ],
   "source": [
    "#Creo i vettori di ground truth\n",
    "y_true = np.array(['fake'] * 500)\n",
    "print(y_true.shape)\n",
    "\n",
    "temp = np.array(['real'] * 500)\n",
    "print(temp.shape)\n",
    "\n",
    "y_true = np.concatenate([y_true, temp])\n",
    "print(y_true.shape)\n",
    "\n",
    "#Calcolo la matrice di confusione\n",
    "from sklearn.metrics import confusion_matrix\n",
    "cm = confusion_matrix(y_true, y_pred, labels=[\"real\", \"fake\"])"
   ]
  },
  {
   "cell_type": "code",
   "execution_count": 97,
   "id": "d3f6919e-0506-4f06-9eae-9be47d1d063a",
   "metadata": {},
   "outputs": [
    {
     "data": {
      "image/png": "[encoded data removed]",
      "text/plain": [
       "<Figure size 800x600 with 2 Axes>"
      ]
     },
     "metadata": {},
     "output_type": "display_data"
    }
   ],
   "source": [
    "#Estraggo dalla matrice di confusione i True Negative, False Positive, False Negative, True Positive\n",
    "TN, FP, FN, TP = confusion_matrix(y_true, y_pred, labels=[\"real\", \"fake\"]).ravel()\n",
    "\n",
    "# Plotto la matrice di confusione\n",
    "plt.figure(figsize=(8, 6))\n",
    "sns.heatmap(cm, annot=True, fmt='d', cmap='Blues', xticklabels=[\"real\", \"fake\"], yticklabels=[\"real\", \"fake\"])\n",
    "plt.xlabel('Predicted Labels')\n",
    "plt.ylabel('True Labels')\n",
    "plt.title('Confusion Matrix')\n",
    "# Salvo l'immagine\n",
    "plt.savefig('confusion_matrix_1000(latentDiffusion-coco)_new_database.png')\n",
    "plt.show()"
   ]
  },
  {
   "cell_type": "code",
   "execution_count": 67,
   "id": "746a9283-0526-418d-bb15-8f69fd29c349",
   "metadata": {},
   "outputs": [
    {
     "data": {
      "image/png": "[encoded data removed]",
      "text/plain": [
       "<Figure size 1000x600 with 1 Axes>"
      ]
     },
     "metadata": {},
     "output_type": "display_data"
    }
   ],
   "source": [
    "#Calcolo alcune metriche per vedere come si comporta\n",
    "accuracy = round((TP + TN) /(TP + TN + FP + FN), 4) * 100\n",
    "precision = round((TP) / (TP + FP), 4) * 100\n",
    "sensitivy_recall = round((TP) / (TP + FN), 4) * 100\n",
    "specificity = round((TN) / (TN + FP) * 100, 4)\n",
    "F1_score = round((2* precision * sensitivy_recall) / (precision + sensitivy_recall), 2)\n",
    "\n",
    "metrics = {\n",
    "    \"Accuracy\": accuracy,\n",
    "    \"Precision\": precision,\n",
    "    \"Sensitivity/Recall\": sensitivy_recall,\n",
    "    \"Specificity\": specificity,\n",
    "    \"F1_score\": F1_score\n",
    "}\n",
    "\n",
    "# Nomi delle metriche\n",
    "labels = list(metrics.keys())\n",
    "\n",
    "# Valori delle metriche\n",
    "values = list(metrics.values())\n",
    "\n",
    "# Creazione dell'istogramma\n",
    "plt.figure(figsize=(10,6))\n",
    "plt.bar(labels, values, color=['blue', 'green', 'red', 'purple', 'orange'], width=0.5)\n",
    "\n",
    "# Aggiunta delle etichette\n",
    "for i in range(len(labels)):\n",
    "    plt.text(i, values[i], f'{values[i]}%', ha = 'center', va = 'bottom')\n",
    "\n",
    "# Titoli e etichette degli assi\n",
    "plt.title('Metriche')\n",
    "plt.xlabel('Metrica')\n",
    "plt.ylabel('Valore')\n",
    "\n",
    "plt.savefig('Metrics_with_latentDiff-coco_new_database.png')\n",
    "\n",
    "# Mostra l'istogramma\n",
    "plt.show()"
   ]
  },
  {
   "cell_type": "code",
   "execution_count": 68,
   "id": "57a4506a-1c28-4fa1-ab9e-99224e321b74",
   "metadata": {},
   "outputs": [
    {
     "name": "stdout",
     "output_type": "stream",
     "text": [
      "{'Accuracy': 99.5, 'Precision': 99.6, 'Sensitivity_recall': 99.4, 'Specificity': 99.6, 'F1_score': 99.5}\n"
     ]
    }
   ],
   "source": [
    "print({\"Accuracy\":accuracy,\"Precision\":precision,\"Sensitivity_recall\":sensitivy_recall, \"Specificity\": specificity, \"F1_score\":F1_score})"
   ]
  },
  {
   "cell_type": "code",
   "execution_count": null,
   "id": "6739554c-11f9-433b-bf5e-86a1ee26c74a",
   "metadata": {},
   "outputs": [],
   "source": []
  }
 ],
 "metadata": {
  "kernelspec": {
   "display_name": "Python 3 (ipykernel)",
   "language": "python",
   "name": "python3"
  },
  "language_info": {
   "codemirror_mode": {
    "name": "ipython",
    "version": 3
   },
   "file_extension": ".py",
   "mimetype": "text/x-python",
   "name": "python",
   "nbconvert_exporter": "python",
   "pygments_lexer": "ipython3",
   "version": "3.11.9"
  }
 },
 "nbformat": 4,
 "nbformat_minor": 5
}
