{
 "cells": [
  {
   "cell_type": "markdown",
   "id": "63860f09-8177-4f03-957b-d2d1c9fa54b3",
   "metadata": {},
   "source": [
    "Nel seguente file avviene la creazione del dataset \"spectrum_paths_dataset.csv\" contenente 20.000 percorsi delle immagini degli spettri di Fourier. 10.000 percorsi di immagini fake sono stati presi dalla cartella \"biggan_spectrum\" e 10.000 reali sono stati presi dalla cartella \"tt-coco_spectrum\"."
   ]
  },
  {
   "cell_type": "code",
   "execution_count": 1,
   "id": "703f6a37-718a-4baf-b602-7ed53fc89197",
   "metadata": {},
   "outputs": [],
   "source": [
    "import pandas as pd\n",
    "import os\n",
    "import random"
   ]
  },
  {
   "cell_type": "code",
   "execution_count": 2,
   "id": "f54f91a7-1417-4bff-a0a1-5ca41495ce8d",
   "metadata": {},
   "outputs": [],
   "source": [
    "current_dir = os.getcwd()\n",
    "# Definiamo le cartelle delle immagini\n",
    "real_image_folder = os.path.join(current_dir, \"dataset\", \"taming_transformer\", \"tt-coco_spectrum\")\n",
    "fake_image_folder = os.path.join(current_dir, \"dataset\", \"big_gan\", \"big\", \"biggan-spectrum\")\n",
    "\n",
    "# Ottieniamo le liste di percorsi per le immagini reali e fake\n",
    "real_image_paths = []\n",
    "fake_image_paths = []"
   ]
  },
  {
   "cell_type": "code",
   "execution_count": 3,
   "id": "f0d75623-b3a0-4dc2-b94f-264b02658507",
   "metadata": {},
   "outputs": [],
   "source": [
    "# Ottieniamo i percorsi relativi per le immagini reali\n",
    "for root, dirs, files in os.walk(real_image_folder):\n",
    "    for filename in files:\n",
    "        if filename.endswith(\".jpg\"):\n",
    "            real_image_paths.append(os.path.relpath(os.path.join(root, filename)))\n",
    "\n",
    "# Ottieniamo i percorsi relativi per le immagini fake\n",
    "for root, dirs, files in os.walk(fake_image_folder):\n",
    "    for filename in files:\n",
    "        if filename.endswith(\".jpg\"):\n",
    "            fake_image_paths.append(os.path.relpath(os.path.join(root, filename)))\n"
   ]
  },
  {
   "cell_type": "code",
   "execution_count": 4,
   "id": "2475f413-eae7-4d4a-8bbf-7a56be0bf1e2",
   "metadata": {},
   "outputs": [],
   "source": [
    "# Creiamo una lista combinata di percorsi di immagini reali e fake\n",
    "combined_image_paths = real_image_paths + fake_image_paths"
   ]
  },
  {
   "cell_type": "code",
   "execution_count": 5,
   "id": "309a6d23-a3d9-4972-ab11-2e8a041ee76c",
   "metadata": {},
   "outputs": [],
   "source": [
    "# Creiamo una lista di tuple che rappresentano le righe del dataframe\n",
    "rows = []\n",
    "for _ in range(10000):\n",
    "    anchor_real = random.choice(real_image_paths)\n",
    "    positive_real = random.choice(real_image_paths)\n",
    "    negative_fake = random.choice(fake_image_paths)\n",
    "    rows.append((anchor_real, positive_real, negative_fake))\n",
    "\n",
    "for _ in range(10000):\n",
    "    anchor_fake = random.choice(fake_image_paths)\n",
    "    positive_fake = random.choice(fake_image_paths)\n",
    "    negative_real = random.choice(real_image_paths)\n",
    "    rows.append((anchor_fake, positive_fake, negative_real))\n",
    "\n",
    "# Mescoliamo casualmente le righe\n",
    "random.shuffle(rows)\n"
   ]
  },
  {
   "cell_type": "code",
   "execution_count": 6,
   "id": "4d3fd564-8034-48cf-90e1-577f39f1396c",
   "metadata": {},
   "outputs": [],
   "source": [
    "# Creiamo il dataframe utilizzando le righe mescolate\n",
    "df = pd.DataFrame(rows, columns=['Anchor', 'Positive', 'Negative'])\n",
    "\n",
    "# Salviamo il dataframe in un file CSV\n",
    "df.to_csv('spectrum_paths_dataset.csv', index=False)"
   ]
  }
 ],
 "metadata": {
  "kernelspec": {
   "display_name": "Python 3 (ipykernel)",
   "language": "python",
   "name": "python3"
  },
  "language_info": {
   "codemirror_mode": {
    "name": "ipython",
    "version": 3
   },
   "file_extension": ".py",
   "mimetype": "text/x-python",
   "name": "python",
   "nbconvert_exporter": "python",
   "pygments_lexer": "ipython3",
   "version": "3.11.9"
  }
 },
 "nbformat": 4,
 "nbformat_minor": 5
}
