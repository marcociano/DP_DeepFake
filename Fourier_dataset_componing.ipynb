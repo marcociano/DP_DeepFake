{
 "cells": [
  {
   "cell_type": "markdown",
   "id": "63860f09-8177-4f03-957b-d2d1c9fa54b3",
   "metadata": {},
   "source": [
    "Nel seguente file avviene la creazione del dataset \"spectrum_train_dataset.csv\" contenente 60.000 path di immagini traslate nello spazio delle frequenze con Fourier. 30.000 path di immagini fake sono stati presi dalle cartelle \"biggan_spectrum\", latendiff_spectrum\" e \"tt-cc_spectrum\" (taming_transformer\"), e 30.000 reali sono stati presi dalla cartella \"coco\", più nello specifico dalla sotto-cartella \"train_spectrum\"."
   ]
  },
  {
   "cell_type": "code",
   "execution_count": 1,
   "id": "703f6a37-718a-4baf-b602-7ed53fc89197",
   "metadata": {},
   "outputs": [],
   "source": [
    "import pandas as pd\n",
    "import os\n",
    "import random"
   ]
  },
  {
   "cell_type": "code",
   "execution_count": 2,
   "id": "f54f91a7-1417-4bff-a0a1-5ca41495ce8d",
   "metadata": {},
   "outputs": [],
   "source": [
    "current_dir = os.getcwd()\n",
    "# Definiamo le cartelle delle immagini\n",
    "real_image_folder = os.path.join(current_dir, \"dataset\", \"coco\", \"coco\", \"coco2017\", \"train_spectrum\") #Spettri di immagini reali\n",
    "biggan_spectrum_path = os.path.join(current_dir, \"dataset\", \"big_gan\", \"big\", \"biggan-spectrum\") #Spettri di immagini generate dal modello BigGan\n",
    "latentdiff_spectrum_path = os.path.join(current_dir, \"dataset\", \"latent_diffusion\", \"latentdiff_spectrum\") #Spettri di immagini generate dal modello Latent Diffusion\n",
    "tamingtransformer_spectrum_path = os.path.join(current_dir, \"dataset\", \"taming_transformer\", \"tt-cc_spectrum\") #Spettri di immagini generate dal modello Tamming Transformer\n",
    "\n",
    "fake_image_folder = [biggan_spectrum_path, latentdiff_spectrum_path, tamingtransformer_spectrum_path]"
   ]
  },
  {
   "cell_type": "code",
   "execution_count": 3,
   "id": "f0d75623-b3a0-4dc2-b94f-264b02658507",
   "metadata": {},
   "outputs": [],
   "source": [
    "# Ottieniamo i percorsi relativi per le immagini reali\n",
    "real_image_paths = []\n",
    "for root, dirs, files in os.walk(real_image_folder):\n",
    "    for filename in files:\n",
    "        if filename.endswith(\".jpg\"):\n",
    "            real_image_paths.append(os.path.relpath(os.path.join(root, filename)))\n",
    "\n",
    "# Ottieniamo i percorsi relativi per le immagini fake\n",
    "fake_image_paths = []\n",
    "for folder in fake_image_folder:\n",
    "    for root, dirs, files in os.walk(folder):\n",
    "        for filename in files:\n",
    "            if filename.endswith(\".jpg\"):\n",
    "                fake_image_paths.append(os.path.relpath(os.path.join(root, filename)))"
   ]
  },
  {
   "cell_type": "code",
   "execution_count": 4,
   "id": "2475f413-eae7-4d4a-8bbf-7a56be0bf1e2",
   "metadata": {},
   "outputs": [],
   "source": [
    "# Mescoliamo casualmente i percorsi delle immagini\n",
    "random.shuffle(real_image_paths)\n",
    "random.shuffle(fake_image_paths)"
   ]
  },
  {
   "cell_type": "code",
   "execution_count": 5,
   "id": "bf8ccc1d-0a20-44dd-827c-282eb03810b7",
   "metadata": {},
   "outputs": [],
   "source": [
    "# Prendiamo casualmente 30.000 percorsi per ogni cartella\n",
    "real_image_paths = random.sample(real_image_paths, 30000)\n",
    "fake_image_paths = random.sample(fake_image_paths, 30000)"
   ]
  },
  {
   "cell_type": "code",
   "execution_count": 6,
   "id": "309a6d23-a3d9-4972-ab11-2e8a041ee76c",
   "metadata": {},
   "outputs": [],
   "source": [
    "# Creiamo una lista di tuple che rappresentano le righe del dataframe\n",
    "rows = []\n",
    "for _ in range(30000):\n",
    "    anchor_real = random.choice(real_image_paths)\n",
    "    positive_real = random.choice(real_image_paths)\n",
    "    negative_fake = random.choice(fake_image_paths)\n",
    "    rows.append((anchor_real, positive_real, negative_fake))\n",
    "\n",
    "for _ in range(30000):\n",
    "    anchor_fake = random.choice(fake_image_paths)\n",
    "    positive_fake = random.choice(fake_image_paths)\n",
    "    negative_real = random.choice(real_image_paths)\n",
    "    rows.append((anchor_fake, positive_fake, negative_real))\n",
    "\n",
    "# Mescoliamo casualmente le righe\n",
    "random.shuffle(rows)\n"
   ]
  },
  {
   "cell_type": "code",
   "execution_count": 7,
   "id": "4d3fd564-8034-48cf-90e1-577f39f1396c",
   "metadata": {},
   "outputs": [],
   "source": [
    "# Creiamo il dataframe utilizzando le righe mescolate\n",
    "df = pd.DataFrame(rows, columns=['Anchor', 'Positive', 'Negative'])\n",
    "\n",
    "# Salviamo il dataframe in un file CSV\n",
    "df.to_csv('spectrum_train_dataset.csv', index=False)"
   ]
  }
 ],
 "metadata": {
  "kernelspec": {
   "display_name": "Python 3 (ipykernel)",
   "language": "python",
   "name": "python3"
  },
  "language_info": {
   "codemirror_mode": {
    "name": "ipython",
    "version": 3
   },
   "file_extension": ".py",
   "mimetype": "text/x-python",
   "name": "python",
   "nbconvert_exporter": "python",
   "pygments_lexer": "ipython3",
   "version": "3.11.9"
  }
 },
 "nbformat": 4,
 "nbformat_minor": 5
}
