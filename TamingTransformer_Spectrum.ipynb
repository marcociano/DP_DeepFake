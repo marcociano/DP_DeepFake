{
 "cells": [
  {
   "cell_type": "code",
   "execution_count": 1,
   "id": "d7f971ea-3c1a-48ff-ae5a-91da1c9de8a9",
   "metadata": {},
   "outputs": [],
   "source": [
    "import os\n",
    "import cv2\n",
    "import numpy as np\n",
    "import matplotlib.pyplot as plt\n",
    "from scipy.ndimage import gaussian_filter, median_filter\n",
    "from numpy.fft import fft2, fftshift\n",
    "from tqdm import tqdm\n",
    "from skimage.restoration import (\n",
    "    denoise_tv_chambolle,\n",
    "    denoise_bilateral,\n",
    "    denoise_wavelet,\n",
    "    estimate_sigma,\n",
    ")"
   ]
  },
  {
   "cell_type": "code",
   "execution_count": 2,
   "id": "f3e8db26-eee6-416f-beb2-73a74722ade3",
   "metadata": {},
   "outputs": [],
   "source": [
    "# Funzione per la trasformata di Fourier e la visualizzazione dello spettro\n",
    "def fourier_transform(image):\n",
    "    # Calcola la trasformata di Fourier\n",
    "    f_transform = np.fft.fft2(image)\n",
    "    f_shift = np.fft.fftshift(f_transform)\n",
    "    \n",
    "    # Calcola lo spettro di magnitudine\n",
    "    magnitude_spectrum = 20 * np.log(np.abs(f_shift))\n",
    "    \n",
    "    return magnitude_spectrum"
   ]
  },
  {
   "cell_type": "code",
   "execution_count": 3,
   "id": "ef121c11-ac0c-4592-99b5-38c386553ce5",
   "metadata": {},
   "outputs": [],
   "source": [
    "# Funzione per elaborare tutte le immagini nelle sotto-cartelle\n",
    "def process_images_in_subfolders(input_folder, output_folder):\n",
    "    # Trova tutte le immagini nei percorsi specificati\n",
    "    image_files = []\n",
    "    for root, dirs, files in os.walk(input_folder):\n",
    "        for file_name in files:\n",
    "            if file_name.endswith(\".jpg\"):\n",
    "                image_files.append(os.path.join(root, file_name))\n",
    "\n",
    "    # Inizializza la barra di avanzamento con il numero totale di immagini\n",
    "    with tqdm(total=len(image_files), desc=\"Images processing...\") as pbar:\n",
    "        # Ciclo attraverso tutte le immagini e le elabora\n",
    "        for image_path in image_files:\n",
    "            # Carica l'immagine\n",
    "            image = cv2.imread(image_path, cv2.IMREAD_GRAYSCALE)\n",
    "\n",
    "            # Applico il filtro gaussiano per effettuare il denoising dell'immagine\n",
    "            currentResidual = image - gaussian_filter(image, sigma=50)\n",
    "            \n",
    "            # Applica la trasformata di Fourier\n",
    "            spectrum = fourier_transform(currentResidual)\n",
    "            \n",
    "            # Crea il percorso di output mantenendo la struttura delle sotto-cartelle\n",
    "            relative_path = os.path.relpath(os.path.dirname(image_path), input_folder)\n",
    "            output_subfolder = os.path.join(output_folder, relative_path)\n",
    "            output_path = os.path.join(output_subfolder, os.path.basename(image_path))\n",
    "            \n",
    "            # Controlla se la sotto-cartella di output esiste, altrimenti lòa crea\n",
    "            if not os.path.exists(output_subfolder):\n",
    "                os.makedirs(output_subfolder)\n",
    "            \n",
    "            # Salva l'immagine nello spazio delle frequenze\n",
    "            cv2.imwrite(output_path, spectrum)\n",
    "            \n",
    "            # Aggiorna la barra di avanzamento\n",
    "            pbar.update(1)"
   ]
  },
  {
   "cell_type": "markdown",
   "id": "5b07171d-b96c-4976-b7f7-ef8803b543da",
   "metadata": {},
   "source": [
    "\n",
    "\n",
    "Qui di seguito vengono salvati all'interno della directory di destinazione \"tt-cc_spectrum\" gli spettri delle immagini generate con il modello Taming Tranformer"
   ]
  },
  {
   "cell_type": "code",
   "execution_count": 4,
   "id": "111c77b6-f4e8-4b5d-a40d-d5741125733e",
   "metadata": {},
   "outputs": [
    {
     "name": "stderr",
     "output_type": "stream",
     "text": [
      "Images processing...: 100%|██████████████████████████████████████████████████████| 50000/50000 [15:04<00:00, 55.26it/s]\n"
     ]
    }
   ],
   "source": [
    "# Ottiene il percorso corrente dello script\n",
    "current_dir = os.getcwd()\n",
    "\n",
    "# Cartella contenente le immagini create con la Taming Transformer\n",
    "input_folder = os.path.join(current_dir, \"dataset\", \"taming_transformer\", \"tt-cc\", \"cin_k600_p1.0_a0.05_fid5.20\")\n",
    "\n",
    "# Cartella di destinazione per le immagini nello spazio delle frequenze; \n",
    "# ho creato la cartella biggan-spectrum, la quale mantiene la stessa gerarchia della cartella\n",
    "# contenente le immagini prima della trasformazione\n",
    "output_folder = os.path.join(current_dir, \"dataset\", \"taming_transformer\", \"tt-cc_spectrum\")\n",
    "\n",
    "# Controlla che la cartella di destinazione esiste, altrimenti la crea\n",
    "if not os.path.exists(output_folder):\n",
    "    os.makedirs(output_folder)\n",
    "\n",
    "# Elabora tutte le immagini nelle sotto-cartelle\n",
    "process_images_in_subfolders(input_folder, output_folder)"
   ]
  },
  {
   "cell_type": "markdown",
   "id": "17679050-5456-4aee-ba88-7096562d0fc7",
   "metadata": {},
   "source": [
    "\n",
    "\n",
    "Qui di seguito vengono salvati all'interno della directory di destinazione \"tt-coco_spectrum\""
   ]
  },
  {
   "cell_type": "code",
   "execution_count": 5,
   "id": "5713b683-e928-4def-b68e-61c2fec49936",
   "metadata": {},
   "outputs": [
    {
     "name": "stderr",
     "output_type": "stream",
     "text": [
      "Images processing...: 100%|████████████████████████████████████████████████████████| 5000/5000 [01:29<00:00, 55.97it/s]\n"
     ]
    }
   ],
   "source": [
    "# Cartella contenente le immagini create con la Taming Transformer\n",
    "input_folder = os.path.join(current_dir, \"dataset\", \"taming_transformer\", \"tt-coco\", \"samples_nopix\")\n",
    "\n",
    "# Cartella di destinazione per le immagini nello spazio delle frequenze; \n",
    "# ho creato la cartella biggan-spectrum, la quale mantiene la stessa gerarchia della cartella\n",
    "# contenente le immagini prima della trasformazione\n",
    "output_folder = os.path.join(current_dir, \"dataset\", \"taming_transformer\", \"tt-coco_spectrum\")\n",
    "\n",
    "# Controlla che la cartella di destinazione esiste, altrimenti la crea\n",
    "if not os.path.exists(output_folder):\n",
    "    os.makedirs(output_folder)\n",
    "\n",
    "# Elabora tutte le immagini nelle sotto-cartelle\n",
    "process_images_in_subfolders(input_folder, output_folder)"
   ]
  },
  {
   "cell_type": "markdown",
   "id": "3c1e7686-d831-456d-a478-d8b2dfb3a5ca",
   "metadata": {},
   "source": [
    "\n",
    "\n",
    "Qui di seguito vengono salvati all'interno della directory di destinazione \"tt-ffhq_spectrum\""
   ]
  },
  {
   "cell_type": "code",
   "execution_count": 6,
   "id": "b1e3cd8c-593d-497d-872a-850195515005",
   "metadata": {},
   "outputs": [
    {
     "name": "stderr",
     "output_type": "stream",
     "text": [
      "Images processing...: 100%|██████████████████████████████████████████████████████| 50000/50000 [14:45<00:00, 56.46it/s]\n"
     ]
    }
   ],
   "source": [
    "# Cartella contenente le immagini create con la Taming Transformer\n",
    "input_folder = os.path.join(current_dir, \"dataset\", \"taming_transformer\", \"tt-ffhq\", \"ffhq_k300_p1.0_fid9.6\")\n",
    "\n",
    "# Cartella di destinazione per le immagini nello spazio delle frequenze; \n",
    "# ho creato la cartella biggan-spectrum, la quale mantiene la stessa gerarchia della cartella\n",
    "# contenente le immagini prima della trasformazione\n",
    "output_folder = os.path.join(current_dir, \"dataset\", \"taming_transformer\", \"tt-ffhq_spectrum\")\n",
    "\n",
    "# Controlla che la cartella di destinazione esiste, altrimenti la crea\n",
    "if not os.path.exists(output_folder):\n",
    "    os.makedirs(output_folder)\n",
    "\n",
    "# Elabora tutte le immagini nelle sotto-cartelle\n",
    "process_images_in_subfolders(input_folder, output_folder)"
   ]
  },
  {
   "cell_type": "code",
   "execution_count": null,
   "id": "7e052719-4d9f-44df-8353-bd0f19ab091f",
   "metadata": {},
   "outputs": [],
   "source": []
  }
 ],
 "metadata": {
  "kernelspec": {
   "display_name": "Python 3 (ipykernel)",
   "language": "python",
   "name": "python3"
  },
  "language_info": {
   "codemirror_mode": {
    "name": "ipython",
    "version": 3
   },
   "file_extension": ".py",
   "mimetype": "text/x-python",
   "name": "python",
   "nbconvert_exporter": "python",
   "pygments_lexer": "ipython3",
   "version": "3.11.9"
  }
 },
 "nbformat": 4,
 "nbformat_minor": 5
}
